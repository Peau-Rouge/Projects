{
 "cells": [
  {
   "cell_type": "code",
   "execution_count": 1,
   "metadata": {},
   "outputs": [],
   "source": [
    "import pandas as pd\n",
    "import numpy as np\n",
    "from sklearn.model_selection import train_test_split\n",
    "from sklearn.metrics import confusion_matrix, accuracy_score\n",
    "from sklearn.metrics import balanced_accuracy_score\n",
    "from sklearn.metrics import precision_score, recall_score, f1_score\n",
    "from sklearn.metrics import confusion_matrix\n",
    "import seaborn as sns; sns.set()\n",
    "from pylab import rcParams\n",
    "from sklearn.ensemble import RandomForestClassifier\n",
    "from sklearn import metrics\n",
    "import matplotlib.pyplot as plt\n",
    "from sklearn.neighbors import KNeighborsClassifier\n",
    "from sklearn.ensemble import GradientBoostingClassifier\n",
    "from sklearn.naive_bayes import GaussianNB\n",
    "from sklearn.svm import SVC\n",
    "from sklearn.model_selection import cross_val_score\n",
    "from sklearn.model_selection import cross_val_predict\n",
    "\n",
    "from sklearn.neural_network import MLPClassifier\n",
    "from sklearn.metrics import classification_report\n",
    "from sklearn import tree\n",
    "\n",
    "from sklearn.model_selection import GridSearchCV\n"
   ]
  },
  {
   "cell_type": "code",
   "execution_count": 2,
   "metadata": {},
   "outputs": [],
   "source": [
    "import warnings\n",
    "warnings.filterwarnings(\"ignore\")"
   ]
  },
  {
   "cell_type": "markdown",
   "metadata": {},
   "source": [
    "The Inter-American Development Bank is asking the Kaggle community for help with income qualification for some of the world's poorest families. Are you up for the challenge?\n",
    "\n",
    "Here's the backstory: Many social programs have a hard time making sure the right people are given enough aid. It’s especially tricky when a program focuses on the poorest segment of the population. The world’s poorest typically can’t provide the necessary income and expense records to prove that they qualify.\n",
    "\n",
    "In Latin America, one popular method uses an algorithm to verify income qualification. It’s called the Proxy Means Test (or PMT). With PMT, agencies use a model that considers a family’s observable household attributes like the material of their walls and ceiling, or the assets found in the home to classify them and predict their level of need.\n",
    "\n",
    "While this is an improvement, accuracy remains a problem as the region’s population grows and poverty declines.\n",
    "\n",
    "To improve on PMT, the IDB (the largest source of development financing for Latin America and the Caribbean) has turned to the Kaggle community. They believe that new methods beyond traditional econometrics, based on a dataset of Costa Rican household characteristics, might help improve PMT’s performance.\n",
    "\n",
    "Beyond Costa Rica, many countries face this same problem of inaccurately assessing social need. If Kagglers can generate an improvement, the new algorithm could be implemented in other countries around the world."
   ]
  },
  {
   "cell_type": "markdown",
   "metadata": {},
   "source": [
    "## Importing datasets"
   ]
  },
  {
   "cell_type": "code",
   "execution_count": 3,
   "metadata": {},
   "outputs": [],
   "source": [
    "costa_train = pd.read_csv('../data/train.csv')"
   ]
  },
  {
   "cell_type": "code",
   "execution_count": 4,
   "metadata": {},
   "outputs": [],
   "source": [
    "costa_test = pd.read_csv('../data/test.csv')"
   ]
  },
  {
   "cell_type": "code",
   "execution_count": 5,
   "metadata": {},
   "outputs": [
    {
     "data": {
      "text/plain": [
       "(9557, 143)"
      ]
     },
     "execution_count": 5,
     "metadata": {},
     "output_type": "execute_result"
    }
   ],
   "source": [
    "costa_train.shape"
   ]
  },
  {
   "cell_type": "code",
   "execution_count": 6,
   "metadata": {},
   "outputs": [
    {
     "data": {
      "text/plain": [
       "(23856, 142)"
      ]
     },
     "execution_count": 6,
     "metadata": {},
     "output_type": "execute_result"
    }
   ],
   "source": [
    "costa_test.shape"
   ]
  },
  {
   "cell_type": "code",
   "execution_count": 7,
   "metadata": {},
   "outputs": [
    {
     "data": {
      "text/html": [
       "<div>\n",
       "<style scoped>\n",
       "    .dataframe tbody tr th:only-of-type {\n",
       "        vertical-align: middle;\n",
       "    }\n",
       "\n",
       "    .dataframe tbody tr th {\n",
       "        vertical-align: top;\n",
       "    }\n",
       "\n",
       "    .dataframe thead th {\n",
       "        text-align: right;\n",
       "    }\n",
       "</style>\n",
       "<table border=\"1\" class=\"dataframe\">\n",
       "  <thead>\n",
       "    <tr style=\"text-align: right;\">\n",
       "      <th></th>\n",
       "      <th>Id</th>\n",
       "      <th>v2a1</th>\n",
       "      <th>hacdor</th>\n",
       "      <th>rooms</th>\n",
       "      <th>hacapo</th>\n",
       "      <th>v14a</th>\n",
       "      <th>refrig</th>\n",
       "      <th>v18q</th>\n",
       "      <th>v18q1</th>\n",
       "      <th>r4h1</th>\n",
       "      <th>...</th>\n",
       "      <th>SQBescolari</th>\n",
       "      <th>SQBage</th>\n",
       "      <th>SQBhogar_total</th>\n",
       "      <th>SQBedjefe</th>\n",
       "      <th>SQBhogar_nin</th>\n",
       "      <th>SQBovercrowding</th>\n",
       "      <th>SQBdependency</th>\n",
       "      <th>SQBmeaned</th>\n",
       "      <th>agesq</th>\n",
       "      <th>Target</th>\n",
       "    </tr>\n",
       "  </thead>\n",
       "  <tbody>\n",
       "    <tr>\n",
       "      <th>0</th>\n",
       "      <td>ID_279628684</td>\n",
       "      <td>190000.0</td>\n",
       "      <td>0</td>\n",
       "      <td>3</td>\n",
       "      <td>0</td>\n",
       "      <td>1</td>\n",
       "      <td>1</td>\n",
       "      <td>0</td>\n",
       "      <td>NaN</td>\n",
       "      <td>0</td>\n",
       "      <td>...</td>\n",
       "      <td>100</td>\n",
       "      <td>1849</td>\n",
       "      <td>1</td>\n",
       "      <td>100</td>\n",
       "      <td>0</td>\n",
       "      <td>1.000000</td>\n",
       "      <td>0.0</td>\n",
       "      <td>100.0</td>\n",
       "      <td>1849</td>\n",
       "      <td>4</td>\n",
       "    </tr>\n",
       "    <tr>\n",
       "      <th>1</th>\n",
       "      <td>ID_f29eb3ddd</td>\n",
       "      <td>135000.0</td>\n",
       "      <td>0</td>\n",
       "      <td>4</td>\n",
       "      <td>0</td>\n",
       "      <td>1</td>\n",
       "      <td>1</td>\n",
       "      <td>1</td>\n",
       "      <td>1.0</td>\n",
       "      <td>0</td>\n",
       "      <td>...</td>\n",
       "      <td>144</td>\n",
       "      <td>4489</td>\n",
       "      <td>1</td>\n",
       "      <td>144</td>\n",
       "      <td>0</td>\n",
       "      <td>1.000000</td>\n",
       "      <td>64.0</td>\n",
       "      <td>144.0</td>\n",
       "      <td>4489</td>\n",
       "      <td>4</td>\n",
       "    </tr>\n",
       "    <tr>\n",
       "      <th>2</th>\n",
       "      <td>ID_68de51c94</td>\n",
       "      <td>NaN</td>\n",
       "      <td>0</td>\n",
       "      <td>8</td>\n",
       "      <td>0</td>\n",
       "      <td>1</td>\n",
       "      <td>1</td>\n",
       "      <td>0</td>\n",
       "      <td>NaN</td>\n",
       "      <td>0</td>\n",
       "      <td>...</td>\n",
       "      <td>121</td>\n",
       "      <td>8464</td>\n",
       "      <td>1</td>\n",
       "      <td>0</td>\n",
       "      <td>0</td>\n",
       "      <td>0.250000</td>\n",
       "      <td>64.0</td>\n",
       "      <td>121.0</td>\n",
       "      <td>8464</td>\n",
       "      <td>4</td>\n",
       "    </tr>\n",
       "    <tr>\n",
       "      <th>3</th>\n",
       "      <td>ID_d671db89c</td>\n",
       "      <td>180000.0</td>\n",
       "      <td>0</td>\n",
       "      <td>5</td>\n",
       "      <td>0</td>\n",
       "      <td>1</td>\n",
       "      <td>1</td>\n",
       "      <td>1</td>\n",
       "      <td>1.0</td>\n",
       "      <td>0</td>\n",
       "      <td>...</td>\n",
       "      <td>81</td>\n",
       "      <td>289</td>\n",
       "      <td>16</td>\n",
       "      <td>121</td>\n",
       "      <td>4</td>\n",
       "      <td>1.777778</td>\n",
       "      <td>1.0</td>\n",
       "      <td>121.0</td>\n",
       "      <td>289</td>\n",
       "      <td>4</td>\n",
       "    </tr>\n",
       "    <tr>\n",
       "      <th>4</th>\n",
       "      <td>ID_d56d6f5f5</td>\n",
       "      <td>180000.0</td>\n",
       "      <td>0</td>\n",
       "      <td>5</td>\n",
       "      <td>0</td>\n",
       "      <td>1</td>\n",
       "      <td>1</td>\n",
       "      <td>1</td>\n",
       "      <td>1.0</td>\n",
       "      <td>0</td>\n",
       "      <td>...</td>\n",
       "      <td>121</td>\n",
       "      <td>1369</td>\n",
       "      <td>16</td>\n",
       "      <td>121</td>\n",
       "      <td>4</td>\n",
       "      <td>1.777778</td>\n",
       "      <td>1.0</td>\n",
       "      <td>121.0</td>\n",
       "      <td>1369</td>\n",
       "      <td>4</td>\n",
       "    </tr>\n",
       "    <tr>\n",
       "      <th>5</th>\n",
       "      <td>ID_ec05b1a7b</td>\n",
       "      <td>180000.0</td>\n",
       "      <td>0</td>\n",
       "      <td>5</td>\n",
       "      <td>0</td>\n",
       "      <td>1</td>\n",
       "      <td>1</td>\n",
       "      <td>1</td>\n",
       "      <td>1.0</td>\n",
       "      <td>0</td>\n",
       "      <td>...</td>\n",
       "      <td>121</td>\n",
       "      <td>1444</td>\n",
       "      <td>16</td>\n",
       "      <td>121</td>\n",
       "      <td>4</td>\n",
       "      <td>1.777778</td>\n",
       "      <td>1.0</td>\n",
       "      <td>121.0</td>\n",
       "      <td>1444</td>\n",
       "      <td>4</td>\n",
       "    </tr>\n",
       "    <tr>\n",
       "      <th>6</th>\n",
       "      <td>ID_e9e0c1100</td>\n",
       "      <td>180000.0</td>\n",
       "      <td>0</td>\n",
       "      <td>5</td>\n",
       "      <td>0</td>\n",
       "      <td>1</td>\n",
       "      <td>1</td>\n",
       "      <td>1</td>\n",
       "      <td>1.0</td>\n",
       "      <td>0</td>\n",
       "      <td>...</td>\n",
       "      <td>4</td>\n",
       "      <td>64</td>\n",
       "      <td>16</td>\n",
       "      <td>121</td>\n",
       "      <td>4</td>\n",
       "      <td>1.777778</td>\n",
       "      <td>1.0</td>\n",
       "      <td>121.0</td>\n",
       "      <td>64</td>\n",
       "      <td>4</td>\n",
       "    </tr>\n",
       "    <tr>\n",
       "      <th>7</th>\n",
       "      <td>ID_3e04e571e</td>\n",
       "      <td>130000.0</td>\n",
       "      <td>1</td>\n",
       "      <td>2</td>\n",
       "      <td>0</td>\n",
       "      <td>1</td>\n",
       "      <td>1</td>\n",
       "      <td>0</td>\n",
       "      <td>NaN</td>\n",
       "      <td>0</td>\n",
       "      <td>...</td>\n",
       "      <td>0</td>\n",
       "      <td>49</td>\n",
       "      <td>16</td>\n",
       "      <td>81</td>\n",
       "      <td>4</td>\n",
       "      <td>16.000000</td>\n",
       "      <td>1.0</td>\n",
       "      <td>100.0</td>\n",
       "      <td>49</td>\n",
       "      <td>4</td>\n",
       "    </tr>\n",
       "    <tr>\n",
       "      <th>8</th>\n",
       "      <td>ID_1284f8aad</td>\n",
       "      <td>130000.0</td>\n",
       "      <td>1</td>\n",
       "      <td>2</td>\n",
       "      <td>0</td>\n",
       "      <td>1</td>\n",
       "      <td>1</td>\n",
       "      <td>0</td>\n",
       "      <td>NaN</td>\n",
       "      <td>0</td>\n",
       "      <td>...</td>\n",
       "      <td>81</td>\n",
       "      <td>900</td>\n",
       "      <td>16</td>\n",
       "      <td>81</td>\n",
       "      <td>4</td>\n",
       "      <td>16.000000</td>\n",
       "      <td>1.0</td>\n",
       "      <td>100.0</td>\n",
       "      <td>900</td>\n",
       "      <td>4</td>\n",
       "    </tr>\n",
       "    <tr>\n",
       "      <th>9</th>\n",
       "      <td>ID_51f52fdd2</td>\n",
       "      <td>130000.0</td>\n",
       "      <td>1</td>\n",
       "      <td>2</td>\n",
       "      <td>0</td>\n",
       "      <td>1</td>\n",
       "      <td>1</td>\n",
       "      <td>0</td>\n",
       "      <td>NaN</td>\n",
       "      <td>0</td>\n",
       "      <td>...</td>\n",
       "      <td>121</td>\n",
       "      <td>784</td>\n",
       "      <td>16</td>\n",
       "      <td>81</td>\n",
       "      <td>4</td>\n",
       "      <td>16.000000</td>\n",
       "      <td>1.0</td>\n",
       "      <td>100.0</td>\n",
       "      <td>784</td>\n",
       "      <td>4</td>\n",
       "    </tr>\n",
       "  </tbody>\n",
       "</table>\n",
       "<p>10 rows × 143 columns</p>\n",
       "</div>"
      ],
      "text/plain": [
       "             Id      v2a1  hacdor  rooms  hacapo  v14a  refrig  v18q  v18q1  \\\n",
       "0  ID_279628684  190000.0       0      3       0     1       1     0    NaN   \n",
       "1  ID_f29eb3ddd  135000.0       0      4       0     1       1     1    1.0   \n",
       "2  ID_68de51c94       NaN       0      8       0     1       1     0    NaN   \n",
       "3  ID_d671db89c  180000.0       0      5       0     1       1     1    1.0   \n",
       "4  ID_d56d6f5f5  180000.0       0      5       0     1       1     1    1.0   \n",
       "5  ID_ec05b1a7b  180000.0       0      5       0     1       1     1    1.0   \n",
       "6  ID_e9e0c1100  180000.0       0      5       0     1       1     1    1.0   \n",
       "7  ID_3e04e571e  130000.0       1      2       0     1       1     0    NaN   \n",
       "8  ID_1284f8aad  130000.0       1      2       0     1       1     0    NaN   \n",
       "9  ID_51f52fdd2  130000.0       1      2       0     1       1     0    NaN   \n",
       "\n",
       "   r4h1  ...  SQBescolari  SQBage  SQBhogar_total  SQBedjefe  SQBhogar_nin  \\\n",
       "0     0  ...          100    1849               1        100             0   \n",
       "1     0  ...          144    4489               1        144             0   \n",
       "2     0  ...          121    8464               1          0             0   \n",
       "3     0  ...           81     289              16        121             4   \n",
       "4     0  ...          121    1369              16        121             4   \n",
       "5     0  ...          121    1444              16        121             4   \n",
       "6     0  ...            4      64              16        121             4   \n",
       "7     0  ...            0      49              16         81             4   \n",
       "8     0  ...           81     900              16         81             4   \n",
       "9     0  ...          121     784              16         81             4   \n",
       "\n",
       "   SQBovercrowding  SQBdependency  SQBmeaned  agesq  Target  \n",
       "0         1.000000            0.0      100.0   1849       4  \n",
       "1         1.000000           64.0      144.0   4489       4  \n",
       "2         0.250000           64.0      121.0   8464       4  \n",
       "3         1.777778            1.0      121.0    289       4  \n",
       "4         1.777778            1.0      121.0   1369       4  \n",
       "5         1.777778            1.0      121.0   1444       4  \n",
       "6         1.777778            1.0      121.0     64       4  \n",
       "7        16.000000            1.0      100.0     49       4  \n",
       "8        16.000000            1.0      100.0    900       4  \n",
       "9        16.000000            1.0      100.0    784       4  \n",
       "\n",
       "[10 rows x 143 columns]"
      ]
     },
     "execution_count": 7,
     "metadata": {},
     "output_type": "execute_result"
    }
   ],
   "source": [
    "costa_train.head(10)"
   ]
  },
  {
   "cell_type": "markdown",
   "metadata": {},
   "source": [
    "The file is a set of household characteristics from a representative sample of Costa Rican Households. The dataset has observations for each member of the household but the classification is done at the household level. That is, households cannot have two different classifications. Data is not presented at the household level so that participants can create their own household features from individual data."
   ]
  },
  {
   "cell_type": "code",
   "execution_count": 8,
   "metadata": {},
   "outputs": [
    {
     "data": {
      "text/html": [
       "<div>\n",
       "<style scoped>\n",
       "    .dataframe tbody tr th:only-of-type {\n",
       "        vertical-align: middle;\n",
       "    }\n",
       "\n",
       "    .dataframe tbody tr th {\n",
       "        vertical-align: top;\n",
       "    }\n",
       "\n",
       "    .dataframe thead th {\n",
       "        text-align: right;\n",
       "    }\n",
       "</style>\n",
       "<table border=\"1\" class=\"dataframe\">\n",
       "  <thead>\n",
       "    <tr style=\"text-align: right;\">\n",
       "      <th></th>\n",
       "      <th>Id</th>\n",
       "      <th>Target</th>\n",
       "    </tr>\n",
       "  </thead>\n",
       "  <tbody>\n",
       "    <tr>\n",
       "      <th>0</th>\n",
       "      <td>ID_2f6873615</td>\n",
       "      <td>4</td>\n",
       "    </tr>\n",
       "    <tr>\n",
       "      <th>1</th>\n",
       "      <td>ID_1c78846d2</td>\n",
       "      <td>4</td>\n",
       "    </tr>\n",
       "    <tr>\n",
       "      <th>2</th>\n",
       "      <td>ID_e5442cf6a</td>\n",
       "      <td>4</td>\n",
       "    </tr>\n",
       "    <tr>\n",
       "      <th>3</th>\n",
       "      <td>ID_a8db26a79</td>\n",
       "      <td>4</td>\n",
       "    </tr>\n",
       "    <tr>\n",
       "      <th>4</th>\n",
       "      <td>ID_a62966799</td>\n",
       "      <td>4</td>\n",
       "    </tr>\n",
       "  </tbody>\n",
       "</table>\n",
       "</div>"
      ],
      "text/plain": [
       "             Id  Target\n",
       "0  ID_2f6873615       4\n",
       "1  ID_1c78846d2       4\n",
       "2  ID_e5442cf6a       4\n",
       "3  ID_a8db26a79       4\n",
       "4  ID_a62966799       4"
      ]
     },
     "execution_count": 8,
     "metadata": {},
     "output_type": "execute_result"
    }
   ],
   "source": [
    "costa_sample = pd.read_csv('../data/sample_submission.csv')\n",
    "costa_sample.head()"
   ]
  },
  {
   "cell_type": "code",
   "execution_count": 9,
   "metadata": {},
   "outputs": [
    {
     "data": {
      "text/plain": [
       "Id                  object\n",
       "v2a1               float64\n",
       "hacdor               int64\n",
       "rooms                int64\n",
       "hacapo               int64\n",
       "v14a                 int64\n",
       "refrig               int64\n",
       "v18q                 int64\n",
       "v18q1              float64\n",
       "r4h1                 int64\n",
       "r4h2                 int64\n",
       "r4h3                 int64\n",
       "r4m1                 int64\n",
       "r4m2                 int64\n",
       "r4m3                 int64\n",
       "r4t1                 int64\n",
       "r4t2                 int64\n",
       "r4t3                 int64\n",
       "tamhog               int64\n",
       "tamviv               int64\n",
       "escolari             int64\n",
       "rez_esc            float64\n",
       "hhsize               int64\n",
       "paredblolad          int64\n",
       "paredzocalo          int64\n",
       "paredpreb            int64\n",
       "pareddes             int64\n",
       "paredmad             int64\n",
       "paredzinc            int64\n",
       "paredfibras          int64\n",
       "                    ...   \n",
       "bedrooms             int64\n",
       "overcrowding       float64\n",
       "tipovivi1            int64\n",
       "tipovivi2            int64\n",
       "tipovivi3            int64\n",
       "tipovivi4            int64\n",
       "tipovivi5            int64\n",
       "computer             int64\n",
       "television           int64\n",
       "mobilephone          int64\n",
       "qmobilephone         int64\n",
       "lugar1               int64\n",
       "lugar2               int64\n",
       "lugar3               int64\n",
       "lugar4               int64\n",
       "lugar5               int64\n",
       "lugar6               int64\n",
       "area1                int64\n",
       "area2                int64\n",
       "age                  int64\n",
       "SQBescolari          int64\n",
       "SQBage               int64\n",
       "SQBhogar_total       int64\n",
       "SQBedjefe            int64\n",
       "SQBhogar_nin         int64\n",
       "SQBovercrowding    float64\n",
       "SQBdependency      float64\n",
       "SQBmeaned          float64\n",
       "agesq                int64\n",
       "Target               int64\n",
       "Length: 143, dtype: object"
      ]
     },
     "execution_count": 9,
     "metadata": {},
     "output_type": "execute_result"
    }
   ],
   "source": [
    "costa_train.dtypes"
   ]
  },
  {
   "cell_type": "markdown",
   "metadata": {},
   "source": [
    "Response variable = 'Target'"
   ]
  },
  {
   "cell_type": "code",
   "execution_count": 10,
   "metadata": {},
   "outputs": [
    {
     "data": {
      "text/plain": [
       "array([4, 2, 3, 1])"
      ]
     },
     "execution_count": 10,
     "metadata": {},
     "output_type": "execute_result"
    }
   ],
   "source": [
    "costa_train['Target'].unique()"
   ]
  },
  {
   "cell_type": "code",
   "execution_count": null,
   "metadata": {},
   "outputs": [],
   "source": []
  },
  {
   "cell_type": "code",
   "execution_count": 11,
   "metadata": {},
   "outputs": [],
   "source": [
    "#data = pd.concat((costa_train, costa_test), axis=0)"
   ]
  },
  {
   "cell_type": "code",
   "execution_count": 12,
   "metadata": {},
   "outputs": [],
   "source": [
    "#data.shape"
   ]
  },
  {
   "cell_type": "code",
   "execution_count": null,
   "metadata": {},
   "outputs": [],
   "source": []
  },
  {
   "cell_type": "markdown",
   "metadata": {},
   "source": [
    "### Ditching 'Id' column"
   ]
  },
  {
   "cell_type": "code",
   "execution_count": 13,
   "metadata": {},
   "outputs": [],
   "source": [
    "costa_train = costa_train.drop(columns=['Id'])"
   ]
  },
  {
   "cell_type": "code",
   "execution_count": 14,
   "metadata": {},
   "outputs": [],
   "source": [
    "costa_test = costa_test.drop(columns=['Id'])\n",
    "#data = data.drop(columns=['Id'])"
   ]
  },
  {
   "cell_type": "markdown",
   "metadata": {},
   "source": [
    "### Looking for missing values"
   ]
  },
  {
   "cell_type": "code",
   "execution_count": 15,
   "metadata": {},
   "outputs": [
    {
     "data": {
      "text/plain": [
       "9557"
      ]
     },
     "execution_count": 15,
     "metadata": {},
     "output_type": "execute_result"
    }
   ],
   "source": [
    "len(costa_train)"
   ]
  },
  {
   "cell_type": "code",
   "execution_count": 16,
   "metadata": {},
   "outputs": [
    {
     "data": {
      "text/plain": [
       "v2a1         0.717798\n",
       "v18q1        0.768233\n",
       "rez_esc      0.829549\n",
       "meaneduc     0.000523\n",
       "SQBmeaned    0.000523\n",
       "dtype: float64"
      ]
     },
     "execution_count": 16,
     "metadata": {},
     "output_type": "execute_result"
    }
   ],
   "source": [
    "null_cols = costa_train.isna().sum()/len(costa_train)\n",
    "\n",
    "null_cols[null_cols > 0]"
   ]
  },
  {
   "cell_type": "code",
   "execution_count": null,
   "metadata": {},
   "outputs": [],
   "source": []
  },
  {
   "cell_type": "code",
   "execution_count": 17,
   "metadata": {},
   "outputs": [
    {
     "data": {
      "text/plain": [
       "['v2a1', 'v18q1', 'rez_esc']"
      ]
     },
     "execution_count": 17,
     "metadata": {},
     "output_type": "execute_result"
    }
   ],
   "source": [
    "drop_cols = list(null_cols[null_cols > 0.70].index) # removing columns with > 70% NAs\n",
    "drop_cols\n"
   ]
  },
  {
   "cell_type": "code",
   "execution_count": 18,
   "metadata": {},
   "outputs": [],
   "source": [
    "#data = data.drop(drop_cols, axis=1)\n",
    "costa_train = costa_train.drop(drop_cols, axis=1)"
   ]
  },
  {
   "cell_type": "code",
   "execution_count": 19,
   "metadata": {},
   "outputs": [],
   "source": [
    "costa_test = costa_test.drop(drop_cols, axis=1)"
   ]
  },
  {
   "cell_type": "code",
   "execution_count": 20,
   "metadata": {},
   "outputs": [
    {
     "data": {
      "text/plain": [
       "meaneduc     5\n",
       "SQBmeaned    5\n",
       "dtype: int64"
      ]
     },
     "execution_count": 20,
     "metadata": {},
     "output_type": "execute_result"
    }
   ],
   "source": [
    "null_cols = costa_train.isna().sum()\n",
    "null_cols[null_cols > 0]"
   ]
  },
  {
   "cell_type": "code",
   "execution_count": 21,
   "metadata": {},
   "outputs": [],
   "source": [
    "costa_train.dropna(inplace=True)\n",
    "costa_test.dropna(inplace=True)"
   ]
  },
  {
   "cell_type": "code",
   "execution_count": 22,
   "metadata": {},
   "outputs": [],
   "source": [
    "costa_train.drop(columns=['elimbasu5'], inplace=True)\n",
    "costa_test.drop(columns=['elimbasu5'], inplace=True)"
   ]
  },
  {
   "cell_type": "code",
   "execution_count": null,
   "metadata": {},
   "outputs": [],
   "source": []
  },
  {
   "cell_type": "markdown",
   "metadata": {},
   "source": [
    "### Looking for multicollinearity\n"
   ]
  },
  {
   "cell_type": "code",
   "execution_count": 23,
   "metadata": {},
   "outputs": [
    {
     "data": {
      "text/plain": [
       "<matplotlib.axes._subplots.AxesSubplot at 0x1a19063cc0>"
      ]
     },
     "execution_count": 23,
     "metadata": {},
     "output_type": "execute_result"
    },
    {
     "data": {
      "image/png": "[encoded data removed]",
      "text/plain": [
       "<Figure size 720x576 with 2 Axes>"
      ]
     },
     "metadata": {
      "needs_background": "light"
     },
     "output_type": "display_data"
    }
   ],
   "source": [
    "rcParams['figure.figsize'] = 10, 8\n",
    "corr = costa_train.corr()\n",
    "\n",
    "# plot the heatmap\n",
    "sns.heatmap(corr, \n",
    "        xticklabels=corr.columns,\n",
    "        yticklabels=corr.columns)"
   ]
  },
  {
   "cell_type": "code",
   "execution_count": null,
   "metadata": {},
   "outputs": [],
   "source": []
  },
  {
   "cell_type": "code",
   "execution_count": 24,
   "metadata": {},
   "outputs": [
    {
     "data": {
      "text/plain": [
       "['tamhog',\n",
       " 'tamviv',\n",
       " 'hhsize',\n",
       " 'hogar_total',\n",
       " 'SQBescolari',\n",
       " 'SQBage',\n",
       " 'SQBhogar_total',\n",
       " 'SQBovercrowding',\n",
       " 'SQBmeaned',\n",
       " 'agesq']"
      ]
     },
     "execution_count": 24,
     "metadata": {},
     "output_type": "execute_result"
    }
   ],
   "source": [
    "# Select upper triangle of correlation matrix\n",
    "upper = corr.where(np.triu(np.ones(corr.shape), k=1).astype(np.bool))\n",
    "\n",
    "# Find features with correlation greater than 0.90\n",
    "to_drop = [column for column in upper.columns if any(upper[column] > 0.90)]\n",
    "to_drop"
   ]
  },
  {
   "cell_type": "markdown",
   "metadata": {},
   "source": [
    "'SQBage' is age squared so it makes sense that it is highly correlated with 'agesq'\n",
    "'tamhog' is size of the household, so it is identical with 'hhsize', household size == 'tamviv' == 'hogar_total'.\n",
    "'SQBhogar_total' is hogar_total squared, so it is highly correlated with 'hogar_total'.\n",
    "'SQBmeaned', square of the mean years of education of adults (>=18) in the household == 'SQBescolari', escolari squared\n",
    "'hhsize' is highly correlated with 'r4t3', Total persons in the household (cf. correlation matrix)"
   ]
  },
  {
   "cell_type": "code",
   "execution_count": 25,
   "metadata": {},
   "outputs": [],
   "source": [
    "costa_train = costa_train.drop(columns=to_drop)"
   ]
  },
  {
   "cell_type": "code",
   "execution_count": 26,
   "metadata": {},
   "outputs": [],
   "source": [
    "costa_test = costa_test.drop(columns=to_drop)"
   ]
  },
  {
   "cell_type": "code",
   "execution_count": 27,
   "metadata": {},
   "outputs": [
    {
     "data": {
      "text/plain": [
       "[]"
      ]
     },
     "execution_count": 27,
     "metadata": {},
     "output_type": "execute_result"
    }
   ],
   "source": [
    "corr = costa_train.corr()\n",
    "# Select upper triangle of correlation matrix\n",
    "upper = corr.where(np.triu(np.ones(corr.shape), k=1).astype(np.bool))\n",
    "\n",
    "# Find features with correlation greater than 0.90\n",
    "to_drop = [column for column in upper.columns if any(upper[column] > 0.90)]\n",
    "to_drop"
   ]
  },
  {
   "cell_type": "markdown",
   "metadata": {},
   "source": [
    "### Taking care of object columns"
   ]
  },
  {
   "cell_type": "code",
   "execution_count": 20,
   "metadata": {},
   "outputs": [
    {
     "data": {
      "text/html": [
       "<div>\n",
       "<style scoped>\n",
       "    .dataframe tbody tr th:only-of-type {\n",
       "        vertical-align: middle;\n",
       "    }\n",
       "\n",
       "    .dataframe tbody tr th {\n",
       "        vertical-align: top;\n",
       "    }\n",
       "\n",
       "    .dataframe thead th {\n",
       "        text-align: right;\n",
       "    }\n",
       "</style>\n",
       "<table border=\"1\" class=\"dataframe\">\n",
       "  <thead>\n",
       "    <tr style=\"text-align: right;\">\n",
       "      <th></th>\n",
       "      <th>idhogar</th>\n",
       "      <th>dependency</th>\n",
       "      <th>edjefe</th>\n",
       "      <th>edjefa</th>\n",
       "    </tr>\n",
       "  </thead>\n",
       "  <tbody>\n",
       "    <tr>\n",
       "      <th>0</th>\n",
       "      <td>21eb7fcc1</td>\n",
       "      <td>no</td>\n",
       "      <td>10</td>\n",
       "      <td>no</td>\n",
       "    </tr>\n",
       "    <tr>\n",
       "      <th>1</th>\n",
       "      <td>0e5d7a658</td>\n",
       "      <td>8</td>\n",
       "      <td>12</td>\n",
       "      <td>no</td>\n",
       "    </tr>\n",
       "    <tr>\n",
       "      <th>2</th>\n",
       "      <td>2c7317ea8</td>\n",
       "      <td>8</td>\n",
       "      <td>no</td>\n",
       "      <td>11</td>\n",
       "    </tr>\n",
       "    <tr>\n",
       "      <th>3</th>\n",
       "      <td>2b58d945f</td>\n",
       "      <td>yes</td>\n",
       "      <td>11</td>\n",
       "      <td>no</td>\n",
       "    </tr>\n",
       "    <tr>\n",
       "      <th>4</th>\n",
       "      <td>2b58d945f</td>\n",
       "      <td>yes</td>\n",
       "      <td>11</td>\n",
       "      <td>no</td>\n",
       "    </tr>\n",
       "    <tr>\n",
       "      <th>5</th>\n",
       "      <td>2b58d945f</td>\n",
       "      <td>yes</td>\n",
       "      <td>11</td>\n",
       "      <td>no</td>\n",
       "    </tr>\n",
       "    <tr>\n",
       "      <th>6</th>\n",
       "      <td>2b58d945f</td>\n",
       "      <td>yes</td>\n",
       "      <td>11</td>\n",
       "      <td>no</td>\n",
       "    </tr>\n",
       "    <tr>\n",
       "      <th>7</th>\n",
       "      <td>d6dae86b7</td>\n",
       "      <td>yes</td>\n",
       "      <td>9</td>\n",
       "      <td>no</td>\n",
       "    </tr>\n",
       "    <tr>\n",
       "      <th>8</th>\n",
       "      <td>d6dae86b7</td>\n",
       "      <td>yes</td>\n",
       "      <td>9</td>\n",
       "      <td>no</td>\n",
       "    </tr>\n",
       "    <tr>\n",
       "      <th>9</th>\n",
       "      <td>d6dae86b7</td>\n",
       "      <td>yes</td>\n",
       "      <td>9</td>\n",
       "      <td>no</td>\n",
       "    </tr>\n",
       "    <tr>\n",
       "      <th>10</th>\n",
       "      <td>d6dae86b7</td>\n",
       "      <td>yes</td>\n",
       "      <td>9</td>\n",
       "      <td>no</td>\n",
       "    </tr>\n",
       "    <tr>\n",
       "      <th>11</th>\n",
       "      <td>bb2094100</td>\n",
       "      <td>yes</td>\n",
       "      <td>no</td>\n",
       "      <td>11</td>\n",
       "    </tr>\n",
       "    <tr>\n",
       "      <th>12</th>\n",
       "      <td>bb2094100</td>\n",
       "      <td>yes</td>\n",
       "      <td>no</td>\n",
       "      <td>11</td>\n",
       "    </tr>\n",
       "    <tr>\n",
       "      <th>13</th>\n",
       "      <td>c51f9c774</td>\n",
       "      <td>yes</td>\n",
       "      <td>no</td>\n",
       "      <td>4</td>\n",
       "    </tr>\n",
       "    <tr>\n",
       "      <th>14</th>\n",
       "      <td>c51f9c774</td>\n",
       "      <td>yes</td>\n",
       "      <td>no</td>\n",
       "      <td>4</td>\n",
       "    </tr>\n",
       "    <tr>\n",
       "      <th>15</th>\n",
       "      <td>6893e65ca</td>\n",
       "      <td>3</td>\n",
       "      <td>no</td>\n",
       "      <td>10</td>\n",
       "    </tr>\n",
       "    <tr>\n",
       "      <th>16</th>\n",
       "      <td>6893e65ca</td>\n",
       "      <td>3</td>\n",
       "      <td>no</td>\n",
       "      <td>10</td>\n",
       "    </tr>\n",
       "    <tr>\n",
       "      <th>17</th>\n",
       "      <td>6893e65ca</td>\n",
       "      <td>3</td>\n",
       "      <td>no</td>\n",
       "      <td>10</td>\n",
       "    </tr>\n",
       "    <tr>\n",
       "      <th>18</th>\n",
       "      <td>6893e65ca</td>\n",
       "      <td>3</td>\n",
       "      <td>no</td>\n",
       "      <td>10</td>\n",
       "    </tr>\n",
       "    <tr>\n",
       "      <th>19</th>\n",
       "      <td>d29058053</td>\n",
       "      <td>no</td>\n",
       "      <td>15</td>\n",
       "      <td>no</td>\n",
       "    </tr>\n",
       "  </tbody>\n",
       "</table>\n",
       "</div>"
      ],
      "text/plain": [
       "      idhogar dependency edjefe edjefa\n",
       "0   21eb7fcc1         no     10     no\n",
       "1   0e5d7a658          8     12     no\n",
       "2   2c7317ea8          8     no     11\n",
       "3   2b58d945f        yes     11     no\n",
       "4   2b58d945f        yes     11     no\n",
       "5   2b58d945f        yes     11     no\n",
       "6   2b58d945f        yes     11     no\n",
       "7   d6dae86b7        yes      9     no\n",
       "8   d6dae86b7        yes      9     no\n",
       "9   d6dae86b7        yes      9     no\n",
       "10  d6dae86b7        yes      9     no\n",
       "11  bb2094100        yes     no     11\n",
       "12  bb2094100        yes     no     11\n",
       "13  c51f9c774        yes     no      4\n",
       "14  c51f9c774        yes     no      4\n",
       "15  6893e65ca          3     no     10\n",
       "16  6893e65ca          3     no     10\n",
       "17  6893e65ca          3     no     10\n",
       "18  6893e65ca          3     no     10\n",
       "19  d29058053         no     15     no"
      ]
     },
     "execution_count": 20,
     "metadata": {},
     "output_type": "execute_result"
    }
   ],
   "source": [
    "costa_train.select_dtypes(include=['object']).head(20)"
   ]
  },
  {
   "cell_type": "markdown",
   "metadata": {},
   "source": [
    "* dependency, Dependency rate, calculated = (number of members of the household younger than 19 or older than 64)/(number of member of household between 19 and 64)\n",
    "* edjefe, years of education of male head of household, based on the interaction of escolari (years of education), head of household and gender, yes=1 and no=0\n",
    "* edjefa, years of education of female head of household, based on the interaction of escolari (years of education), head of household and gender, yes=1 and no=0"
   ]
  },
  {
   "cell_type": "code",
   "execution_count": 28,
   "metadata": {},
   "outputs": [
    {
     "data": {
      "text/plain": [
       "array(['10', '12', 'no', '11', '9', '15', '4', '6', '8', '17', '7', '16',\n",
       "       '14', '5', '21', '2', '19', 'yes', '3', '18', '13', '20'],\n",
       "      dtype=object)"
      ]
     },
     "execution_count": 28,
     "metadata": {},
     "output_type": "execute_result"
    }
   ],
   "source": [
    "costa_train['edjefe'].unique()"
   ]
  },
  {
   "cell_type": "code",
   "execution_count": 29,
   "metadata": {},
   "outputs": [
    {
     "data": {
      "text/plain": [
       "no     3761\n",
       "6      1845\n",
       "11      751\n",
       "9       486\n",
       "3       307\n",
       "15      285\n",
       "8       257\n",
       "7       234\n",
       "5       222\n",
       "14      208\n",
       "17      202\n",
       "2       194\n",
       "4       135\n",
       "16      134\n",
       "yes     123\n",
       "10      111\n",
       "12      111\n",
       "13      103\n",
       "21       43\n",
       "18       19\n",
       "19       14\n",
       "20        7\n",
       "Name: edjefe, dtype: int64"
      ]
     },
     "execution_count": 29,
     "metadata": {},
     "output_type": "execute_result"
    }
   ],
   "source": [
    "costa_train['edjefe'].value_counts()"
   ]
  },
  {
   "cell_type": "code",
   "execution_count": 30,
   "metadata": {},
   "outputs": [],
   "source": [
    "### Changing 'edjefa' column values to '0' and '1' for Train and Test"
   ]
  },
  {
   "cell_type": "code",
   "execution_count": null,
   "metadata": {},
   "outputs": [],
   "source": []
  },
  {
   "cell_type": "code",
   "execution_count": 31,
   "metadata": {},
   "outputs": [],
   "source": [
    "costa_train.loc[costa_train['edjefa'].str.contains('no', regex=True), 'edjefa'] = '0'\n",
    "costa_train.loc[costa_train['edjefa'].str.contains('yes', regex=True), 'edjefa'] = np.nan\n"
   ]
  },
  {
   "cell_type": "code",
   "execution_count": 32,
   "metadata": {},
   "outputs": [],
   "source": [
    "costa_test.loc[costa_test['edjefe'].str.contains('no', regex=True), 'edjefe'] = '0'\n",
    "costa_test.loc[costa_test['edjefe'].str.contains('yes', regex=True), 'edjefe'] = np.nan"
   ]
  },
  {
   "cell_type": "code",
   "execution_count": 33,
   "metadata": {},
   "outputs": [],
   "source": [
    "costa_train.loc[costa_train['edjefe'].str.contains('no', regex=True), 'edjefe'] = '0'\n",
    "costa_train.loc[costa_train['edjefe'].str.contains('yes', regex=True), 'edjefe'] = np.nan\n"
   ]
  },
  {
   "cell_type": "code",
   "execution_count": 34,
   "metadata": {},
   "outputs": [],
   "source": [
    "costa_test.loc[costa_test['edjefa'].str.contains('no', regex=True), 'edjefa'] = '0'\n",
    "costa_test.loc[costa_test['edjefa'].str.contains('yes', regex=True), 'edjefa'] = np.nan"
   ]
  },
  {
   "cell_type": "code",
   "execution_count": 35,
   "metadata": {},
   "outputs": [],
   "source": [
    "costa_train.dropna(inplace=True)\n",
    "costa_test.dropna(inplace=True)\n"
   ]
  },
  {
   "cell_type": "code",
   "execution_count": 36,
   "metadata": {},
   "outputs": [
    {
     "data": {
      "text/plain": [
       "array(['0', '11', '4', '10', '9', '15', '7', '14', '13', '8', '17', '6',\n",
       "       '5', '3', '16', '19', '21', '12', '2', '20', '18'], dtype=object)"
      ]
     },
     "execution_count": 36,
     "metadata": {},
     "output_type": "execute_result"
    }
   ],
   "source": [
    "costa_train['edjefa'].unique()"
   ]
  },
  {
   "cell_type": "code",
   "execution_count": 37,
   "metadata": {},
   "outputs": [
    {
     "data": {
      "text/plain": [
       "array(['17', '0', '11', '14', '10', '15', '9', '6', '8', '3', '2', '5',\n",
       "       '16', '12', '7', '13', '21', '4', '19', '18', '20'], dtype=object)"
      ]
     },
     "execution_count": 37,
     "metadata": {},
     "output_type": "execute_result"
    }
   ],
   "source": [
    "costa_test['edjefa'].unique()"
   ]
  },
  {
   "cell_type": "code",
   "execution_count": 38,
   "metadata": {},
   "outputs": [],
   "source": [
    "### Doing the same for 'edjefe'"
   ]
  },
  {
   "cell_type": "code",
   "execution_count": 39,
   "metadata": {},
   "outputs": [
    {
     "data": {
      "text/plain": [
       "array(['10', '12', '0', '11', '9', '15', '4', '6', '8', '17', '7', '16',\n",
       "       '14', '5', '21', '2', '19', '3', '18', '13', '20'], dtype=object)"
      ]
     },
     "execution_count": 39,
     "metadata": {},
     "output_type": "execute_result"
    }
   ],
   "source": [
    "costa_train['edjefe'].unique()"
   ]
  },
  {
   "cell_type": "code",
   "execution_count": 40,
   "metadata": {},
   "outputs": [
    {
     "data": {
      "text/plain": [
       "array(['0', '16', '10', '6', '11', '8', '13', '14', '5', '3', '9', '17',\n",
       "       '15', '7', '21', '4', '12', '2', '20', '19', '18'], dtype=object)"
      ]
     },
     "execution_count": 40,
     "metadata": {},
     "output_type": "execute_result"
    }
   ],
   "source": [
    "costa_test['edjefe'].unique()\n"
   ]
  },
  {
   "cell_type": "code",
   "execution_count": 41,
   "metadata": {},
   "outputs": [],
   "source": [
    "### Dropping out Dependency column"
   ]
  },
  {
   "cell_type": "code",
   "execution_count": 42,
   "metadata": {},
   "outputs": [
    {
     "data": {
      "text/plain": [
       "array(['no', '8', 'yes', '3', '.5', '.25', '2', '.66666669', '.33333334',\n",
       "       '1.5', '.40000001', '.75', '1.25', '.2', '2.5', '1.2', '4',\n",
       "       '1.3333334', '2.25', '.22222222', '5', '.83333331', '.80000001',\n",
       "       '6', '3.5', '1.6666666', '.2857143', '1.75', '.71428573',\n",
       "       '.16666667', '.60000002'], dtype=object)"
      ]
     },
     "execution_count": 42,
     "metadata": {},
     "output_type": "execute_result"
    }
   ],
   "source": [
    "costa_train['dependency'].unique()"
   ]
  },
  {
   "cell_type": "code",
   "execution_count": 43,
   "metadata": {},
   "outputs": [
    {
     "data": {
      "text/plain": [
       "yes          2154\n",
       "no           1722\n",
       ".5           1467\n",
       "2             712\n",
       "1.5           683\n",
       ".33333334     594\n",
       ".66666669     482\n",
       "8             355\n",
       ".25           255\n",
       "3             224\n",
       "4             100\n",
       ".75            91\n",
       ".2             90\n",
       "1.3333334      84\n",
       ".40000001      84\n",
       "2.5            77\n",
       "5              24\n",
       ".80000001      18\n",
       "1.25           18\n",
       "3.5            18\n",
       "2.25           13\n",
       ".71428573      12\n",
       "1.2            11\n",
       "1.75           11\n",
       ".22222222      11\n",
       ".83333331      11\n",
       ".2857143        9\n",
       "1.6666666       8\n",
       ".60000002       8\n",
       ".16666667       7\n",
       "6               7\n",
       "Name: dependency, dtype: int64"
      ]
     },
     "execution_count": 43,
     "metadata": {},
     "output_type": "execute_result"
    }
   ],
   "source": [
    "costa_train['dependency'].value_counts()"
   ]
  },
  {
   "cell_type": "markdown",
   "metadata": {},
   "source": [
    "'Yes' and 'no' are too many in 'Dependency' column and we can't imagine 'yes' values"
   ]
  },
  {
   "cell_type": "code",
   "execution_count": 44,
   "metadata": {},
   "outputs": [
    {
     "data": {
      "text/html": [
       "<div>\n",
       "<style scoped>\n",
       "    .dataframe tbody tr th:only-of-type {\n",
       "        vertical-align: middle;\n",
       "    }\n",
       "\n",
       "    .dataframe tbody tr th {\n",
       "        vertical-align: top;\n",
       "    }\n",
       "\n",
       "    .dataframe thead th {\n",
       "        text-align: right;\n",
       "    }\n",
       "</style>\n",
       "<table border=\"1\" class=\"dataframe\">\n",
       "  <thead>\n",
       "    <tr style=\"text-align: right;\">\n",
       "      <th></th>\n",
       "      <th>dependency</th>\n",
       "      <th>SQBdependency</th>\n",
       "    </tr>\n",
       "  </thead>\n",
       "  <tbody>\n",
       "    <tr>\n",
       "      <th>0</th>\n",
       "      <td>no</td>\n",
       "      <td>0.0</td>\n",
       "    </tr>\n",
       "    <tr>\n",
       "      <th>1</th>\n",
       "      <td>8</td>\n",
       "      <td>64.0</td>\n",
       "    </tr>\n",
       "    <tr>\n",
       "      <th>2</th>\n",
       "      <td>8</td>\n",
       "      <td>64.0</td>\n",
       "    </tr>\n",
       "    <tr>\n",
       "      <th>3</th>\n",
       "      <td>yes</td>\n",
       "      <td>1.0</td>\n",
       "    </tr>\n",
       "    <tr>\n",
       "      <th>4</th>\n",
       "      <td>yes</td>\n",
       "      <td>1.0</td>\n",
       "    </tr>\n",
       "    <tr>\n",
       "      <th>5</th>\n",
       "      <td>yes</td>\n",
       "      <td>1.0</td>\n",
       "    </tr>\n",
       "    <tr>\n",
       "      <th>6</th>\n",
       "      <td>yes</td>\n",
       "      <td>1.0</td>\n",
       "    </tr>\n",
       "    <tr>\n",
       "      <th>7</th>\n",
       "      <td>yes</td>\n",
       "      <td>1.0</td>\n",
       "    </tr>\n",
       "    <tr>\n",
       "      <th>8</th>\n",
       "      <td>yes</td>\n",
       "      <td>1.0</td>\n",
       "    </tr>\n",
       "    <tr>\n",
       "      <th>9</th>\n",
       "      <td>yes</td>\n",
       "      <td>1.0</td>\n",
       "    </tr>\n",
       "    <tr>\n",
       "      <th>10</th>\n",
       "      <td>yes</td>\n",
       "      <td>1.0</td>\n",
       "    </tr>\n",
       "    <tr>\n",
       "      <th>11</th>\n",
       "      <td>yes</td>\n",
       "      <td>1.0</td>\n",
       "    </tr>\n",
       "    <tr>\n",
       "      <th>12</th>\n",
       "      <td>yes</td>\n",
       "      <td>1.0</td>\n",
       "    </tr>\n",
       "    <tr>\n",
       "      <th>13</th>\n",
       "      <td>yes</td>\n",
       "      <td>1.0</td>\n",
       "    </tr>\n",
       "    <tr>\n",
       "      <th>14</th>\n",
       "      <td>yes</td>\n",
       "      <td>1.0</td>\n",
       "    </tr>\n",
       "    <tr>\n",
       "      <th>15</th>\n",
       "      <td>3</td>\n",
       "      <td>9.0</td>\n",
       "    </tr>\n",
       "    <tr>\n",
       "      <th>16</th>\n",
       "      <td>3</td>\n",
       "      <td>9.0</td>\n",
       "    </tr>\n",
       "    <tr>\n",
       "      <th>17</th>\n",
       "      <td>3</td>\n",
       "      <td>9.0</td>\n",
       "    </tr>\n",
       "    <tr>\n",
       "      <th>18</th>\n",
       "      <td>3</td>\n",
       "      <td>9.0</td>\n",
       "    </tr>\n",
       "    <tr>\n",
       "      <th>19</th>\n",
       "      <td>no</td>\n",
       "      <td>0.0</td>\n",
       "    </tr>\n",
       "  </tbody>\n",
       "</table>\n",
       "</div>"
      ],
      "text/plain": [
       "   dependency  SQBdependency\n",
       "0          no            0.0\n",
       "1           8           64.0\n",
       "2           8           64.0\n",
       "3         yes            1.0\n",
       "4         yes            1.0\n",
       "5         yes            1.0\n",
       "6         yes            1.0\n",
       "7         yes            1.0\n",
       "8         yes            1.0\n",
       "9         yes            1.0\n",
       "10        yes            1.0\n",
       "11        yes            1.0\n",
       "12        yes            1.0\n",
       "13        yes            1.0\n",
       "14        yes            1.0\n",
       "15          3            9.0\n",
       "16          3            9.0\n",
       "17          3            9.0\n",
       "18          3            9.0\n",
       "19         no            0.0"
      ]
     },
     "execution_count": 44,
     "metadata": {},
     "output_type": "execute_result"
    }
   ],
   "source": [
    "pd.concat((costa_train['dependency'].head(20), costa_train['SQBdependency'].head(20)), axis=1)"
   ]
  },
  {
   "cell_type": "code",
   "execution_count": 45,
   "metadata": {},
   "outputs": [],
   "source": [
    "costa_train['dependency'] = np.sqrt(costa_train['SQBdependency'])"
   ]
  },
  {
   "cell_type": "code",
   "execution_count": 46,
   "metadata": {},
   "outputs": [],
   "source": [
    "costa_test['dependency'] = np.sqrt(costa_test['SQBdependency'])"
   ]
  },
  {
   "cell_type": "markdown",
   "metadata": {},
   "source": [
    "### changing column type from object to integer"
   ]
  },
  {
   "cell_type": "code",
   "execution_count": 47,
   "metadata": {},
   "outputs": [],
   "source": [
    "costa_train['edjefe'] = costa_train['edjefe'].astype('int')\n",
    "costa_train['edjefa'] = costa_train['edjefa'].astype('int')\n",
    "costa_test['edjefe'] = costa_test['edjefe'].astype('int')\n",
    "costa_test['edjefa'] = costa_test['edjefa'].astype('int')"
   ]
  },
  {
   "cell_type": "code",
   "execution_count": null,
   "metadata": {},
   "outputs": [],
   "source": []
  },
  {
   "cell_type": "markdown",
   "metadata": {},
   "source": [
    "### Response variable : 'Target'"
   ]
  },
  {
   "cell_type": "code",
   "execution_count": 41,
   "metadata": {},
   "outputs": [
    {
     "data": {
      "text/plain": [
       "4    5914\n",
       "2    1543\n",
       "3    1173\n",
       "1     730\n",
       "Name: Target, dtype: int64"
      ]
     },
     "execution_count": 41,
     "metadata": {},
     "output_type": "execute_result"
    }
   ],
   "source": [
    "costa_train.Target.value_counts()"
   ]
  },
  {
   "cell_type": "code",
   "execution_count": 772,
   "metadata": {},
   "outputs": [
    {
     "data": {
      "text/plain": [
       "Text(0.5, 1.0, 'Counts of each Poverty level')"
      ]
     },
     "execution_count": 772,
     "metadata": {},
     "output_type": "execute_result"
    },
    {
     "data": {
      "image/png": "[encoded data removed]",
      "text/plain": [
       "<Figure size 576x360 with 1 Axes>"
      ]
     },
     "metadata": {},
     "output_type": "display_data"
    }
   ],
   "source": [
    "rcParams['figure.figsize'] = 8, 5\n",
    "\n",
    "plt.bar(costa_train.Target.unique(), costa_train.Target.value_counts())\n",
    "plt.title('Counts of each Poverty level')\n"
   ]
  },
  {
   "cell_type": "code",
   "execution_count": 42,
   "metadata": {},
   "outputs": [
    {
     "data": {
      "text/plain": [
       "(23387, 127)"
      ]
     },
     "execution_count": 42,
     "metadata": {},
     "output_type": "execute_result"
    }
   ],
   "source": [
    "costa_test.shape"
   ]
  },
  {
   "cell_type": "code",
   "execution_count": 43,
   "metadata": {},
   "outputs": [
    {
     "data": {
      "text/plain": [
       "(9360, 128)"
      ]
     },
     "execution_count": 43,
     "metadata": {},
     "output_type": "execute_result"
    }
   ],
   "source": [
    "costa_train.shape"
   ]
  },
  {
   "cell_type": "markdown",
   "metadata": {},
   "source": [
    "### Household identifier and different Target for same household"
   ]
  },
  {
   "cell_type": "markdown",
   "metadata": {},
   "source": [
    "* idhogar - this is a unique identifier for each household. This can be used to create household-wide features, etc. All rows in a given household will have a matching value for this identifier.\n",
    "\n",
    "* parentesco1 - indicates if this person is the head of the household."
   ]
  },
  {
   "cell_type": "code",
   "execution_count": 48,
   "metadata": {},
   "outputs": [
    {
     "data": {
      "text/plain": [
       "idhogar\n",
       "001ff74ca    True\n",
       "003123ec2    True\n",
       "004616164    True\n",
       "004983866    True\n",
       "005905417    True\n",
       "Name: Target, dtype: bool"
      ]
     },
     "execution_count": 48,
     "metadata": {},
     "output_type": "execute_result"
    }
   ],
   "source": [
    "# Groupby the household and count nb of unique values. \n",
    "#It should be == 1 because every household members should have the same Target\n",
    "\n",
    "sameTarget = costa_train.groupby('idhogar')['Target'].apply(lambda x: x.nunique() == 1)\n",
    "\n",
    "sameTarget.head()"
   ]
  },
  {
   "cell_type": "code",
   "execution_count": 49,
   "metadata": {},
   "outputs": [
    {
     "data": {
      "text/plain": [
       "82"
      ]
     },
     "execution_count": 49,
     "metadata": {},
     "output_type": "execute_result"
    }
   ],
   "source": [
    "# Households where targets are not the same\n",
    "\n",
    "diffTarget = sameTarget[sameTarget == False]\n",
    "\n",
    "len(diffTarget)"
   ]
  },
  {
   "cell_type": "markdown",
   "metadata": {},
   "source": [
    "There are 85 households where members don't have the same Target.\n",
    "\n",
    "correct label is that for the head of household (parentesco1 == 1)"
   ]
  },
  {
   "cell_type": "code",
   "execution_count": 50,
   "metadata": {},
   "outputs": [
    {
     "name": "stdout",
     "output_type": "stream",
     "text": [
      "idhogar\n",
      "0172ab1d9    False\n",
      "Name: Target, dtype: bool\n"
     ]
    },
    {
     "data": {
      "text/html": [
       "<div>\n",
       "<style scoped>\n",
       "    .dataframe tbody tr th:only-of-type {\n",
       "        vertical-align: middle;\n",
       "    }\n",
       "\n",
       "    .dataframe tbody tr th {\n",
       "        vertical-align: top;\n",
       "    }\n",
       "\n",
       "    .dataframe thead th {\n",
       "        text-align: right;\n",
       "    }\n",
       "</style>\n",
       "<table border=\"1\" class=\"dataframe\">\n",
       "  <thead>\n",
       "    <tr style=\"text-align: right;\">\n",
       "      <th></th>\n",
       "      <th>idhogar</th>\n",
       "      <th>parentesco1</th>\n",
       "      <th>Target</th>\n",
       "    </tr>\n",
       "  </thead>\n",
       "  <tbody>\n",
       "    <tr>\n",
       "      <th>7651</th>\n",
       "      <td>0172ab1d9</td>\n",
       "      <td>0</td>\n",
       "      <td>3</td>\n",
       "    </tr>\n",
       "    <tr>\n",
       "      <th>7652</th>\n",
       "      <td>0172ab1d9</td>\n",
       "      <td>0</td>\n",
       "      <td>2</td>\n",
       "    </tr>\n",
       "    <tr>\n",
       "      <th>7653</th>\n",
       "      <td>0172ab1d9</td>\n",
       "      <td>0</td>\n",
       "      <td>3</td>\n",
       "    </tr>\n",
       "    <tr>\n",
       "      <th>7654</th>\n",
       "      <td>0172ab1d9</td>\n",
       "      <td>1</td>\n",
       "      <td>3</td>\n",
       "    </tr>\n",
       "    <tr>\n",
       "      <th>7655</th>\n",
       "      <td>0172ab1d9</td>\n",
       "      <td>0</td>\n",
       "      <td>2</td>\n",
       "    </tr>\n",
       "  </tbody>\n",
       "</table>\n",
       "</div>"
      ],
      "text/plain": [
       "        idhogar  parentesco1  Target\n",
       "7651  0172ab1d9            0       3\n",
       "7652  0172ab1d9            0       2\n",
       "7653  0172ab1d9            0       3\n",
       "7654  0172ab1d9            1       3\n",
       "7655  0172ab1d9            0       2"
      ]
     },
     "execution_count": 50,
     "metadata": {},
     "output_type": "execute_result"
    }
   ],
   "source": [
    "print(diffTarget[[0]])\n",
    "costa_train[['idhogar', 'parentesco1', 'Target']][costa_train['idhogar'] == '0172ab1d9']"
   ]
  },
  {
   "cell_type": "code",
   "execution_count": 51,
   "metadata": {},
   "outputs": [],
   "source": [
    "\"\"\" \n",
    "Assigning new target values to every members in a same household\n",
    "\n",
    "\"\"\"\n",
    "\n",
    "for i in range(len(diffTarget)):\n",
    "    #print(diffTarget[[i]].index[0])\n",
    "    newtarget = costa_train['Target'][(costa_train['idhogar'] == diffTarget[[i]].index[0]) & (costa_train['parentesco1'] == 1)]\n",
    "    #print(int(newtarget))\n",
    "    costa_train['Target'][costa_train['idhogar'] == diffTarget[[i]].index[0]] = int(newtarget)\n",
    "    \n",
    "    #print(costa_train['Target'][costa_train['idhogar'] == diffTarget[[i]].index[0]])\n",
    "    \n"
   ]
  },
  {
   "cell_type": "code",
   "execution_count": 52,
   "metadata": {},
   "outputs": [
    {
     "name": "stdout",
     "output_type": "stream",
     "text": [
      "idhogar\n",
      "0172ab1d9    False\n",
      "Name: Target, dtype: bool\n"
     ]
    },
    {
     "data": {
      "text/html": [
       "<div>\n",
       "<style scoped>\n",
       "    .dataframe tbody tr th:only-of-type {\n",
       "        vertical-align: middle;\n",
       "    }\n",
       "\n",
       "    .dataframe tbody tr th {\n",
       "        vertical-align: top;\n",
       "    }\n",
       "\n",
       "    .dataframe thead th {\n",
       "        text-align: right;\n",
       "    }\n",
       "</style>\n",
       "<table border=\"1\" class=\"dataframe\">\n",
       "  <thead>\n",
       "    <tr style=\"text-align: right;\">\n",
       "      <th></th>\n",
       "      <th>idhogar</th>\n",
       "      <th>parentesco1</th>\n",
       "      <th>Target</th>\n",
       "    </tr>\n",
       "  </thead>\n",
       "  <tbody>\n",
       "    <tr>\n",
       "      <th>7651</th>\n",
       "      <td>0172ab1d9</td>\n",
       "      <td>0</td>\n",
       "      <td>3</td>\n",
       "    </tr>\n",
       "    <tr>\n",
       "      <th>7652</th>\n",
       "      <td>0172ab1d9</td>\n",
       "      <td>0</td>\n",
       "      <td>3</td>\n",
       "    </tr>\n",
       "    <tr>\n",
       "      <th>7653</th>\n",
       "      <td>0172ab1d9</td>\n",
       "      <td>0</td>\n",
       "      <td>3</td>\n",
       "    </tr>\n",
       "    <tr>\n",
       "      <th>7654</th>\n",
       "      <td>0172ab1d9</td>\n",
       "      <td>1</td>\n",
       "      <td>3</td>\n",
       "    </tr>\n",
       "    <tr>\n",
       "      <th>7655</th>\n",
       "      <td>0172ab1d9</td>\n",
       "      <td>0</td>\n",
       "      <td>3</td>\n",
       "    </tr>\n",
       "  </tbody>\n",
       "</table>\n",
       "</div>"
      ],
      "text/plain": [
       "        idhogar  parentesco1  Target\n",
       "7651  0172ab1d9            0       3\n",
       "7652  0172ab1d9            0       3\n",
       "7653  0172ab1d9            0       3\n",
       "7654  0172ab1d9            1       3\n",
       "7655  0172ab1d9            0       3"
      ]
     },
     "execution_count": 52,
     "metadata": {},
     "output_type": "execute_result"
    }
   ],
   "source": [
    "## checking if all is ok\n",
    "print(diffTarget[[0]])\n",
    "costa_train[['idhogar', 'parentesco1', 'Target']][costa_train['idhogar'] == '0172ab1d9']"
   ]
  },
  {
   "cell_type": "code",
   "execution_count": null,
   "metadata": {},
   "outputs": [],
   "source": []
  },
  {
   "cell_type": "code",
   "execution_count": 780,
   "metadata": {},
   "outputs": [],
   "source": [
    "### Number of heads of households"
   ]
  },
  {
   "cell_type": "code",
   "execution_count": 637,
   "metadata": {},
   "outputs": [],
   "source": [
    "#head_household = costa_train.loc[costa_train['parentesco1'] == 1, :]\n",
    "#head_household.shape"
   ]
  },
  {
   "cell_type": "code",
   "execution_count": 638,
   "metadata": {},
   "outputs": [],
   "source": [
    "# 2970 heads of households"
   ]
  },
  {
   "cell_type": "markdown",
   "metadata": {},
   "source": [
    "### Data is already splitted in training set and testing set"
   ]
  },
  {
   "cell_type": "markdown",
   "metadata": {},
   "source": [
    "Main table is broken into two files for Train (with a Target column) and Test (without the Target column)."
   ]
  },
  {
   "cell_type": "code",
   "execution_count": 867,
   "metadata": {},
   "outputs": [],
   "source": [
    "#len(costa_test)*100/(len(costa_test)+len(costa_train))"
   ]
  },
  {
   "cell_type": "code",
   "execution_count": 868,
   "metadata": {},
   "outputs": [],
   "source": [
    "#Train = 29% ; Test (without 'Target') = 71%"
   ]
  },
  {
   "cell_type": "markdown",
   "metadata": {},
   "source": [
    "## Splitting \"Train\" to training (80%) and testing sets (20%) "
   ]
  },
  {
   "cell_type": "code",
   "execution_count": 53,
   "metadata": {},
   "outputs": [
    {
     "name": "stdout",
     "output_type": "stream",
     "text": [
      "(9360, 128)\n",
      "7488.0\n",
      "1872.0\n"
     ]
    }
   ],
   "source": [
    "print(costa_train.shape)\n",
    "print(costa_train.shape[0]*0.8)\n",
    "print(costa_train.shape[0]*0.2)\n",
    "\n",
    "new_train = costa_train.sample(int(costa_train.shape[0]*0.8))\n",
    "new_test = costa_train.sample(int(costa_train.shape[0]*0.2))\n"
   ]
  },
  {
   "cell_type": "code",
   "execution_count": 50,
   "metadata": {},
   "outputs": [
    {
     "data": {
      "text/plain": [
       "(7488, 128)"
      ]
     },
     "execution_count": 50,
     "metadata": {},
     "output_type": "execute_result"
    }
   ],
   "source": [
    "new_train.shape"
   ]
  },
  {
   "cell_type": "code",
   "execution_count": 54,
   "metadata": {},
   "outputs": [],
   "source": [
    "y = new_train['Target']\n",
    "X = new_train[[col for col in new_train.columns if (col != 'Target') & (col != 'idhogar')]]\n",
    "\n",
    "X_train, X_test, y_train, y_test = train_test_split(X, y, train_size=0.8, test_size=0.2)"
   ]
  },
  {
   "cell_type": "code",
   "execution_count": 55,
   "metadata": {},
   "outputs": [
    {
     "name": "stdout",
     "output_type": "stream",
     "text": [
      "(5990, 126)\n",
      "(5990,)\n"
     ]
    }
   ],
   "source": [
    "print(X_train.shape)\n",
    "print(y_train.shape)"
   ]
  },
  {
   "cell_type": "code",
   "execution_count": 56,
   "metadata": {},
   "outputs": [
    {
     "name": "stdout",
     "output_type": "stream",
     "text": [
      "(1498, 126)\n",
      "(1498,)\n"
     ]
    }
   ],
   "source": [
    "print(X_test.shape)\n",
    "print(y_test.shape)"
   ]
  },
  {
   "cell_type": "markdown",
   "metadata": {},
   "source": [
    "### Model results into a dataframe"
   ]
  },
  {
   "cell_type": "code",
   "execution_count": 55,
   "metadata": {},
   "outputs": [],
   "source": [
    "model_accuracies = pd.DataFrame()\n",
    "\n",
    "model_accuracies = pd.DataFrame(columns = ['model', 'F1 score', 'precision', 'recall', 'accuracy'])\n"
   ]
  },
  {
   "cell_type": "code",
   "execution_count": null,
   "metadata": {},
   "outputs": [],
   "source": []
  },
  {
   "cell_type": "markdown",
   "metadata": {},
   "source": [
    "## Model 1: Decision Tree"
   ]
  },
  {
   "cell_type": "markdown",
   "metadata": {},
   "source": [
    "# Si on veut que dans chaque fold, on est une quantité égale de chaque label"
   ]
  },
  {
   "cell_type": "code",
   "execution_count": 2,
   "metadata": {},
   "outputs": [
    {
     "name": "stdout",
     "output_type": "stream",
     "text": [
      "[2 3 6 7 8 9] [0 1 4 5]\n",
      "[0 1 3 4 5 8 9] [2 6 7]\n",
      "[0 1 2 4 5 6 7] [3 8 9]\n"
     ]
    }
   ],
   "source": [
    "from sklearn.model_selection import StratifiedKFold\n",
    "import numpy as np\n",
    "\n",
    "X = np.ones(10)\n",
    "y = [0, 0, 0, 0, 1, 1, 1, 1, 1, 1]\n",
    "skf = StratifiedKFold(n_splits=3)\n",
    "for train, test in skf.split(X, y):\n",
    "    print(\"%s %s\" % (train, test))"
   ]
  },
  {
   "cell_type": "code",
   "execution_count": 1070,
   "metadata": {},
   "outputs": [
    {
     "name": "stdout",
     "output_type": "stream",
     "text": [
      "Confusion matrix \n",
      " [[116   3   0   4]\n",
      " [  3 203   5  28]\n",
      " [  5  10 160  21]\n",
      " [ 12  13  22 893]] \n",
      "\n",
      "Accuracy score 0.9158878504672897\n",
      "balanced_accuracy_score:  0.8896970866109482 \n",
      "\n",
      "Precision score:  [0.85294118 0.88646288 0.85561497 0.94397463]\n",
      "Recall score : [0.94308943 0.84937238 0.81632653 0.95      ]\n",
      "F1 score : 0.8864402830755841 \n",
      "\n"
     ]
    }
   ],
   "source": [
    "clf = tree.DecisionTreeClassifier()\n",
    "clf = clf.fit(X_train, y_train)\n",
    "\n",
    "y_pred_test_rf = clf.predict(X_test)\n",
    "\n",
    "print('Confusion matrix \\n', confusion_matrix(y_test, y_pred_test_rf), '\\n')\n",
    "print('Accuracy score', accuracy_score(y_test, y_pred_test_rf))\n",
    "\n",
    "print('balanced_accuracy_score: ', balanced_accuracy_score(y_test, y_pred_test_rf), '\\n')\n",
    "\n",
    "print('Precision score: ', precision_score(y_test, y_pred_test_rf, average=None))\n",
    "print('Recall score :', recall_score(y_test, y_pred_test_rf, average=None))\n",
    "print('F1 score :', f1_score(y_test, y_pred_test_rf, average='macro'), '\\n')"
   ]
  },
  {
   "cell_type": "markdown",
   "metadata": {},
   "source": [
    "### Cross validation"
   ]
  },
  {
   "cell_type": "code",
   "execution_count": 1133,
   "metadata": {},
   "outputs": [],
   "source": [
    "# 10 fold cross validation\n",
    "\n",
    "cv_score = cross_val_score(tree.DecisionTreeClassifier(), X_train, y_train, cv = 10, scoring='f1_weighted')\n",
    "prec = cross_val_score(tree.DecisionTreeClassifier(), X_train, y_train, cv = 10, scoring='precision_weighted')\n",
    "rec = cross_val_score(tree.DecisionTreeClassifier(), X_train, y_train, cv = 10, scoring='recall_weighted')\n",
    "acc = cross_val_score(tree.DecisionTreeClassifier(), X_train, y_train, cv = 10, scoring='accuracy')\n"
   ]
  },
  {
   "cell_type": "code",
   "execution_count": 1072,
   "metadata": {},
   "outputs": [
    {
     "data": {
      "text/plain": [
       "array([0.8968386 , 0.895     , 0.91166667, 0.92153589, 0.9015025 ,\n",
       "       0.88981636, 0.88461538, 0.88294314, 0.90133779, 0.89464883])"
      ]
     },
     "execution_count": 1072,
     "metadata": {},
     "output_type": "execute_result"
    }
   ],
   "source": [
    "acc"
   ]
  },
  {
   "cell_type": "code",
   "execution_count": 1134,
   "metadata": {},
   "outputs": [],
   "source": [
    "cv_score = cross_val_score(tree.DecisionTreeClassifier(), X_train, y_train, cv = 10, scoring='f1_weighted')\n",
    "prec = cross_val_score(tree.DecisionTreeClassifier(), X_train, y_train, cv = 10, scoring='precision_weighted')\n",
    "rec = cross_val_score(tree.DecisionTreeClassifier(), X_train, y_train, cv = 10, scoring='recall_weighted')\n",
    "acc = cross_val_score(tree.DecisionTreeClassifier(), X_train, y_train, cv = 10, scoring='accuracy')\n",
    "\n",
    "\n",
    "model_accuracies = model_accuracies.append({'model': 'Decision_Tree', \n",
    "                                            #'accuracy': accuracy_score(y_test, y_pred_test_rf),\n",
    "                                            'F1 score': np.mean(cv_score),\n",
    "                                            'precision':np.mean(prec),\n",
    "                                            'recall': np.mean(rec),\n",
    "                                            'accuracy': np.mean(acc)},ignore_index=True)\n",
    "                                         "
   ]
  },
  {
   "cell_type": "code",
   "execution_count": 1125,
   "metadata": {},
   "outputs": [
    {
     "data": {
      "text/html": [
       "<div>\n",
       "<style scoped>\n",
       "    .dataframe tbody tr th:only-of-type {\n",
       "        vertical-align: middle;\n",
       "    }\n",
       "\n",
       "    .dataframe tbody tr th {\n",
       "        vertical-align: top;\n",
       "    }\n",
       "\n",
       "    .dataframe thead th {\n",
       "        text-align: right;\n",
       "    }\n",
       "</style>\n",
       "<table border=\"1\" class=\"dataframe\">\n",
       "  <thead>\n",
       "    <tr style=\"text-align: right;\">\n",
       "      <th></th>\n",
       "      <th>model</th>\n",
       "      <th>F1 score</th>\n",
       "      <th>precision</th>\n",
       "      <th>recall</th>\n",
       "      <th>accuracy</th>\n",
       "    </tr>\n",
       "  </thead>\n",
       "  <tbody>\n",
       "    <tr>\n",
       "      <th>0</th>\n",
       "      <td>Decision_Tree</td>\n",
       "      <td>0.895912</td>\n",
       "      <td>0.898013</td>\n",
       "      <td>0.896822</td>\n",
       "      <td>0.89699</td>\n",
       "    </tr>\n",
       "  </tbody>\n",
       "</table>\n",
       "</div>"
      ],
      "text/plain": [
       "           model  F1 score  precision    recall  accuracy\n",
       "0  Decision_Tree  0.895912   0.898013  0.896822   0.89699"
      ]
     },
     "execution_count": 1125,
     "metadata": {},
     "output_type": "execute_result"
    }
   ],
   "source": [
    "model_accuracies"
   ]
  },
  {
   "cell_type": "markdown",
   "metadata": {},
   "source": [
    "## Model 2: Random Forest classification\n"
   ]
  },
  {
   "cell_type": "code",
   "execution_count": 1075,
   "metadata": {},
   "outputs": [],
   "source": []
  },
  {
   "cell_type": "code",
   "execution_count": 1076,
   "metadata": {},
   "outputs": [
    {
     "name": "stdout",
     "output_type": "stream",
     "text": [
      "Confusion matrix \n",
      " [[109   2   1  11]\n",
      " [  9 191   5  34]\n",
      " [  6   5 147  38]\n",
      " [  4   5   4 927]] \n",
      "\n",
      "Accuracy score 0.9172229639519359\n",
      "balanced_accuracy_score:  0.8553780636177233 \n",
      "\n",
      "Precision score:  [0.8515625  0.9408867  0.93630573 0.91782178]\n",
      "Recall score : [0.88617886 0.79916318 0.75       0.98617021]\n",
      "F1 score : 0.8791024276626078 \n",
      "\n"
     ]
    }
   ],
   "source": [
    "costa_rf = RandomForestClassifier()\n",
    "\n",
    "costa_rf = costa_rf.fit(X_train, y_train)\n",
    "\n",
    "\n",
    "y_pred_test_rf = costa_rf.predict(X_test)\n",
    "\n",
    "print('Confusion matrix \\n', confusion_matrix(y_test, y_pred_test_rf), '\\n')\n",
    "print('Accuracy score', accuracy_score(y_test, y_pred_test_rf))\n",
    "\n",
    "print('balanced_accuracy_score: ', balanced_accuracy_score(y_test, y_pred_test_rf), '\\n')\n",
    "\n",
    "print('Precision score: ', precision_score(y_test, y_pred_test_rf, average=None))\n",
    "print('Recall score :', recall_score(y_test, y_pred_test_rf, average=None))\n",
    "print('F1 score :', f1_score(y_test, y_pred_test_rf, average='macro'), '\\n')"
   ]
  },
  {
   "cell_type": "markdown",
   "metadata": {},
   "source": [
    "### Cross validation"
   ]
  },
  {
   "cell_type": "code",
   "execution_count": 1135,
   "metadata": {},
   "outputs": [
    {
     "data": {
      "text/plain": [
       "array([0.91135026, 0.90926522, 0.89426125, 0.91101829, 0.87920563,\n",
       "       0.89812452, 0.88960879, 0.8945677 , 0.87411429, 0.88331113])"
      ]
     },
     "execution_count": 1135,
     "metadata": {},
     "output_type": "execute_result"
    }
   ],
   "source": [
    "# 10 fold cross validation\n",
    "cv_score = cross_val_score(RandomForestClassifier(), X_train, y_train, scoring = 'f1_weighted', cv = 10)\n",
    "cv_score"
   ]
  },
  {
   "cell_type": "code",
   "execution_count": 1136,
   "metadata": {},
   "outputs": [],
   "source": [
    "\n",
    "\n",
    "cv_score = cross_val_score(RandomForestClassifier(), X_train, y_train, cv = 10, scoring='f1_weighted')\n",
    "prec = cross_val_score(RandomForestClassifier(), X_train, y_train, cv = 10, scoring='precision_weighted')\n",
    "rec = cross_val_score(RandomForestClassifier(), X_train, y_train, cv = 10, scoring='recall_weighted')\n",
    "acc = cross_val_score(RandomForestClassifier(), X_train, y_train, cv = 10, scoring='accuracy')\n",
    "\n",
    "model_accuracies = model_accuracies.append({'model': 'Random Forest', \n",
    "                                            #'accuracy': accuracy_score(y_test, y_pred_test_rf),\n",
    "                                            'F1 score': np.mean(cv_score),\n",
    "                                            'precision':np.mean(prec),\n",
    "                                            'recall': np.mean(rec),\n",
    "                                            'accuracy': np.mean(acc)},ignore_index=True)\n",
    "                                         "
   ]
  },
  {
   "cell_type": "markdown",
   "metadata": {},
   "source": [
    "### Feature importances"
   ]
  },
  {
   "cell_type": "code",
   "execution_count": 1137,
   "metadata": {},
   "outputs": [
    {
     "data": {
      "text/html": [
       "<div>\n",
       "<style scoped>\n",
       "    .dataframe tbody tr th:only-of-type {\n",
       "        vertical-align: middle;\n",
       "    }\n",
       "\n",
       "    .dataframe tbody tr th {\n",
       "        vertical-align: top;\n",
       "    }\n",
       "\n",
       "    .dataframe thead th {\n",
       "        text-align: right;\n",
       "    }\n",
       "</style>\n",
       "<table border=\"1\" class=\"dataframe\">\n",
       "  <thead>\n",
       "    <tr style=\"text-align: right;\">\n",
       "      <th></th>\n",
       "      <th>feature</th>\n",
       "      <th>importance</th>\n",
       "    </tr>\n",
       "  </thead>\n",
       "  <tbody>\n",
       "    <tr>\n",
       "      <th>93</th>\n",
       "      <td>meaneduc</td>\n",
       "      <td>0.063092</td>\n",
       "    </tr>\n",
       "    <tr>\n",
       "      <th>125</th>\n",
       "      <td>SQBdependency</td>\n",
       "      <td>0.039299</td>\n",
       "    </tr>\n",
       "    <tr>\n",
       "      <th>90</th>\n",
       "      <td>dependency</td>\n",
       "      <td>0.035718</td>\n",
       "    </tr>\n",
       "    <tr>\n",
       "      <th>104</th>\n",
       "      <td>overcrowding</td>\n",
       "      <td>0.029369</td>\n",
       "    </tr>\n",
       "    <tr>\n",
       "      <th>113</th>\n",
       "      <td>qmobilephone</td>\n",
       "      <td>0.029165</td>\n",
       "    </tr>\n",
       "    <tr>\n",
       "      <th>123</th>\n",
       "      <td>SQBedjefe</td>\n",
       "      <td>0.026851</td>\n",
       "    </tr>\n",
       "    <tr>\n",
       "      <th>1</th>\n",
       "      <td>rooms</td>\n",
       "      <td>0.026321</td>\n",
       "    </tr>\n",
       "    <tr>\n",
       "      <th>91</th>\n",
       "      <td>edjefe</td>\n",
       "      <td>0.024526</td>\n",
       "    </tr>\n",
       "    <tr>\n",
       "      <th>15</th>\n",
       "      <td>escolari</td>\n",
       "      <td>0.022112</td>\n",
       "    </tr>\n",
       "    <tr>\n",
       "      <th>87</th>\n",
       "      <td>hogar_nin</td>\n",
       "      <td>0.021140</td>\n",
       "    </tr>\n",
       "    <tr>\n",
       "      <th>122</th>\n",
       "      <td>age</td>\n",
       "      <td>0.021111</td>\n",
       "    </tr>\n",
       "    <tr>\n",
       "      <th>11</th>\n",
       "      <td>r4m3</td>\n",
       "      <td>0.020925</td>\n",
       "    </tr>\n",
       "    <tr>\n",
       "      <th>13</th>\n",
       "      <td>r4t2</td>\n",
       "      <td>0.020289</td>\n",
       "    </tr>\n",
       "    <tr>\n",
       "      <th>7</th>\n",
       "      <td>r4h2</td>\n",
       "      <td>0.020219</td>\n",
       "    </tr>\n",
       "    <tr>\n",
       "      <th>92</th>\n",
       "      <td>edjefa</td>\n",
       "      <td>0.020181</td>\n",
       "    </tr>\n",
       "  </tbody>\n",
       "</table>\n",
       "</div>"
      ],
      "text/plain": [
       "           feature  importance\n",
       "93        meaneduc    0.063092\n",
       "125  SQBdependency    0.039299\n",
       "90      dependency    0.035718\n",
       "104   overcrowding    0.029369\n",
       "113   qmobilephone    0.029165\n",
       "123      SQBedjefe    0.026851\n",
       "1            rooms    0.026321\n",
       "91          edjefe    0.024526\n",
       "15        escolari    0.022112\n",
       "87       hogar_nin    0.021140\n",
       "122            age    0.021111\n",
       "11            r4m3    0.020925\n",
       "13            r4t2    0.020289\n",
       "7             r4h2    0.020219\n",
       "92          edjefa    0.020181"
      ]
     },
     "execution_count": 1137,
     "metadata": {},
     "output_type": "execute_result"
    }
   ],
   "source": [
    "\n",
    "feature_importances = pd.DataFrame({'feature': list(X_train.columns), 'importance': costa_rf.feature_importances_})\n",
    "feature_importances.sort_values(by='importance', ascending=False).head(15)"
   ]
  },
  {
   "cell_type": "markdown",
   "metadata": {},
   "source": [
    "Most important variable is the average amount of education in the household"
   ]
  },
  {
   "cell_type": "code",
   "execution_count": 1163,
   "metadata": {},
   "outputs": [],
   "source": [
    "rcParams['figure.figsize'] = 12, 4\n"
   ]
  },
  {
   "cell_type": "code",
   "execution_count": 1164,
   "metadata": {},
   "outputs": [],
   "source": [
    "l = ['meaneduc', 'hogar_nin', 'dependency']"
   ]
  },
  {
   "cell_type": "code",
   "execution_count": 1165,
   "metadata": {},
   "outputs": [
    {
     "data": {
      "image/png": "[encoded data removed]",
      "text/plain": [
       "<Figure size 864x288 with 3 Axes>"
      ]
     },
     "metadata": {},
     "output_type": "display_data"
    }
   ],
   "source": [
    "fig = plt.figure()\n",
    "\n",
    "for i in range(1, 4):\n",
    "    ax = fig.add_subplot(1, 3, i)\n",
    "    #a['feature']\n",
    "    ax = sns.boxplot(x=\"Target\", y = l[i-1], data = costa_train, showfliers=False, palette='Accent')\n",
    "    #ax = sns.boxplot(x=\"Target\", y=\"SQBdependency\", data = costa_train)\n",
    "\n",
    "#ax = sns.swarmplot(x=\"Target\", y=\"meaneduc\", data= costa_train, color=\".25\")"
   ]
  },
  {
   "cell_type": "code",
   "execution_count": 2,
   "metadata": {},
   "outputs": [
    {
     "ename": "NameError",
     "evalue": "name 'pd' is not defined",
     "output_type": "error",
     "traceback": [
      "\u001b[0;31m---------------------------------------------------------------------------\u001b[0m",
      "\u001b[0;31mNameError\u001b[0m                                 Traceback (most recent call last)",
      "\u001b[0;32m<ipython-input-2-bc499b96eaa6>\u001b[0m in \u001b[0;36m<module>\u001b[0;34m\u001b[0m\n\u001b[1;32m      3\u001b[0m \u001b[0;34m\u001b[0m\u001b[0m\n\u001b[1;32m      4\u001b[0m \u001b[0;34m\u001b[0m\u001b[0m\n\u001b[0;32m----> 5\u001b[0;31m \u001b[0mfeature_importances\u001b[0m \u001b[0;34m=\u001b[0m \u001b[0mpd\u001b[0m\u001b[0;34m.\u001b[0m\u001b[0mDataFrame\u001b[0m\u001b[0;34m(\u001b[0m\u001b[0;34m{\u001b[0m\u001b[0;34m'feature'\u001b[0m\u001b[0;34m:\u001b[0m \u001b[0mlist\u001b[0m\u001b[0;34m(\u001b[0m\u001b[0mX_train\u001b[0m\u001b[0;34m.\u001b[0m\u001b[0mcolumns\u001b[0m\u001b[0;34m)\u001b[0m\u001b[0;34m,\u001b[0m \u001b[0;34m'importance'\u001b[0m\u001b[0;34m:\u001b[0m \u001b[0mcosta_rf\u001b[0m\u001b[0;34m.\u001b[0m\u001b[0mfeature_importances_\u001b[0m\u001b[0;34m}\u001b[0m\u001b[0;34m)\u001b[0m\u001b[0;34m\u001b[0m\u001b[0;34m\u001b[0m\u001b[0m\n\u001b[0m\u001b[1;32m      6\u001b[0m \u001b[0mfeature_importances\u001b[0m\u001b[0;34m.\u001b[0m\u001b[0msort_values\u001b[0m\u001b[0;34m(\u001b[0m\u001b[0mby\u001b[0m\u001b[0;34m=\u001b[0m\u001b[0;34m'importance'\u001b[0m\u001b[0;34m,\u001b[0m \u001b[0mascending\u001b[0m\u001b[0;34m=\u001b[0m\u001b[0;32mFalse\u001b[0m\u001b[0;34m)\u001b[0m\u001b[0;34m.\u001b[0m\u001b[0mhead\u001b[0m\u001b[0;34m(\u001b[0m\u001b[0;36m10\u001b[0m\u001b[0;34m)\u001b[0m\u001b[0;34m\u001b[0m\u001b[0;34m\u001b[0m\u001b[0m\n\u001b[1;32m      7\u001b[0m \u001b[0;34m\u001b[0m\u001b[0m\n",
      "\u001b[0;31mNameError\u001b[0m: name 'pd' is not defined"
     ]
    }
   ],
   "source": [
    "\n",
    "rcParams['figure.figsize'] = 20, 7\n",
    "\n",
    "\n",
    "feature_importances = pd.DataFrame({'feature': list(X_train.columns), 'importance': costa_rf.feature_importances_})\n",
    "feature_importances.sort_values(by='importance', ascending=False).head(10)\n",
    "\n",
    "sns.barplot(x=\"feature\", y=\"importance\", data = feature_importances.sort_values(by='importance', ascending=False).head(10))\n",
    "plt.xticks(rotation=45)\n"
   ]
  },
  {
   "cell_type": "code",
   "execution_count": null,
   "metadata": {},
   "outputs": [],
   "source": []
  },
  {
   "cell_type": "code",
   "execution_count": 1141,
   "metadata": {},
   "outputs": [
    {
     "data": {
      "text/html": [
       "<div>\n",
       "<style scoped>\n",
       "    .dataframe tbody tr th:only-of-type {\n",
       "        vertical-align: middle;\n",
       "    }\n",
       "\n",
       "    .dataframe tbody tr th {\n",
       "        vertical-align: top;\n",
       "    }\n",
       "\n",
       "    .dataframe thead th {\n",
       "        text-align: right;\n",
       "    }\n",
       "</style>\n",
       "<table border=\"1\" class=\"dataframe\">\n",
       "  <thead>\n",
       "    <tr style=\"text-align: right;\">\n",
       "      <th></th>\n",
       "      <th>model</th>\n",
       "      <th>F1 score</th>\n",
       "      <th>precision</th>\n",
       "      <th>recall</th>\n",
       "      <th>accuracy</th>\n",
       "    </tr>\n",
       "  </thead>\n",
       "  <tbody>\n",
       "    <tr>\n",
       "      <th>0</th>\n",
       "      <td>Decision_Tree</td>\n",
       "      <td>0.903523</td>\n",
       "      <td>0.898122</td>\n",
       "      <td>0.902833</td>\n",
       "      <td>0.902164</td>\n",
       "    </tr>\n",
       "    <tr>\n",
       "      <th>1</th>\n",
       "      <td>Random Forest</td>\n",
       "      <td>0.888991</td>\n",
       "      <td>0.897201</td>\n",
       "      <td>0.894159</td>\n",
       "      <td>0.892479</td>\n",
       "    </tr>\n",
       "  </tbody>\n",
       "</table>\n",
       "</div>"
      ],
      "text/plain": [
       "           model  F1 score  precision    recall  accuracy\n",
       "0  Decision_Tree  0.903523   0.898122  0.902833  0.902164\n",
       "1  Random Forest  0.888991   0.897201  0.894159  0.892479"
      ]
     },
     "execution_count": 1141,
     "metadata": {},
     "output_type": "execute_result"
    }
   ],
   "source": [
    "model_accuracies"
   ]
  },
  {
   "cell_type": "markdown",
   "metadata": {},
   "source": [
    "### Model 3: K-Neighbors (less performant)\n"
   ]
  },
  {
   "cell_type": "code",
   "execution_count": 1142,
   "metadata": {},
   "outputs": [
    {
     "name": "stdout",
     "output_type": "stream",
     "text": [
      "Number of neighbors:  1\n",
      "F1 score : 0.6665617635408434 \n",
      "\n",
      "Number of neighbors:  3\n",
      "F1 score : 0.6296989872622679 \n",
      "\n",
      "Number of neighbors:  5\n",
      "F1 score : 0.6266368954042657 \n",
      "\n",
      "Number of neighbors:  7\n",
      "F1 score : 0.6209688979905527 \n",
      "\n"
     ]
    },
    {
     "data": {
      "image/png": "[encoded data removed]",
      "text/plain": [
       "<Figure size 720x504 with 1 Axes>"
      ]
     },
     "metadata": {},
     "output_type": "display_data"
    }
   ],
   "source": [
    "# initialize and fit the model\n",
    "\n",
    "rcParams['figure.figsize'] = 10, 7\n",
    "\n",
    "for neighbors in [1, 3, 5, 7]:\n",
    "    \n",
    "    neighbor_model = KNeighborsClassifier(n_neighbors=neighbors)\n",
    "    \n",
    "    # 10 fold cross validation\n",
    "    \n",
    "\n",
    "    cv_score = cross_val_score(neighbor_model, X_train, y_train, cv = 10, scoring='f1_weighted')\n",
    "    prec = cross_val_score(neighbor_model, X_train, y_train, cv = 10, scoring='precision_weighted')\n",
    "    rec = cross_val_score(neighbor_model, X_train, y_train, cv = 10, scoring='recall_weighted')\n",
    "    acc = cross_val_score(neighbor_model, X_train, y_train, cv = 10, scoring='accuracy')\n",
    "\n",
    "    model_accuracies = model_accuracies.append({'model': 'Knn-'+str(neighbors), \n",
    "                                                'F1 score': np.mean(cv_score),\n",
    "                                                'precision':np.mean(prec),\n",
    "                                                'recall': np.mean(rec),\n",
    "                                                'accuracy': np.mean(acc)},ignore_index=True)\n",
    "\n",
    "    print('Number of neighbors: ', neighbors)\n",
    "    \n",
    "    print('F1 score :', np.mean(cv_score), '\\n')\n",
    "    \n",
    "    \n",
    "    plt.bar(neighbors, np.mean(cv_score))\n",
    "    plt.gca().legend((['# of neighbors = ' + str(neighbors) for neighbors in range(1,9,2)]))\n",
    "    plt.ylabel('Macro F1 score')\n",
    "    plt.xlabel('# of neighbors')\n",
    "    plt.ylim(0,1)\n",
    "    \n",
    " "
   ]
  },
  {
   "cell_type": "code",
   "execution_count": 1143,
   "metadata": {},
   "outputs": [
    {
     "data": {
      "text/html": [
       "<div>\n",
       "<style scoped>\n",
       "    .dataframe tbody tr th:only-of-type {\n",
       "        vertical-align: middle;\n",
       "    }\n",
       "\n",
       "    .dataframe tbody tr th {\n",
       "        vertical-align: top;\n",
       "    }\n",
       "\n",
       "    .dataframe thead th {\n",
       "        text-align: right;\n",
       "    }\n",
       "</style>\n",
       "<table border=\"1\" class=\"dataframe\">\n",
       "  <thead>\n",
       "    <tr style=\"text-align: right;\">\n",
       "      <th></th>\n",
       "      <th>model</th>\n",
       "      <th>F1 score</th>\n",
       "      <th>precision</th>\n",
       "      <th>recall</th>\n",
       "      <th>accuracy</th>\n",
       "    </tr>\n",
       "  </thead>\n",
       "  <tbody>\n",
       "    <tr>\n",
       "      <th>0</th>\n",
       "      <td>Decision_Tree</td>\n",
       "      <td>0.903523</td>\n",
       "      <td>0.898122</td>\n",
       "      <td>0.902833</td>\n",
       "      <td>0.902164</td>\n",
       "    </tr>\n",
       "    <tr>\n",
       "      <th>1</th>\n",
       "      <td>Random Forest</td>\n",
       "      <td>0.888991</td>\n",
       "      <td>0.897201</td>\n",
       "      <td>0.894159</td>\n",
       "      <td>0.892479</td>\n",
       "    </tr>\n",
       "    <tr>\n",
       "      <th>2</th>\n",
       "      <td>Knn-1</td>\n",
       "      <td>0.666562</td>\n",
       "      <td>0.665099</td>\n",
       "      <td>0.669765</td>\n",
       "      <td>0.669765</td>\n",
       "    </tr>\n",
       "    <tr>\n",
       "      <th>3</th>\n",
       "      <td>Knn-3</td>\n",
       "      <td>0.629699</td>\n",
       "      <td>0.628350</td>\n",
       "      <td>0.642383</td>\n",
       "      <td>0.642383</td>\n",
       "    </tr>\n",
       "    <tr>\n",
       "      <th>4</th>\n",
       "      <td>Knn-5</td>\n",
       "      <td>0.626637</td>\n",
       "      <td>0.614974</td>\n",
       "      <td>0.646742</td>\n",
       "      <td>0.646742</td>\n",
       "    </tr>\n",
       "    <tr>\n",
       "      <th>5</th>\n",
       "      <td>Knn-7</td>\n",
       "      <td>0.620969</td>\n",
       "      <td>0.606236</td>\n",
       "      <td>0.654254</td>\n",
       "      <td>0.654254</td>\n",
       "    </tr>\n",
       "  </tbody>\n",
       "</table>\n",
       "</div>"
      ],
      "text/plain": [
       "           model  F1 score  precision    recall  accuracy\n",
       "0  Decision_Tree  0.903523   0.898122  0.902833  0.902164\n",
       "1  Random Forest  0.888991   0.897201  0.894159  0.892479\n",
       "2          Knn-1  0.666562   0.665099  0.669765  0.669765\n",
       "3          Knn-3  0.629699   0.628350  0.642383  0.642383\n",
       "4          Knn-5  0.626637   0.614974  0.646742  0.646742\n",
       "5          Knn-7  0.620969   0.606236  0.654254  0.654254"
      ]
     },
     "execution_count": 1143,
     "metadata": {},
     "output_type": "execute_result"
    }
   ],
   "source": [
    "model_accuracies"
   ]
  },
  {
   "cell_type": "markdown",
   "metadata": {},
   "source": [
    "## Model 4: Gradient Boosting"
   ]
  },
  {
   "cell_type": "code",
   "execution_count": 1087,
   "metadata": {},
   "outputs": [],
   "source": [
    "costa_gb = GradientBoostingClassifier()\n",
    "\n"
   ]
  },
  {
   "cell_type": "code",
   "execution_count": 1088,
   "metadata": {},
   "outputs": [
    {
     "name": "stdout",
     "output_type": "stream",
     "text": [
      "Confusion matrix \n",
      " [[ 68  15   2  38]\n",
      " [ 10 123   4 102]\n",
      " [  5  34  44 113]\n",
      " [  5  24   5 906]] \n",
      "\n",
      "Accuracy score 0.7616822429906542\n",
      "balanced_accuracy_score:  0.5639523657680324 \n",
      "\n",
      "Precision score:  [0.77272727 0.62755102 0.8        0.78170837]\n",
      "Recall score : [0.55284553 0.51464435 0.2244898  0.96382979]\n",
      "F1 score : 0.6059832092343886 \n",
      "\n"
     ]
    }
   ],
   "source": [
    "costa_gb = GradientBoostingClassifier()\n",
    "\n",
    "costa_gb = costa_gb.fit(X_train, y_train)\n",
    "\n",
    "\n",
    "#costa_gb.fit(X_train, y_train)\n",
    "y_pred_test_gb = costa_gb.predict(X_test)\n",
    "\n",
    "print('Confusion matrix \\n', confusion_matrix(y_test, y_pred_test_gb), '\\n')\n",
    "print('Accuracy score', accuracy_score(y_test, y_pred_test_gb))\n",
    "\n",
    "\n",
    "print('balanced_accuracy_score: ', balanced_accuracy_score(y_test, y_pred_test_gb), '\\n')\n",
    "accuracy_score(y_test, y_pred_test_gb)\n",
    "\n",
    "\n",
    "print('Precision score: ', precision_score(y_test, y_pred_test_gb, average=None))\n",
    "print('Recall score :', recall_score(y_test, y_pred_test_gb, average=None))\n",
    "print('F1 score :', f1_score(y_test, y_pred_test_gb, average='macro'), '\\n')"
   ]
  },
  {
   "cell_type": "markdown",
   "metadata": {},
   "source": [
    "### Cross validation"
   ]
  },
  {
   "cell_type": "code",
   "execution_count": 1089,
   "metadata": {},
   "outputs": [],
   "source": [
    "# 10 fold cross validation\n",
    "cv_score = cross_val_score(GradientBoostingClassifier(), X_train, y_train, cv = 10)"
   ]
  },
  {
   "cell_type": "code",
   "execution_count": 1144,
   "metadata": {},
   "outputs": [],
   "source": [
    "\n",
    "\n",
    "cv_score = cross_val_score(GradientBoostingClassifier(), X_train, y_train, cv = 10, scoring='f1_weighted')\n",
    "prec = cross_val_score(GradientBoostingClassifier(), X_train, y_train, cv = 10, scoring='precision_weighted')\n",
    "rec = cross_val_score(GradientBoostingClassifier(), X_train, y_train, cv = 10, scoring='recall_weighted')\n",
    "acc = cross_val_score(GradientBoostingClassifier(), X_train, y_train, cv = 10, scoring='accuracy')\n",
    "\n",
    "model_accuracies = model_accuracies.append({'model': \"GradientBoosting\", \n",
    "                                            'F1 score': np.mean(cv_score),\n",
    "                                            'precision':np.mean(prec),\n",
    "                                            'recall': np.mean(rec),\n",
    "                                            'accuracy': np.mean(acc)},ignore_index=True)"
   ]
  },
  {
   "cell_type": "code",
   "execution_count": 1091,
   "metadata": {},
   "outputs": [
    {
     "data": {
      "text/html": [
       "<div>\n",
       "<style scoped>\n",
       "    .dataframe tbody tr th:only-of-type {\n",
       "        vertical-align: middle;\n",
       "    }\n",
       "\n",
       "    .dataframe tbody tr th {\n",
       "        vertical-align: top;\n",
       "    }\n",
       "\n",
       "    .dataframe thead th {\n",
       "        text-align: right;\n",
       "    }\n",
       "</style>\n",
       "<table border=\"1\" class=\"dataframe\">\n",
       "  <thead>\n",
       "    <tr style=\"text-align: right;\">\n",
       "      <th></th>\n",
       "      <th>model</th>\n",
       "      <th>F1 score</th>\n",
       "      <th>precision</th>\n",
       "      <th>recall</th>\n",
       "      <th>accuracy</th>\n",
       "    </tr>\n",
       "  </thead>\n",
       "  <tbody>\n",
       "    <tr>\n",
       "      <th>0</th>\n",
       "      <td>Decision_Tree</td>\n",
       "      <td>0.898206</td>\n",
       "      <td>0.900685</td>\n",
       "      <td>0.898994</td>\n",
       "      <td>0.897991</td>\n",
       "    </tr>\n",
       "    <tr>\n",
       "      <th>1</th>\n",
       "      <td>Random Forest</td>\n",
       "      <td>0.896206</td>\n",
       "      <td>0.892149</td>\n",
       "      <td>0.896490</td>\n",
       "      <td>0.894654</td>\n",
       "    </tr>\n",
       "    <tr>\n",
       "      <th>2</th>\n",
       "      <td>Knn-1</td>\n",
       "      <td>0.666562</td>\n",
       "      <td>0.665099</td>\n",
       "      <td>0.669765</td>\n",
       "      <td>0.669765</td>\n",
       "    </tr>\n",
       "    <tr>\n",
       "      <th>3</th>\n",
       "      <td>Knn-3</td>\n",
       "      <td>0.629699</td>\n",
       "      <td>0.628350</td>\n",
       "      <td>0.642383</td>\n",
       "      <td>0.642383</td>\n",
       "    </tr>\n",
       "    <tr>\n",
       "      <th>4</th>\n",
       "      <td>Knn-5</td>\n",
       "      <td>0.626637</td>\n",
       "      <td>0.614974</td>\n",
       "      <td>0.646742</td>\n",
       "      <td>0.646742</td>\n",
       "    </tr>\n",
       "    <tr>\n",
       "      <th>5</th>\n",
       "      <td>Knn-7</td>\n",
       "      <td>0.620969</td>\n",
       "      <td>0.606236</td>\n",
       "      <td>0.654254</td>\n",
       "      <td>0.654254</td>\n",
       "    </tr>\n",
       "    <tr>\n",
       "      <th>6</th>\n",
       "      <td>GradientBoosting</td>\n",
       "      <td>0.716619</td>\n",
       "      <td>0.733761</td>\n",
       "      <td>0.747246</td>\n",
       "      <td>0.747747</td>\n",
       "    </tr>\n",
       "  </tbody>\n",
       "</table>\n",
       "</div>"
      ],
      "text/plain": [
       "              model  F1 score  precision    recall  accuracy\n",
       "0     Decision_Tree  0.898206   0.900685  0.898994  0.897991\n",
       "1     Random Forest  0.896206   0.892149  0.896490  0.894654\n",
       "2             Knn-1  0.666562   0.665099  0.669765  0.669765\n",
       "3             Knn-3  0.629699   0.628350  0.642383  0.642383\n",
       "4             Knn-5  0.626637   0.614974  0.646742  0.646742\n",
       "5             Knn-7  0.620969   0.606236  0.654254  0.654254\n",
       "6  GradientBoosting  0.716619   0.733761  0.747246  0.747747"
      ]
     },
     "execution_count": 1091,
     "metadata": {},
     "output_type": "execute_result"
    }
   ],
   "source": [
    "model_accuracies"
   ]
  },
  {
   "cell_type": "markdown",
   "metadata": {},
   "source": [
    "## Model 5: Gaussian Naive Bayes\n"
   ]
  },
  {
   "cell_type": "code",
   "execution_count": 1092,
   "metadata": {},
   "outputs": [],
   "source": [
    "gnb = GaussianNB()\n",
    "    "
   ]
  },
  {
   "cell_type": "code",
   "execution_count": 1093,
   "metadata": {},
   "outputs": [
    {
     "name": "stdout",
     "output_type": "stream",
     "text": [
      "Confusion matrix \n",
      " [[ 51   6  60   6]\n",
      " [ 38  17 167  17]\n",
      " [ 17   9 149  21]\n",
      " [ 42  14 448 436]] \n",
      "\n",
      "Accuracy score 0.43591455273698265\n"
     ]
    }
   ],
   "source": [
    "gnb = gnb.fit(X_train, y_train)\n",
    "\n",
    "#y_pred = gnb.fit(X_train, y_train)\n",
    "\n",
    "\n",
    "y_pred_test_gnb = gnb.predict(X_test)\n",
    "\n",
    "print('Confusion matrix \\n', confusion_matrix(y_test, y_pred_test_gnb), '\\n')\n",
    "print('Accuracy score', accuracy_score(y_test, y_pred_test_gnb))"
   ]
  },
  {
   "cell_type": "code",
   "execution_count": 1094,
   "metadata": {},
   "outputs": [
    {
     "name": "stdout",
     "output_type": "stream",
     "text": [
      "balanced_accuracy_score:  0.4274494305802824 \n",
      "\n",
      "Precision score:  [0.34459459 0.36956522 0.18082524 0.90833333]\n",
      "Recall score : [0.41463415 0.07112971 0.76020408 0.46382979]\n",
      "F1 score : 0.3504808448097563 \n",
      "\n"
     ]
    }
   ],
   "source": [
    "print('balanced_accuracy_score: ', balanced_accuracy_score(y_test, y_pred_test_gnb), '\\n')\n",
    "\n",
    "print('Precision score: ', precision_score(y_test, y_pred_test_gnb, average=None))\n",
    "print('Recall score :', recall_score(y_test, y_pred_test_gnb, average=None))\n",
    "print('F1 score :', f1_score(y_test, y_pred_test_gnb, average='macro'), '\\n')"
   ]
  },
  {
   "cell_type": "markdown",
   "metadata": {},
   "source": [
    "### Cross validation"
   ]
  },
  {
   "cell_type": "code",
   "execution_count": 1145,
   "metadata": {},
   "outputs": [],
   "source": [
    "# 10 fold cross validation\n",
    "\n",
    "cv_score = cross_val_score(GaussianNB(), X_train, y_train, cv = 10, scoring='f1_weighted')\n",
    "prec = cross_val_score(GaussianNB(), X_train, y_train, cv = 10, scoring='precision_weighted')\n",
    "rec = cross_val_score(GaussianNB(), X_train, y_train, cv = 10, scoring='recall_weighted')\n",
    "acc = cross_val_score(GaussianNB(), X_train, y_train, cv = 10, scoring='accuracy')\n",
    "\n",
    "model_accuracies = model_accuracies.append({'model': \"Gaussian Naive Bayes\", \n",
    "                                            'F1 score': np.mean(cv_score),\n",
    "                                            'precision':np.mean(prec),\n",
    "                                            'recall': np.mean(rec),\n",
    "                                            'accuracy': np.mean(acc)},ignore_index=True)"
   ]
  },
  {
   "cell_type": "code",
   "execution_count": 1146,
   "metadata": {},
   "outputs": [
    {
     "data": {
      "text/html": [
       "<div>\n",
       "<style scoped>\n",
       "    .dataframe tbody tr th:only-of-type {\n",
       "        vertical-align: middle;\n",
       "    }\n",
       "\n",
       "    .dataframe tbody tr th {\n",
       "        vertical-align: top;\n",
       "    }\n",
       "\n",
       "    .dataframe thead th {\n",
       "        text-align: right;\n",
       "    }\n",
       "</style>\n",
       "<table border=\"1\" class=\"dataframe\">\n",
       "  <thead>\n",
       "    <tr style=\"text-align: right;\">\n",
       "      <th></th>\n",
       "      <th>model</th>\n",
       "      <th>F1 score</th>\n",
       "      <th>precision</th>\n",
       "      <th>recall</th>\n",
       "      <th>accuracy</th>\n",
       "    </tr>\n",
       "  </thead>\n",
       "  <tbody>\n",
       "    <tr>\n",
       "      <th>0</th>\n",
       "      <td>Decision_Tree</td>\n",
       "      <td>0.903523</td>\n",
       "      <td>0.898122</td>\n",
       "      <td>0.902833</td>\n",
       "      <td>0.902164</td>\n",
       "    </tr>\n",
       "    <tr>\n",
       "      <th>1</th>\n",
       "      <td>Random Forest</td>\n",
       "      <td>0.888991</td>\n",
       "      <td>0.897201</td>\n",
       "      <td>0.894159</td>\n",
       "      <td>0.892479</td>\n",
       "    </tr>\n",
       "    <tr>\n",
       "      <th>2</th>\n",
       "      <td>Knn-1</td>\n",
       "      <td>0.666562</td>\n",
       "      <td>0.665099</td>\n",
       "      <td>0.669765</td>\n",
       "      <td>0.669765</td>\n",
       "    </tr>\n",
       "    <tr>\n",
       "      <th>3</th>\n",
       "      <td>Knn-3</td>\n",
       "      <td>0.629699</td>\n",
       "      <td>0.628350</td>\n",
       "      <td>0.642383</td>\n",
       "      <td>0.642383</td>\n",
       "    </tr>\n",
       "    <tr>\n",
       "      <th>4</th>\n",
       "      <td>Knn-5</td>\n",
       "      <td>0.626637</td>\n",
       "      <td>0.614974</td>\n",
       "      <td>0.646742</td>\n",
       "      <td>0.646742</td>\n",
       "    </tr>\n",
       "    <tr>\n",
       "      <th>5</th>\n",
       "      <td>Knn-7</td>\n",
       "      <td>0.620969</td>\n",
       "      <td>0.606236</td>\n",
       "      <td>0.654254</td>\n",
       "      <td>0.654254</td>\n",
       "    </tr>\n",
       "    <tr>\n",
       "      <th>6</th>\n",
       "      <td>GradientBoosting</td>\n",
       "      <td>0.716471</td>\n",
       "      <td>0.733496</td>\n",
       "      <td>0.747747</td>\n",
       "      <td>0.747580</td>\n",
       "    </tr>\n",
       "    <tr>\n",
       "      <th>7</th>\n",
       "      <td>Gaussian Naive Bayes</td>\n",
       "      <td>0.464929</td>\n",
       "      <td>0.679592</td>\n",
       "      <td>0.426193</td>\n",
       "      <td>0.426193</td>\n",
       "    </tr>\n",
       "  </tbody>\n",
       "</table>\n",
       "</div>"
      ],
      "text/plain": [
       "                  model  F1 score  precision    recall  accuracy\n",
       "0         Decision_Tree  0.903523   0.898122  0.902833  0.902164\n",
       "1         Random Forest  0.888991   0.897201  0.894159  0.892479\n",
       "2                 Knn-1  0.666562   0.665099  0.669765  0.669765\n",
       "3                 Knn-3  0.629699   0.628350  0.642383  0.642383\n",
       "4                 Knn-5  0.626637   0.614974  0.646742  0.646742\n",
       "5                 Knn-7  0.620969   0.606236  0.654254  0.654254\n",
       "6      GradientBoosting  0.716471   0.733496  0.747747  0.747580\n",
       "7  Gaussian Naive Bayes  0.464929   0.679592  0.426193  0.426193"
      ]
     },
     "execution_count": 1146,
     "metadata": {},
     "output_type": "execute_result"
    }
   ],
   "source": [
    "model_accuracies"
   ]
  },
  {
   "cell_type": "markdown",
   "metadata": {},
   "source": [
    "## Model 6: Bagging classifier"
   ]
  },
  {
   "cell_type": "code",
   "execution_count": 1097,
   "metadata": {},
   "outputs": [],
   "source": [
    "from sklearn.ensemble import BaggingClassifier\n",
    "\n",
    "bagging = BaggingClassifier(KNeighborsClassifier(),max_samples=0.5, max_features=0.5)"
   ]
  },
  {
   "cell_type": "code",
   "execution_count": 1098,
   "metadata": {},
   "outputs": [
    {
     "name": "stdout",
     "output_type": "stream",
     "text": [
      "Confusion matrix \n",
      " [[ 52  20   3  48]\n",
      " [ 16  90  14 119]\n",
      " [  2  23  45 126]\n",
      " [ 11  13   9 907]] \n",
      "\n",
      "Accuracy score 0.7303070761014686\n",
      "balanced_accuracy_score:  0.49845467976378766 \n",
      "\n",
      "Precision score:  [0.64197531 0.61643836 0.63380282 0.75583333]\n",
      "Recall score : [0.42276423 0.37656904 0.22959184 0.96489362]\n",
      "F1 score : 0.5405196480470893 \n",
      "\n"
     ]
    }
   ],
   "source": [
    "    \n",
    "\n",
    "bagging = bagging.fit(X_train, y_train)\n",
    "\n",
    "#y_pred = bagging.fit(X_train, y_train)\n",
    "\n",
    "\n",
    "y_pred_test_gnb = bagging.predict(X_test)\n",
    "\n",
    "print('Confusion matrix \\n', confusion_matrix(y_test, y_pred_test_gnb), '\\n')\n",
    "print('Accuracy score', accuracy_score(y_test, y_pred_test_gnb))\n",
    "\n",
    "print('balanced_accuracy_score: ', balanced_accuracy_score(y_test, y_pred_test_gnb), '\\n')\n",
    "\n",
    "print('Precision score: ', precision_score(y_test, y_pred_test_gnb, average=None))\n",
    "print('Recall score :', recall_score(y_test, y_pred_test_gnb, average=None))\n",
    "print('F1 score :', f1_score(y_test, y_pred_test_gnb, average='macro'), '\\n')"
   ]
  },
  {
   "cell_type": "markdown",
   "metadata": {},
   "source": [
    "### Cross validation"
   ]
  },
  {
   "cell_type": "code",
   "execution_count": 1147,
   "metadata": {},
   "outputs": [],
   "source": [
    "# 10 fold cross validation\n",
    "\n",
    "cv_score = cross_val_score(KNeighborsClassifier(), X_train, y_train, cv = 10, scoring='f1_weighted')\n",
    "prec = cross_val_score(KNeighborsClassifier(), X_train, y_train, cv = 10, scoring='precision_weighted')\n",
    "rec = cross_val_score(KNeighborsClassifier(), X_train, y_train, cv = 10, scoring='recall_weighted')\n",
    "acc = cross_val_score(KNeighborsClassifier(), X_train, y_train, cv = 10, scoring='accuracy')\n",
    "\n",
    "model_accuracies = model_accuracies.append({'model': \"Bagging Classifier\", \n",
    "                                            'F1 score': np.mean(cv_score),\n",
    "                                            'precision':np.mean(prec),\n",
    "                                            'recall': np.mean(rec),\n",
    "                                            'accuracy': np.mean(acc)},ignore_index=True)"
   ]
  },
  {
   "cell_type": "code",
   "execution_count": 1148,
   "metadata": {},
   "outputs": [
    {
     "data": {
      "text/html": [
       "<div>\n",
       "<style scoped>\n",
       "    .dataframe tbody tr th:only-of-type {\n",
       "        vertical-align: middle;\n",
       "    }\n",
       "\n",
       "    .dataframe tbody tr th {\n",
       "        vertical-align: top;\n",
       "    }\n",
       "\n",
       "    .dataframe thead th {\n",
       "        text-align: right;\n",
       "    }\n",
       "</style>\n",
       "<table border=\"1\" class=\"dataframe\">\n",
       "  <thead>\n",
       "    <tr style=\"text-align: right;\">\n",
       "      <th></th>\n",
       "      <th>model</th>\n",
       "      <th>F1 score</th>\n",
       "      <th>precision</th>\n",
       "      <th>recall</th>\n",
       "      <th>accuracy</th>\n",
       "    </tr>\n",
       "  </thead>\n",
       "  <tbody>\n",
       "    <tr>\n",
       "      <th>0</th>\n",
       "      <td>Decision_Tree</td>\n",
       "      <td>0.903523</td>\n",
       "      <td>0.898122</td>\n",
       "      <td>0.902833</td>\n",
       "      <td>0.902164</td>\n",
       "    </tr>\n",
       "    <tr>\n",
       "      <th>1</th>\n",
       "      <td>Random Forest</td>\n",
       "      <td>0.888991</td>\n",
       "      <td>0.897201</td>\n",
       "      <td>0.894159</td>\n",
       "      <td>0.892479</td>\n",
       "    </tr>\n",
       "    <tr>\n",
       "      <th>2</th>\n",
       "      <td>Knn-1</td>\n",
       "      <td>0.666562</td>\n",
       "      <td>0.665099</td>\n",
       "      <td>0.669765</td>\n",
       "      <td>0.669765</td>\n",
       "    </tr>\n",
       "    <tr>\n",
       "      <th>3</th>\n",
       "      <td>Knn-3</td>\n",
       "      <td>0.629699</td>\n",
       "      <td>0.628350</td>\n",
       "      <td>0.642383</td>\n",
       "      <td>0.642383</td>\n",
       "    </tr>\n",
       "    <tr>\n",
       "      <th>4</th>\n",
       "      <td>Knn-5</td>\n",
       "      <td>0.626637</td>\n",
       "      <td>0.614974</td>\n",
       "      <td>0.646742</td>\n",
       "      <td>0.646742</td>\n",
       "    </tr>\n",
       "    <tr>\n",
       "      <th>5</th>\n",
       "      <td>Knn-7</td>\n",
       "      <td>0.620969</td>\n",
       "      <td>0.606236</td>\n",
       "      <td>0.654254</td>\n",
       "      <td>0.654254</td>\n",
       "    </tr>\n",
       "    <tr>\n",
       "      <th>6</th>\n",
       "      <td>GradientBoosting</td>\n",
       "      <td>0.716471</td>\n",
       "      <td>0.733496</td>\n",
       "      <td>0.747747</td>\n",
       "      <td>0.747580</td>\n",
       "    </tr>\n",
       "    <tr>\n",
       "      <th>7</th>\n",
       "      <td>Gaussian Naive Bayes</td>\n",
       "      <td>0.464929</td>\n",
       "      <td>0.679592</td>\n",
       "      <td>0.426193</td>\n",
       "      <td>0.426193</td>\n",
       "    </tr>\n",
       "    <tr>\n",
       "      <th>8</th>\n",
       "      <td>Bagging Classifier</td>\n",
       "      <td>0.626637</td>\n",
       "      <td>0.614974</td>\n",
       "      <td>0.646742</td>\n",
       "      <td>0.646742</td>\n",
       "    </tr>\n",
       "  </tbody>\n",
       "</table>\n",
       "</div>"
      ],
      "text/plain": [
       "                  model  F1 score  precision    recall  accuracy\n",
       "0         Decision_Tree  0.903523   0.898122  0.902833  0.902164\n",
       "1         Random Forest  0.888991   0.897201  0.894159  0.892479\n",
       "2                 Knn-1  0.666562   0.665099  0.669765  0.669765\n",
       "3                 Knn-3  0.629699   0.628350  0.642383  0.642383\n",
       "4                 Knn-5  0.626637   0.614974  0.646742  0.646742\n",
       "5                 Knn-7  0.620969   0.606236  0.654254  0.654254\n",
       "6      GradientBoosting  0.716471   0.733496  0.747747  0.747580\n",
       "7  Gaussian Naive Bayes  0.464929   0.679592  0.426193  0.426193\n",
       "8    Bagging Classifier  0.626637   0.614974  0.646742  0.646742"
      ]
     },
     "execution_count": 1148,
     "metadata": {},
     "output_type": "execute_result"
    }
   ],
   "source": [
    "model_accuracies"
   ]
  },
  {
   "cell_type": "markdown",
   "metadata": {},
   "source": [
    "## Model 7: RBF SVM"
   ]
  },
  {
   "cell_type": "code",
   "execution_count": 1101,
   "metadata": {},
   "outputs": [],
   "source": [
    "SVM = SVC()"
   ]
  },
  {
   "cell_type": "code",
   "execution_count": 1102,
   "metadata": {},
   "outputs": [
    {
     "name": "stdout",
     "output_type": "stream",
     "text": [
      "Confusion matrix \n",
      " [[ 40  21   4  58]\n",
      " [ 16  64   5 154]\n",
      " [  2  25  24 145]\n",
      " [  7  18   6 909]] \n",
      "\n",
      "Accuracy score 0.692256341789052\n",
      "balanced_accuracy_score:  0.42061398374958614 \n",
      "\n",
      "Precision score:  [0.61538462 0.5        0.61538462 0.71800948]\n",
      "Recall score : [0.32520325 0.26778243 0.12244898 0.96702128]\n",
      "F1 score : 0.45066928078713964 \n",
      "\n"
     ]
    }
   ],
   "source": [
    "\n",
    "\n",
    "SVM = SVM.fit(X_train, y_train)\n",
    "\n",
    "#y_pred = SVM.fit(X_train, y_train)\n",
    "\n",
    "\n",
    "y_pred_test_SVM = SVM.predict(X_test)\n",
    "\n",
    "print('Confusion matrix \\n', confusion_matrix(y_test, y_pred_test_SVM), '\\n')\n",
    "print('Accuracy score', accuracy_score(y_test, y_pred_test_SVM))\n",
    "\n",
    "print('balanced_accuracy_score: ', balanced_accuracy_score(y_test, y_pred_test_SVM), '\\n')\n",
    "\n",
    "print('Precision score: ', precision_score(y_test, y_pred_test_SVM, average=None))\n",
    "print('Recall score :', recall_score(y_test, y_pred_test_SVM, average=None))\n",
    "print('F1 score :', f1_score(y_test, y_pred_test_SVM, average= 'macro'), '\\n')"
   ]
  },
  {
   "cell_type": "markdown",
   "metadata": {},
   "source": [
    "### Cross validation"
   ]
  },
  {
   "cell_type": "code",
   "execution_count": 1149,
   "metadata": {},
   "outputs": [],
   "source": [
    "# 10 fold cross validation\n",
    "\n",
    "cv_score = cross_val_score(SVC(), X_train, y_train, cv = 10, scoring='f1_weighted')\n",
    "prec = cross_val_score(SVC(), X_train, y_train, cv = 10, scoring='precision_weighted')\n",
    "rec = cross_val_score(SVC(), X_train, y_train, cv = 10, scoring='recall_weighted')\n",
    "acc = cross_val_score(SVC(), X_train, y_train, cv = 10, scoring='accuracy')\n",
    "\n",
    "model_accuracies = model_accuracies.append({'model': \"RBF SVM\", \n",
    "                                            'F1 score': np.mean(cv_score),\n",
    "                                            'precision':np.mean(prec),\n",
    "                                            'recall': np.mean(rec),\n",
    "                                            'accuracy': np.mean(acc)},ignore_index=True)"
   ]
  },
  {
   "cell_type": "code",
   "execution_count": 1104,
   "metadata": {},
   "outputs": [
    {
     "data": {
      "text/html": [
       "<div>\n",
       "<style scoped>\n",
       "    .dataframe tbody tr th:only-of-type {\n",
       "        vertical-align: middle;\n",
       "    }\n",
       "\n",
       "    .dataframe tbody tr th {\n",
       "        vertical-align: top;\n",
       "    }\n",
       "\n",
       "    .dataframe thead th {\n",
       "        text-align: right;\n",
       "    }\n",
       "</style>\n",
       "<table border=\"1\" class=\"dataframe\">\n",
       "  <thead>\n",
       "    <tr style=\"text-align: right;\">\n",
       "      <th></th>\n",
       "      <th>model</th>\n",
       "      <th>F1 score</th>\n",
       "      <th>precision</th>\n",
       "      <th>recall</th>\n",
       "      <th>accuracy</th>\n",
       "    </tr>\n",
       "  </thead>\n",
       "  <tbody>\n",
       "    <tr>\n",
       "      <th>0</th>\n",
       "      <td>Decision_Tree</td>\n",
       "      <td>0.898206</td>\n",
       "      <td>0.900685</td>\n",
       "      <td>0.898994</td>\n",
       "      <td>0.897991</td>\n",
       "    </tr>\n",
       "    <tr>\n",
       "      <th>1</th>\n",
       "      <td>Random Forest</td>\n",
       "      <td>0.896206</td>\n",
       "      <td>0.892149</td>\n",
       "      <td>0.896490</td>\n",
       "      <td>0.894654</td>\n",
       "    </tr>\n",
       "    <tr>\n",
       "      <th>2</th>\n",
       "      <td>Knn-1</td>\n",
       "      <td>0.666562</td>\n",
       "      <td>0.665099</td>\n",
       "      <td>0.669765</td>\n",
       "      <td>0.669765</td>\n",
       "    </tr>\n",
       "    <tr>\n",
       "      <th>3</th>\n",
       "      <td>Knn-3</td>\n",
       "      <td>0.629699</td>\n",
       "      <td>0.628350</td>\n",
       "      <td>0.642383</td>\n",
       "      <td>0.642383</td>\n",
       "    </tr>\n",
       "    <tr>\n",
       "      <th>4</th>\n",
       "      <td>Knn-5</td>\n",
       "      <td>0.626637</td>\n",
       "      <td>0.614974</td>\n",
       "      <td>0.646742</td>\n",
       "      <td>0.646742</td>\n",
       "    </tr>\n",
       "    <tr>\n",
       "      <th>5</th>\n",
       "      <td>Knn-7</td>\n",
       "      <td>0.620969</td>\n",
       "      <td>0.606236</td>\n",
       "      <td>0.654254</td>\n",
       "      <td>0.654254</td>\n",
       "    </tr>\n",
       "    <tr>\n",
       "      <th>6</th>\n",
       "      <td>GradientBoosting</td>\n",
       "      <td>0.716619</td>\n",
       "      <td>0.733761</td>\n",
       "      <td>0.747246</td>\n",
       "      <td>0.747747</td>\n",
       "    </tr>\n",
       "    <tr>\n",
       "      <th>7</th>\n",
       "      <td>Gaussian Naive Bayes</td>\n",
       "      <td>0.464929</td>\n",
       "      <td>0.679592</td>\n",
       "      <td>0.426193</td>\n",
       "      <td>0.426193</td>\n",
       "    </tr>\n",
       "    <tr>\n",
       "      <th>8</th>\n",
       "      <td>Bagging Classifier</td>\n",
       "      <td>0.626637</td>\n",
       "      <td>0.614974</td>\n",
       "      <td>0.646742</td>\n",
       "      <td>0.646742</td>\n",
       "    </tr>\n",
       "    <tr>\n",
       "      <th>9</th>\n",
       "      <td>RBF SVM</td>\n",
       "      <td>0.621258</td>\n",
       "      <td>0.647618</td>\n",
       "      <td>0.684802</td>\n",
       "      <td>0.684802</td>\n",
       "    </tr>\n",
       "  </tbody>\n",
       "</table>\n",
       "</div>"
      ],
      "text/plain": [
       "                  model  F1 score  precision    recall  accuracy\n",
       "0         Decision_Tree  0.898206   0.900685  0.898994  0.897991\n",
       "1         Random Forest  0.896206   0.892149  0.896490  0.894654\n",
       "2                 Knn-1  0.666562   0.665099  0.669765  0.669765\n",
       "3                 Knn-3  0.629699   0.628350  0.642383  0.642383\n",
       "4                 Knn-5  0.626637   0.614974  0.646742  0.646742\n",
       "5                 Knn-7  0.620969   0.606236  0.654254  0.654254\n",
       "6      GradientBoosting  0.716619   0.733761  0.747246  0.747747\n",
       "7  Gaussian Naive Bayes  0.464929   0.679592  0.426193  0.426193\n",
       "8    Bagging Classifier  0.626637   0.614974  0.646742  0.646742\n",
       "9               RBF SVM  0.621258   0.647618  0.684802  0.684802"
      ]
     },
     "execution_count": 1104,
     "metadata": {},
     "output_type": "execute_result"
    }
   ],
   "source": [
    "model_accuracies"
   ]
  },
  {
   "cell_type": "markdown",
   "metadata": {},
   "source": [
    "### Changing columns type from object to integer"
   ]
  },
  {
   "cell_type": "code",
   "execution_count": 1150,
   "metadata": {},
   "outputs": [],
   "source": [
    "X_train['edjefe'] = X_train['edjefe'].astype('int')\n",
    "X_train['edjefa'] = X_train['edjefa'].astype('int')"
   ]
  },
  {
   "cell_type": "code",
   "execution_count": 1151,
   "metadata": {},
   "outputs": [],
   "source": [
    "\n",
    "X_test['edjefe'] = X_test['edjefe'].astype('int')\n",
    "X_test['edjefa'] = X_test['edjefa'].astype('int')"
   ]
  },
  {
   "cell_type": "markdown",
   "metadata": {},
   "source": [
    "## Model 8: XGBoost"
   ]
  },
  {
   "cell_type": "code",
   "execution_count": 57,
   "metadata": {},
   "outputs": [],
   "source": [
    "\n",
    "from xgboost import XGBClassifier"
   ]
  },
  {
   "cell_type": "code",
   "execution_count": 1108,
   "metadata": {},
   "outputs": [],
   "source": [
    "xgb = XGBClassifier()"
   ]
  },
  {
   "cell_type": "code",
   "execution_count": 1109,
   "metadata": {},
   "outputs": [
    {
     "name": "stdout",
     "output_type": "stream",
     "text": [
      "Confusion matrix \n",
      " [[ 53  30   0  40]\n",
      " [  9 115   3 112]\n",
      " [  4  39  23 130]\n",
      " [  4  29   1 906]] \n",
      "\n",
      "Accuracy score 0.7323097463284379\n",
      "balanced_accuracy_score:  0.4983106457674492 \n",
      "\n",
      "Precision score:  [0.75714286 0.5399061  0.85185185 0.76262626]\n",
      "Recall score : [0.43089431 0.48117155 0.11734694 0.96382979]\n",
      "F1 score : 0.45066928078713964 \n",
      "\n"
     ]
    }
   ],
   "source": [
    "xgb = XGBClassifier()\n",
    "xgb = xgb.fit(X_train, y_train)\n",
    "\n",
    "\n",
    "#y_pred = SVM.fit(X_train, y_train)\n",
    "\n",
    "\n",
    "y_pred_test_xgb = xgb.predict(X_test)\n",
    "\n",
    "print('Confusion matrix \\n', confusion_matrix(y_test, y_pred_test_xgb), '\\n')\n",
    "print('Accuracy score', accuracy_score(y_test, y_pred_test_xgb))\n",
    "\n",
    "\n",
    "\n",
    "print('balanced_accuracy_score: ', balanced_accuracy_score(y_test, y_pred_test_xgb), '\\n')\n",
    "\n",
    "print('Precision score: ', precision_score(y_test, y_pred_test_xgb, average=None))\n",
    "print('Recall score :', recall_score(y_test, y_pred_test_xgb, average=None))\n",
    "print('F1 score :', f1_score(y_test, y_pred_test_SVM, average= 'macro'), '\\n')"
   ]
  },
  {
   "cell_type": "markdown",
   "metadata": {},
   "source": [
    "### Cross validation"
   ]
  },
  {
   "cell_type": "code",
   "execution_count": 1152,
   "metadata": {},
   "outputs": [],
   "source": [
    "# 10 fold cross validation\n",
    "\n",
    "cv_score = cross_val_score(XGBClassifier(), X_train, y_train, cv = 10, scoring='f1_weighted')\n",
    "prec = cross_val_score(XGBClassifier(), X_train, y_train, cv = 10, scoring='precision_weighted')\n",
    "rec = cross_val_score(XGBClassifier(), X_train, y_train, cv = 10, scoring='recall_weighted')\n",
    "acc = cross_val_score(XGBClassifier(), X_train, y_train, cv = 10, scoring='accuracy')\n",
    "\n",
    "model_accuracies = model_accuracies.append({'model': \"XGBoost\", \n",
    "                                            'F1 score': np.mean(cv_score),\n",
    "                                            'precision':np.mean(prec),\n",
    "                                            'recall': np.mean(rec),\n",
    "                                            'accuracy': np.mean(acc)},ignore_index=True)"
   ]
  },
  {
   "cell_type": "code",
   "execution_count": 1111,
   "metadata": {},
   "outputs": [
    {
     "data": {
      "text/plain": [
       "array([0.67245037, 0.69124739, 0.68569368, 0.67994722, 0.67416434,\n",
       "       0.67894662, 0.66322024, 0.66828782, 0.67627231, 0.67977244])"
      ]
     },
     "execution_count": 1111,
     "metadata": {},
     "output_type": "execute_result"
    }
   ],
   "source": [
    "cv_score\n"
   ]
  },
  {
   "cell_type": "code",
   "execution_count": 1154,
   "metadata": {},
   "outputs": [
    {
     "data": {
      "text/html": [
       "<div>\n",
       "<style scoped>\n",
       "    .dataframe tbody tr th:only-of-type {\n",
       "        vertical-align: middle;\n",
       "    }\n",
       "\n",
       "    .dataframe tbody tr th {\n",
       "        vertical-align: top;\n",
       "    }\n",
       "\n",
       "    .dataframe thead th {\n",
       "        text-align: right;\n",
       "    }\n",
       "</style>\n",
       "<table border=\"1\" class=\"dataframe\">\n",
       "  <thead>\n",
       "    <tr style=\"text-align: right;\">\n",
       "      <th></th>\n",
       "      <th>model</th>\n",
       "      <th>F1 score</th>\n",
       "      <th>precision</th>\n",
       "      <th>recall</th>\n",
       "      <th>accuracy</th>\n",
       "    </tr>\n",
       "  </thead>\n",
       "  <tbody>\n",
       "    <tr>\n",
       "      <th>0</th>\n",
       "      <td>Decision_Tree</td>\n",
       "      <td>0.903523</td>\n",
       "      <td>0.898122</td>\n",
       "      <td>0.902833</td>\n",
       "      <td>0.902164</td>\n",
       "    </tr>\n",
       "    <tr>\n",
       "      <th>1</th>\n",
       "      <td>Random Forest</td>\n",
       "      <td>0.888991</td>\n",
       "      <td>0.897201</td>\n",
       "      <td>0.894159</td>\n",
       "      <td>0.892479</td>\n",
       "    </tr>\n",
       "    <tr>\n",
       "      <th>2</th>\n",
       "      <td>Knn-1</td>\n",
       "      <td>0.666562</td>\n",
       "      <td>0.665099</td>\n",
       "      <td>0.669765</td>\n",
       "      <td>0.669765</td>\n",
       "    </tr>\n",
       "    <tr>\n",
       "      <th>3</th>\n",
       "      <td>Knn-3</td>\n",
       "      <td>0.629699</td>\n",
       "      <td>0.628350</td>\n",
       "      <td>0.642383</td>\n",
       "      <td>0.642383</td>\n",
       "    </tr>\n",
       "    <tr>\n",
       "      <th>4</th>\n",
       "      <td>Knn-5</td>\n",
       "      <td>0.626637</td>\n",
       "      <td>0.614974</td>\n",
       "      <td>0.646742</td>\n",
       "      <td>0.646742</td>\n",
       "    </tr>\n",
       "    <tr>\n",
       "      <th>5</th>\n",
       "      <td>Knn-7</td>\n",
       "      <td>0.620969</td>\n",
       "      <td>0.606236</td>\n",
       "      <td>0.654254</td>\n",
       "      <td>0.654254</td>\n",
       "    </tr>\n",
       "    <tr>\n",
       "      <th>6</th>\n",
       "      <td>GradientBoosting</td>\n",
       "      <td>0.716471</td>\n",
       "      <td>0.733496</td>\n",
       "      <td>0.747747</td>\n",
       "      <td>0.747580</td>\n",
       "    </tr>\n",
       "    <tr>\n",
       "      <th>7</th>\n",
       "      <td>Gaussian Naive Bayes</td>\n",
       "      <td>0.464929</td>\n",
       "      <td>0.679592</td>\n",
       "      <td>0.426193</td>\n",
       "      <td>0.426193</td>\n",
       "    </tr>\n",
       "    <tr>\n",
       "      <th>8</th>\n",
       "      <td>Bagging Classifier</td>\n",
       "      <td>0.626637</td>\n",
       "      <td>0.614974</td>\n",
       "      <td>0.646742</td>\n",
       "      <td>0.646742</td>\n",
       "    </tr>\n",
       "    <tr>\n",
       "      <th>9</th>\n",
       "      <td>RBF SVM</td>\n",
       "      <td>0.621258</td>\n",
       "      <td>0.647618</td>\n",
       "      <td>0.684802</td>\n",
       "      <td>0.684802</td>\n",
       "    </tr>\n",
       "    <tr>\n",
       "      <th>10</th>\n",
       "      <td>XGBoost</td>\n",
       "      <td>0.677000</td>\n",
       "      <td>0.718474</td>\n",
       "      <td>0.722367</td>\n",
       "      <td>0.722367</td>\n",
       "    </tr>\n",
       "  </tbody>\n",
       "</table>\n",
       "</div>"
      ],
      "text/plain": [
       "                   model  F1 score  precision    recall  accuracy\n",
       "0          Decision_Tree  0.903523   0.898122  0.902833  0.902164\n",
       "1          Random Forest  0.888991   0.897201  0.894159  0.892479\n",
       "2                  Knn-1  0.666562   0.665099  0.669765  0.669765\n",
       "3                  Knn-3  0.629699   0.628350  0.642383  0.642383\n",
       "4                  Knn-5  0.626637   0.614974  0.646742  0.646742\n",
       "5                  Knn-7  0.620969   0.606236  0.654254  0.654254\n",
       "6       GradientBoosting  0.716471   0.733496  0.747747  0.747580\n",
       "7   Gaussian Naive Bayes  0.464929   0.679592  0.426193  0.426193\n",
       "8     Bagging Classifier  0.626637   0.614974  0.646742  0.646742\n",
       "9                RBF SVM  0.621258   0.647618  0.684802  0.684802\n",
       "10               XGBoost  0.677000   0.718474  0.722367  0.722367"
      ]
     },
     "execution_count": 1154,
     "metadata": {},
     "output_type": "execute_result"
    }
   ],
   "source": [
    "model_accuracies"
   ]
  },
  {
   "cell_type": "markdown",
   "metadata": {},
   "source": [
    "## Model selection"
   ]
  },
  {
   "cell_type": "code",
   "execution_count": 1155,
   "metadata": {},
   "outputs": [
    {
     "data": {
      "text/html": [
       "<div>\n",
       "<style scoped>\n",
       "    .dataframe tbody tr th:only-of-type {\n",
       "        vertical-align: middle;\n",
       "    }\n",
       "\n",
       "    .dataframe tbody tr th {\n",
       "        vertical-align: top;\n",
       "    }\n",
       "\n",
       "    .dataframe thead th {\n",
       "        text-align: right;\n",
       "    }\n",
       "</style>\n",
       "<table border=\"1\" class=\"dataframe\">\n",
       "  <thead>\n",
       "    <tr style=\"text-align: right;\">\n",
       "      <th></th>\n",
       "      <th>model</th>\n",
       "      <th>F1 score</th>\n",
       "      <th>precision</th>\n",
       "      <th>recall</th>\n",
       "      <th>accuracy</th>\n",
       "    </tr>\n",
       "  </thead>\n",
       "  <tbody>\n",
       "    <tr>\n",
       "      <th>0</th>\n",
       "      <td>Decision_Tree</td>\n",
       "      <td>0.903523</td>\n",
       "      <td>0.898122</td>\n",
       "      <td>0.902833</td>\n",
       "      <td>0.902164</td>\n",
       "    </tr>\n",
       "    <tr>\n",
       "      <th>1</th>\n",
       "      <td>Random Forest</td>\n",
       "      <td>0.888991</td>\n",
       "      <td>0.897201</td>\n",
       "      <td>0.894159</td>\n",
       "      <td>0.892479</td>\n",
       "    </tr>\n",
       "    <tr>\n",
       "      <th>6</th>\n",
       "      <td>GradientBoosting</td>\n",
       "      <td>0.716471</td>\n",
       "      <td>0.733496</td>\n",
       "      <td>0.747747</td>\n",
       "      <td>0.747580</td>\n",
       "    </tr>\n",
       "    <tr>\n",
       "      <th>10</th>\n",
       "      <td>XGBoost</td>\n",
       "      <td>0.677000</td>\n",
       "      <td>0.718474</td>\n",
       "      <td>0.722367</td>\n",
       "      <td>0.722367</td>\n",
       "    </tr>\n",
       "    <tr>\n",
       "      <th>2</th>\n",
       "      <td>Knn-1</td>\n",
       "      <td>0.666562</td>\n",
       "      <td>0.665099</td>\n",
       "      <td>0.669765</td>\n",
       "      <td>0.669765</td>\n",
       "    </tr>\n",
       "    <tr>\n",
       "      <th>3</th>\n",
       "      <td>Knn-3</td>\n",
       "      <td>0.629699</td>\n",
       "      <td>0.628350</td>\n",
       "      <td>0.642383</td>\n",
       "      <td>0.642383</td>\n",
       "    </tr>\n",
       "    <tr>\n",
       "      <th>4</th>\n",
       "      <td>Knn-5</td>\n",
       "      <td>0.626637</td>\n",
       "      <td>0.614974</td>\n",
       "      <td>0.646742</td>\n",
       "      <td>0.646742</td>\n",
       "    </tr>\n",
       "    <tr>\n",
       "      <th>8</th>\n",
       "      <td>Bagging Classifier</td>\n",
       "      <td>0.626637</td>\n",
       "      <td>0.614974</td>\n",
       "      <td>0.646742</td>\n",
       "      <td>0.646742</td>\n",
       "    </tr>\n",
       "    <tr>\n",
       "      <th>9</th>\n",
       "      <td>RBF SVM</td>\n",
       "      <td>0.621258</td>\n",
       "      <td>0.647618</td>\n",
       "      <td>0.684802</td>\n",
       "      <td>0.684802</td>\n",
       "    </tr>\n",
       "    <tr>\n",
       "      <th>5</th>\n",
       "      <td>Knn-7</td>\n",
       "      <td>0.620969</td>\n",
       "      <td>0.606236</td>\n",
       "      <td>0.654254</td>\n",
       "      <td>0.654254</td>\n",
       "    </tr>\n",
       "    <tr>\n",
       "      <th>7</th>\n",
       "      <td>Gaussian Naive Bayes</td>\n",
       "      <td>0.464929</td>\n",
       "      <td>0.679592</td>\n",
       "      <td>0.426193</td>\n",
       "      <td>0.426193</td>\n",
       "    </tr>\n",
       "  </tbody>\n",
       "</table>\n",
       "</div>"
      ],
      "text/plain": [
       "                   model  F1 score  precision    recall  accuracy\n",
       "0          Decision_Tree  0.903523   0.898122  0.902833  0.902164\n",
       "1          Random Forest  0.888991   0.897201  0.894159  0.892479\n",
       "6       GradientBoosting  0.716471   0.733496  0.747747  0.747580\n",
       "10               XGBoost  0.677000   0.718474  0.722367  0.722367\n",
       "2                  Knn-1  0.666562   0.665099  0.669765  0.669765\n",
       "3                  Knn-3  0.629699   0.628350  0.642383  0.642383\n",
       "4                  Knn-5  0.626637   0.614974  0.646742  0.646742\n",
       "8     Bagging Classifier  0.626637   0.614974  0.646742  0.646742\n",
       "9                RBF SVM  0.621258   0.647618  0.684802  0.684802\n",
       "5                  Knn-7  0.620969   0.606236  0.654254  0.654254\n",
       "7   Gaussian Naive Bayes  0.464929   0.679592  0.426193  0.426193"
      ]
     },
     "execution_count": 1155,
     "metadata": {},
     "output_type": "execute_result"
    }
   ],
   "source": [
    "model_accuracies.sort_values(by = ['F1 score'], ascending=False, inplace=True)\n",
    "model_accuracies"
   ]
  },
  {
   "cell_type": "code",
   "execution_count": 1156,
   "metadata": {},
   "outputs": [],
   "source": [
    "model_accuracies.to_csv('model_accuracies.csv', index=False)"
   ]
  },
  {
   "cell_type": "code",
   "execution_count": 1157,
   "metadata": {},
   "outputs": [],
   "source": [
    "rcParams['figure.figsize'] = 14, 6\n",
    "\n",
    "    \n",
    "#model_accuracies.sort_values(by = ['F1 score'], ascending=False, inplace=True)\n",
    "#model_accuracies.set_index('model', inplace = True)\n",
    "\n",
    "#model_accuracies.plot.bar()\n",
    "#plt.title('Model macro F1')\n",
    "#plt.ylabel('Macro F1 score') \n",
    "#plt.xticks(rotation=45)\n",
    "\n",
    "#model_accuracies.reset_index(inplace = True)"
   ]
  },
  {
   "cell_type": "code",
   "execution_count": 1158,
   "metadata": {},
   "outputs": [
    {
     "data": {
      "text/plain": [
       "(array([ 0,  1,  2,  3,  4,  5,  6,  7,  8,  9, 10]),\n",
       " <a list of 11 Text xticklabel objects>)"
      ]
     },
     "execution_count": 1158,
     "metadata": {},
     "output_type": "execute_result"
    },
    {
     "data": {
      "image/png": "[encoded data removed]",
      "text/plain": [
       "<Figure size 1008x432 with 1 Axes>"
      ]
     },
     "metadata": {},
     "output_type": "display_data"
    }
   ],
   "source": [
    "    \n",
    "model_accuracies.sort_values(by = ['F1 score'], ascending=False, inplace=True)\n",
    "#model_accuracies.set_index('model', inplace = True)\n",
    "\n",
    "#model_accuracies\n",
    "ax = sns.barplot(x = 'model', y = 'F1 score', data = model_accuracies,ci=None, color=\"c\")\n",
    "plt.xticks(rotation=45)\n",
    "\n",
    "#ax2 = sns.barplot(x = 'model', y = 'precision', data = model_accuracies,ci=None, color=\"c\")\n",
    "\n",
    "#model_accuracies.reset_index(inplace = True)"
   ]
  },
  {
   "cell_type": "markdown",
   "metadata": {},
   "source": [
    "Ne pas travailler sur le TEST.\n",
    "Sur le TRAIN, splitter en 80/20. Sur les 80, faire les cross val et le model selection.\n",
    "Faire le Grid Search sur les 80.\n",
    "Predire sur les 20."
   ]
  },
  {
   "cell_type": "markdown",
   "metadata": {},
   "source": [
    "## GridSearchCV on 80% TRAIN set"
   ]
  },
  {
   "cell_type": "code",
   "execution_count": 54,
   "metadata": {},
   "outputs": [
    {
     "data": {
      "text/plain": [
       "(7488, 128)"
      ]
     },
     "execution_count": 54,
     "metadata": {},
     "output_type": "execute_result"
    }
   ],
   "source": [
    "new_train.shape\n",
    "#new_test.shape"
   ]
  },
  {
   "cell_type": "code",
   "execution_count": 55,
   "metadata": {},
   "outputs": [
    {
     "data": {
      "text/plain": [
       "(7488, 126)"
      ]
     },
     "execution_count": 55,
     "metadata": {},
     "output_type": "execute_result"
    }
   ],
   "source": [
    "X.shape"
   ]
  },
  {
   "cell_type": "markdown",
   "metadata": {},
   "source": [
    "### a. Extracting IDs to predict of new_test\n",
    "### b. Dropping Na's in new_test\n",
    "### c. Dropping IDs in new_test"
   ]
  },
  {
   "cell_type": "code",
   "execution_count": null,
   "metadata": {},
   "outputs": [],
   "source": []
  },
  {
   "cell_type": "code",
   "execution_count": 58,
   "metadata": {},
   "outputs": [
    {
     "name": "stdout",
     "output_type": "stream",
     "text": [
      "1872\n",
      "(1872, 127)\n"
     ]
    },
    {
     "data": {
      "text/html": [
       "<div>\n",
       "<style scoped>\n",
       "    .dataframe tbody tr th:only-of-type {\n",
       "        vertical-align: middle;\n",
       "    }\n",
       "\n",
       "    .dataframe tbody tr th {\n",
       "        vertical-align: top;\n",
       "    }\n",
       "\n",
       "    .dataframe thead th {\n",
       "        text-align: right;\n",
       "    }\n",
       "</style>\n",
       "<table border=\"1\" class=\"dataframe\">\n",
       "  <thead>\n",
       "    <tr style=\"text-align: right;\">\n",
       "      <th></th>\n",
       "      <th>hacdor</th>\n",
       "      <th>rooms</th>\n",
       "      <th>hacapo</th>\n",
       "      <th>v14a</th>\n",
       "      <th>refrig</th>\n",
       "      <th>v18q</th>\n",
       "      <th>r4h1</th>\n",
       "      <th>r4h2</th>\n",
       "      <th>r4h3</th>\n",
       "      <th>r4m1</th>\n",
       "      <th>...</th>\n",
       "      <th>lugar4</th>\n",
       "      <th>lugar5</th>\n",
       "      <th>lugar6</th>\n",
       "      <th>area1</th>\n",
       "      <th>area2</th>\n",
       "      <th>age</th>\n",
       "      <th>SQBedjefe</th>\n",
       "      <th>SQBhogar_nin</th>\n",
       "      <th>SQBdependency</th>\n",
       "      <th>Target</th>\n",
       "    </tr>\n",
       "  </thead>\n",
       "  <tbody>\n",
       "    <tr>\n",
       "      <th>4848</th>\n",
       "      <td>0</td>\n",
       "      <td>4</td>\n",
       "      <td>0</td>\n",
       "      <td>1</td>\n",
       "      <td>1</td>\n",
       "      <td>0</td>\n",
       "      <td>1</td>\n",
       "      <td>1</td>\n",
       "      <td>2</td>\n",
       "      <td>0</td>\n",
       "      <td>...</td>\n",
       "      <td>0</td>\n",
       "      <td>0</td>\n",
       "      <td>0</td>\n",
       "      <td>0</td>\n",
       "      <td>1</td>\n",
       "      <td>3</td>\n",
       "      <td>0</td>\n",
       "      <td>4</td>\n",
       "      <td>4.000000</td>\n",
       "      <td>1</td>\n",
       "    </tr>\n",
       "    <tr>\n",
       "      <th>2916</th>\n",
       "      <td>0</td>\n",
       "      <td>5</td>\n",
       "      <td>0</td>\n",
       "      <td>1</td>\n",
       "      <td>1</td>\n",
       "      <td>0</td>\n",
       "      <td>0</td>\n",
       "      <td>2</td>\n",
       "      <td>2</td>\n",
       "      <td>0</td>\n",
       "      <td>...</td>\n",
       "      <td>0</td>\n",
       "      <td>0</td>\n",
       "      <td>0</td>\n",
       "      <td>1</td>\n",
       "      <td>0</td>\n",
       "      <td>41</td>\n",
       "      <td>0</td>\n",
       "      <td>0</td>\n",
       "      <td>0.250000</td>\n",
       "      <td>4</td>\n",
       "    </tr>\n",
       "    <tr>\n",
       "      <th>2036</th>\n",
       "      <td>0</td>\n",
       "      <td>5</td>\n",
       "      <td>0</td>\n",
       "      <td>1</td>\n",
       "      <td>1</td>\n",
       "      <td>1</td>\n",
       "      <td>0</td>\n",
       "      <td>1</td>\n",
       "      <td>1</td>\n",
       "      <td>0</td>\n",
       "      <td>...</td>\n",
       "      <td>0</td>\n",
       "      <td>0</td>\n",
       "      <td>0</td>\n",
       "      <td>1</td>\n",
       "      <td>0</td>\n",
       "      <td>26</td>\n",
       "      <td>0</td>\n",
       "      <td>0</td>\n",
       "      <td>0.000000</td>\n",
       "      <td>4</td>\n",
       "    </tr>\n",
       "    <tr>\n",
       "      <th>2096</th>\n",
       "      <td>0</td>\n",
       "      <td>5</td>\n",
       "      <td>0</td>\n",
       "      <td>1</td>\n",
       "      <td>1</td>\n",
       "      <td>0</td>\n",
       "      <td>0</td>\n",
       "      <td>1</td>\n",
       "      <td>1</td>\n",
       "      <td>0</td>\n",
       "      <td>...</td>\n",
       "      <td>0</td>\n",
       "      <td>0</td>\n",
       "      <td>0</td>\n",
       "      <td>1</td>\n",
       "      <td>0</td>\n",
       "      <td>27</td>\n",
       "      <td>0</td>\n",
       "      <td>1</td>\n",
       "      <td>0.111111</td>\n",
       "      <td>4</td>\n",
       "    </tr>\n",
       "    <tr>\n",
       "      <th>7073</th>\n",
       "      <td>0</td>\n",
       "      <td>4</td>\n",
       "      <td>0</td>\n",
       "      <td>1</td>\n",
       "      <td>1</td>\n",
       "      <td>0</td>\n",
       "      <td>1</td>\n",
       "      <td>1</td>\n",
       "      <td>2</td>\n",
       "      <td>1</td>\n",
       "      <td>...</td>\n",
       "      <td>0</td>\n",
       "      <td>0</td>\n",
       "      <td>0</td>\n",
       "      <td>0</td>\n",
       "      <td>1</td>\n",
       "      <td>4</td>\n",
       "      <td>25</td>\n",
       "      <td>16</td>\n",
       "      <td>4.000000</td>\n",
       "      <td>3</td>\n",
       "    </tr>\n",
       "  </tbody>\n",
       "</table>\n",
       "<p>5 rows × 127 columns</p>\n",
       "</div>"
      ],
      "text/plain": [
       "      hacdor  rooms  hacapo  v14a  refrig  v18q  r4h1  r4h2  r4h3  r4m1  ...  \\\n",
       "4848       0      4       0     1       1     0     1     1     2     0  ...   \n",
       "2916       0      5       0     1       1     0     0     2     2     0  ...   \n",
       "2036       0      5       0     1       1     1     0     1     1     0  ...   \n",
       "2096       0      5       0     1       1     0     0     1     1     0  ...   \n",
       "7073       0      4       0     1       1     0     1     1     2     1  ...   \n",
       "\n",
       "      lugar4  lugar5  lugar6  area1  area2  age  SQBedjefe  SQBhogar_nin  \\\n",
       "4848       0       0       0      0      1    3          0             4   \n",
       "2916       0       0       0      1      0   41          0             0   \n",
       "2036       0       0       0      1      0   26          0             0   \n",
       "2096       0       0       0      1      0   27          0             1   \n",
       "7073       0       0       0      0      1    4         25            16   \n",
       "\n",
       "      SQBdependency  Target  \n",
       "4848       4.000000       1  \n",
       "2916       0.250000       4  \n",
       "2036       0.000000       4  \n",
       "2096       0.111111       4  \n",
       "7073       4.000000       3  \n",
       "\n",
       "[5 rows x 127 columns]"
      ]
     },
     "execution_count": 58,
     "metadata": {},
     "output_type": "execute_result"
    }
   ],
   "source": [
    "X_test_with_ID = new_test.dropna()\n",
    "len(X_test_with_ID)\n",
    "\n",
    "list_ID_test = X_test_with_ID[['idhogar', 'parentesco1']]\n",
    "print(len(list_ID_test))\n",
    "list_ID_test.head()\n",
    "\n",
    "#len(list_ID_test['idhogar'].unique())\n",
    "\n",
    "\n",
    "Costa_X_test = X_test_with_ID[[col for col in X_test_with_ID if (col != 'idhogar')]]\n",
    "print(Costa_X_test.shape)\n",
    "Costa_X_test.head()\n",
    "\n"
   ]
  },
  {
   "cell_type": "code",
   "execution_count": 59,
   "metadata": {},
   "outputs": [
    {
     "data": {
      "text/plain": [
       "(7488, 126)"
      ]
     },
     "execution_count": 59,
     "metadata": {},
     "output_type": "execute_result"
    }
   ],
   "source": [
    "X.shape"
   ]
  },
  {
   "cell_type": "code",
   "execution_count": 60,
   "metadata": {},
   "outputs": [
    {
     "data": {
      "text/plain": [
       "(1872, 127)"
      ]
     },
     "execution_count": 60,
     "metadata": {},
     "output_type": "execute_result"
    }
   ],
   "source": [
    "Costa_X_test.shape"
   ]
  },
  {
   "cell_type": "markdown",
   "metadata": {},
   "source": [
    "### 1. Random Forest classifier"
   ]
  },
  {
   "cell_type": "markdown",
   "metadata": {},
   "source": [
    "Default parameters = ['n_estimators' = 10, 'max_depth'=  None]\n"
   ]
  },
  {
   "cell_type": "code",
   "execution_count": 1223,
   "metadata": {},
   "outputs": [
    {
     "name": "stdout",
     "output_type": "stream",
     "text": [
      "# Tuning hyper-parameters for f1 \n",
      "\n",
      "Best parameters set found on development set: \n",
      "\n",
      "{'class_weight': 'balanced', 'max_depth': 50, 'n_estimators': 120} \n",
      "\n",
      "Grid scores on development set: \n",
      "\n",
      "0.647 (+/-0.025) for {'class_weight': 'balanced', 'max_depth': 5, 'n_estimators': 20} \n",
      "\n",
      "0.644 (+/-0.025) for {'class_weight': 'balanced', 'max_depth': 5, 'n_estimators': 30} \n",
      "\n",
      "0.653 (+/-0.019) for {'class_weight': 'balanced', 'max_depth': 5, 'n_estimators': 40} \n",
      "\n",
      "0.651 (+/-0.032) for {'class_weight': 'balanced', 'max_depth': 5, 'n_estimators': 50} \n",
      "\n",
      "0.654 (+/-0.030) for {'class_weight': 'balanced', 'max_depth': 5, 'n_estimators': 60} \n",
      "\n",
      "0.652 (+/-0.028) for {'class_weight': 'balanced', 'max_depth': 5, 'n_estimators': 70} \n",
      "\n",
      "0.653 (+/-0.031) for {'class_weight': 'balanced', 'max_depth': 5, 'n_estimators': 80} \n",
      "\n",
      "0.658 (+/-0.022) for {'class_weight': 'balanced', 'max_depth': 5, 'n_estimators': 90} \n",
      "\n",
      "0.657 (+/-0.027) for {'class_weight': 'balanced', 'max_depth': 5, 'n_estimators': 100} \n",
      "\n",
      "0.657 (+/-0.032) for {'class_weight': 'balanced', 'max_depth': 5, 'n_estimators': 110} \n",
      "\n",
      "0.655 (+/-0.032) for {'class_weight': 'balanced', 'max_depth': 5, 'n_estimators': 120} \n",
      "\n",
      "0.819 (+/-0.022) for {'class_weight': 'balanced', 'max_depth': 10, 'n_estimators': 20} \n",
      "\n",
      "0.826 (+/-0.016) for {'class_weight': 'balanced', 'max_depth': 10, 'n_estimators': 30} \n",
      "\n",
      "0.834 (+/-0.021) for {'class_weight': 'balanced', 'max_depth': 10, 'n_estimators': 40} \n",
      "\n",
      "0.838 (+/-0.025) for {'class_weight': 'balanced', 'max_depth': 10, 'n_estimators': 50} \n",
      "\n",
      "0.845 (+/-0.028) for {'class_weight': 'balanced', 'max_depth': 10, 'n_estimators': 60} \n",
      "\n",
      "0.839 (+/-0.018) for {'class_weight': 'balanced', 'max_depth': 10, 'n_estimators': 70} \n",
      "\n",
      "0.842 (+/-0.026) for {'class_weight': 'balanced', 'max_depth': 10, 'n_estimators': 80} \n",
      "\n",
      "0.843 (+/-0.022) for {'class_weight': 'balanced', 'max_depth': 10, 'n_estimators': 90} \n",
      "\n",
      "0.847 (+/-0.024) for {'class_weight': 'balanced', 'max_depth': 10, 'n_estimators': 100} \n",
      "\n",
      "0.844 (+/-0.024) for {'class_weight': 'balanced', 'max_depth': 10, 'n_estimators': 110} \n",
      "\n",
      "0.849 (+/-0.021) for {'class_weight': 'balanced', 'max_depth': 10, 'n_estimators': 120} \n",
      "\n",
      "0.936 (+/-0.014) for {'class_weight': 'balanced', 'max_depth': 50, 'n_estimators': 20} \n",
      "\n",
      "0.937 (+/-0.021) for {'class_weight': 'balanced', 'max_depth': 50, 'n_estimators': 30} \n",
      "\n",
      "0.941 (+/-0.015) for {'class_weight': 'balanced', 'max_depth': 50, 'n_estimators': 40} \n",
      "\n",
      "0.939 (+/-0.014) for {'class_weight': 'balanced', 'max_depth': 50, 'n_estimators': 50} \n",
      "\n",
      "0.942 (+/-0.013) for {'class_weight': 'balanced', 'max_depth': 50, 'n_estimators': 60} \n",
      "\n",
      "0.940 (+/-0.014) for {'class_weight': 'balanced', 'max_depth': 50, 'n_estimators': 70} \n",
      "\n",
      "0.939 (+/-0.018) for {'class_weight': 'balanced', 'max_depth': 50, 'n_estimators': 80} \n",
      "\n",
      "0.941 (+/-0.011) for {'class_weight': 'balanced', 'max_depth': 50, 'n_estimators': 90} \n",
      "\n",
      "0.942 (+/-0.016) for {'class_weight': 'balanced', 'max_depth': 50, 'n_estimators': 100} \n",
      "\n",
      "0.943 (+/-0.018) for {'class_weight': 'balanced', 'max_depth': 50, 'n_estimators': 110} \n",
      "\n",
      "0.944 (+/-0.017) for {'class_weight': 'balanced', 'max_depth': 50, 'n_estimators': 120} \n",
      "\n",
      "0.933 (+/-0.017) for {'class_weight': 'balanced', 'max_depth': None, 'n_estimators': 20} \n",
      "\n",
      "0.940 (+/-0.018) for {'class_weight': 'balanced', 'max_depth': None, 'n_estimators': 30} \n",
      "\n",
      "0.938 (+/-0.019) for {'class_weight': 'balanced', 'max_depth': None, 'n_estimators': 40} \n",
      "\n",
      "0.942 (+/-0.018) for {'class_weight': 'balanced', 'max_depth': None, 'n_estimators': 50} \n",
      "\n",
      "0.940 (+/-0.018) for {'class_weight': 'balanced', 'max_depth': None, 'n_estimators': 60} \n",
      "\n",
      "0.940 (+/-0.015) for {'class_weight': 'balanced', 'max_depth': None, 'n_estimators': 70} \n",
      "\n",
      "0.941 (+/-0.016) for {'class_weight': 'balanced', 'max_depth': None, 'n_estimators': 80} \n",
      "\n",
      "0.942 (+/-0.015) for {'class_weight': 'balanced', 'max_depth': None, 'n_estimators': 90} \n",
      "\n",
      "0.941 (+/-0.015) for {'class_weight': 'balanced', 'max_depth': None, 'n_estimators': 100} \n",
      "\n",
      "0.941 (+/-0.020) for {'class_weight': 'balanced', 'max_depth': None, 'n_estimators': 110} \n",
      "\n",
      "0.944 (+/-0.016) for {'class_weight': 'balanced', 'max_depth': None, 'n_estimators': 120} \n",
      "\n",
      "0.584 (+/-0.029) for {'class_weight': None, 'max_depth': 5, 'n_estimators': 20} \n",
      "\n",
      "0.584 (+/-0.036) for {'class_weight': None, 'max_depth': 5, 'n_estimators': 30} \n",
      "\n",
      "0.577 (+/-0.024) for {'class_weight': None, 'max_depth': 5, 'n_estimators': 40} \n",
      "\n",
      "0.586 (+/-0.026) for {'class_weight': None, 'max_depth': 5, 'n_estimators': 50} \n",
      "\n",
      "0.585 (+/-0.036) for {'class_weight': None, 'max_depth': 5, 'n_estimators': 60} \n",
      "\n",
      "0.581 (+/-0.033) for {'class_weight': None, 'max_depth': 5, 'n_estimators': 70} \n",
      "\n",
      "0.579 (+/-0.034) for {'class_weight': None, 'max_depth': 5, 'n_estimators': 80} \n",
      "\n",
      "0.580 (+/-0.033) for {'class_weight': None, 'max_depth': 5, 'n_estimators': 90} \n",
      "\n",
      "0.581 (+/-0.031) for {'class_weight': None, 'max_depth': 5, 'n_estimators': 100} \n",
      "\n",
      "0.581 (+/-0.029) for {'class_weight': None, 'max_depth': 5, 'n_estimators': 110} \n",
      "\n",
      "0.579 (+/-0.036) for {'class_weight': None, 'max_depth': 5, 'n_estimators': 120} \n",
      "\n",
      "0.783 (+/-0.022) for {'class_weight': None, 'max_depth': 10, 'n_estimators': 20} \n",
      "\n",
      "0.781 (+/-0.029) for {'class_weight': None, 'max_depth': 10, 'n_estimators': 30} \n",
      "\n",
      "0.788 (+/-0.021) for {'class_weight': None, 'max_depth': 10, 'n_estimators': 40} \n",
      "\n",
      "0.789 (+/-0.019) for {'class_weight': None, 'max_depth': 10, 'n_estimators': 50} \n",
      "\n",
      "0.786 (+/-0.023) for {'class_weight': None, 'max_depth': 10, 'n_estimators': 60} \n",
      "\n",
      "0.785 (+/-0.017) for {'class_weight': None, 'max_depth': 10, 'n_estimators': 70} \n",
      "\n",
      "0.789 (+/-0.018) for {'class_weight': None, 'max_depth': 10, 'n_estimators': 80} \n",
      "\n",
      "0.791 (+/-0.018) for {'class_weight': None, 'max_depth': 10, 'n_estimators': 90} \n",
      "\n",
      "0.794 (+/-0.022) for {'class_weight': None, 'max_depth': 10, 'n_estimators': 100} \n",
      "\n",
      "0.788 (+/-0.021) for {'class_weight': None, 'max_depth': 10, 'n_estimators': 110} \n",
      "\n",
      "0.790 (+/-0.019) for {'class_weight': None, 'max_depth': 10, 'n_estimators': 120} \n",
      "\n",
      "0.929 (+/-0.020) for {'class_weight': None, 'max_depth': 50, 'n_estimators': 20} \n",
      "\n",
      "0.935 (+/-0.015) for {'class_weight': None, 'max_depth': 50, 'n_estimators': 30} \n",
      "\n",
      "0.935 (+/-0.019) for {'class_weight': None, 'max_depth': 50, 'n_estimators': 40} \n",
      "\n",
      "0.933 (+/-0.016) for {'class_weight': None, 'max_depth': 50, 'n_estimators': 50} \n",
      "\n",
      "0.934 (+/-0.018) for {'class_weight': None, 'max_depth': 50, 'n_estimators': 60} \n",
      "\n",
      "0.939 (+/-0.018) for {'class_weight': None, 'max_depth': 50, 'n_estimators': 70} \n",
      "\n",
      "0.937 (+/-0.017) for {'class_weight': None, 'max_depth': 50, 'n_estimators': 80} \n",
      "\n",
      "0.936 (+/-0.018) for {'class_weight': None, 'max_depth': 50, 'n_estimators': 90} \n",
      "\n",
      "0.938 (+/-0.015) for {'class_weight': None, 'max_depth': 50, 'n_estimators': 100} \n",
      "\n",
      "0.938 (+/-0.019) for {'class_weight': None, 'max_depth': 50, 'n_estimators': 110} \n",
      "\n",
      "0.938 (+/-0.018) for {'class_weight': None, 'max_depth': 50, 'n_estimators': 120} \n",
      "\n",
      "0.932 (+/-0.024) for {'class_weight': None, 'max_depth': None, 'n_estimators': 20} \n",
      "\n",
      "0.936 (+/-0.016) for {'class_weight': None, 'max_depth': None, 'n_estimators': 30} \n",
      "\n",
      "0.936 (+/-0.019) for {'class_weight': None, 'max_depth': None, 'n_estimators': 40} \n",
      "\n",
      "0.935 (+/-0.014) for {'class_weight': None, 'max_depth': None, 'n_estimators': 50} \n",
      "\n",
      "0.936 (+/-0.025) for {'class_weight': None, 'max_depth': None, 'n_estimators': 60} \n",
      "\n",
      "0.938 (+/-0.015) for {'class_weight': None, 'max_depth': None, 'n_estimators': 70} \n",
      "\n",
      "0.936 (+/-0.019) for {'class_weight': None, 'max_depth': None, 'n_estimators': 80} \n",
      "\n",
      "0.938 (+/-0.020) for {'class_weight': None, 'max_depth': None, 'n_estimators': 90} \n",
      "\n",
      "0.937 (+/-0.017) for {'class_weight': None, 'max_depth': None, 'n_estimators': 100} \n",
      "\n",
      "0.937 (+/-0.015) for {'class_weight': None, 'max_depth': None, 'n_estimators': 110} \n",
      "\n",
      "0.936 (+/-0.016) for {'class_weight': None, 'max_depth': None, 'n_estimators': 120} \n",
      "\n"
     ]
    }
   ],
   "source": [
    "\n",
    "# Split the dataset in two parts\n",
    "#X_train, X_test, y_train, y_test = train_test_split(X, y, test_size=0.8, random_state=0)\n",
    "\n",
    "\n",
    "# Set the parameters by cross-validation\n",
    "tuned_parameters = [{'n_estimators': list(range(20,121, 10)), 'max_depth': [5, 10, 50, None], 'class_weight' : ['balanced', None]}]\n",
    "\n",
    "scores = ['f1']\n",
    "\n",
    "for score in scores:\n",
    "    print(\"# Tuning hyper-parameters for %s\" % score, '\\n')\n",
    "\n",
    "    clf = GridSearchCV(RandomForestClassifier(), tuned_parameters, cv=10,\n",
    "                       scoring='%s_weighted' % score)\n",
    "    clf.fit(X, y)\n",
    "\n",
    "    print(\"Best parameters set found on development set:\", '\\n')\n",
    "\n",
    "    print(clf.best_params_, '\\n')\n",
    "\n",
    "    print(\"Grid scores on development set:\", '\\n')\n",
    "\n",
    "    means = clf.cv_results_['mean_test_score']\n",
    "    stds = clf.cv_results_['std_test_score']\n",
    "    for mean, std, params in zip(means, stds, clf.cv_results_['params']):\n",
    "        print(\"%0.3f (+/-%0.03f) for %r\"\n",
    "              % (mean, std * 2, params), '\\n')\n",
    "\n",
    "        \n",
    "    #print(\"Detailed classification report:\", '\\n')\n",
    "\n",
    "    #print(\"The model is trained on the full development set.\")\n",
    "    #print(\"The scores are computed on the full evaluation set.\", '\\n')\n",
    "\n",
    "    #y_true, y_pred = y_test, clf.predict(X_test)\n",
    "    #print(classification_report(y_true, y_pred), '\\n')\n",
    "\n",
    "    "
   ]
  },
  {
   "cell_type": "code",
   "execution_count": null,
   "metadata": {},
   "outputs": [],
   "source": []
  },
  {
   "cell_type": "markdown",
   "metadata": {},
   "source": [
    "### 2. Decision Tree classifier"
   ]
  },
  {
   "cell_type": "markdown",
   "metadata": {},
   "source": [
    "Default parameters = ['splitter' = 'best', 'max_depth'= None]\n",
    "\n",
    "The strategy used to choose the split at each node. Supported strategies are “best” to choose the best split and “random” to choose the best random split.\n"
   ]
  },
  {
   "cell_type": "code",
   "execution_count": 1224,
   "metadata": {},
   "outputs": [
    {
     "name": "stdout",
     "output_type": "stream",
     "text": [
      "# Tuning hyper-parameters for f1 \n",
      "\n",
      "Best parameters set found on development set: \n",
      "\n",
      "{'max_depth': 50, 'splitter': 'best'} \n",
      "\n",
      "Grid scores on development set: \n",
      "\n",
      "0.617 (+/-0.025) for {'max_depth': 5, 'splitter': 'best'} \n",
      "\n",
      "0.598 (+/-0.032) for {'max_depth': 5, 'splitter': 'random'} \n",
      "\n",
      "0.762 (+/-0.037) for {'max_depth': 10, 'splitter': 'best'} \n",
      "\n",
      "0.746 (+/-0.034) for {'max_depth': 10, 'splitter': 'random'} \n",
      "\n",
      "0.929 (+/-0.015) for {'max_depth': 50, 'splitter': 'best'} \n",
      "\n",
      "0.922 (+/-0.030) for {'max_depth': 50, 'splitter': 'random'} \n",
      "\n",
      "0.927 (+/-0.015) for {'max_depth': None, 'splitter': 'best'} \n",
      "\n",
      "0.915 (+/-0.049) for {'max_depth': None, 'splitter': 'random'} \n",
      "\n"
     ]
    }
   ],
   "source": [
    "# Split the dataset in two parts\n",
    "\n",
    "#X_train, X_test, y_train, y_test = train_test_split(X, y, test_size=0.8, random_state=0)\n",
    "\n",
    "# Set the parameters by cross-validation\n",
    "tuned_parameters = [{'splitter': ['best', 'random'], 'max_depth': [5, 10, 50, None]}]\n",
    "\n",
    "scores = ['f1']\n",
    "\n",
    "for score in scores:\n",
    "    print(\"# Tuning hyper-parameters for %s\" % score, '\\n')\n",
    "\n",
    "    \n",
    "    clf = GridSearchCV(tree.DecisionTreeClassifier(), tuned_parameters, cv = 10,\n",
    "                       scoring='%s_weighted' % score)\n",
    "    clf.fit(X, y)\n",
    "\n",
    "    print(\"Best parameters set found on development set:\", '\\n')\n",
    "\n",
    "    print(clf.best_params_, '\\n')\n",
    "\n",
    "    print(\"Grid scores on development set:\", '\\n')\n",
    "\n",
    "    means = clf.cv_results_['mean_test_score']\n",
    "    stds = clf.cv_results_['std_test_score']\n",
    "    for mean, std, params in zip(means, stds, clf.cv_results_['params']):\n",
    "        print(\"%0.3f (+/-%0.03f) for %r\"\n",
    "              % (mean, std * 2, params), '\\n')\n",
    "\n",
    "        \n",
    "    #print(\"Detailed classification report:\", '\\n')\n",
    "    #print()\n",
    "    #print(\"The model is trained on the full development set.\")\n",
    "    #print(\"The scores are computed on the full evaluation set.\", '\\n')\n",
    "\n",
    "    #y_true, y_pred = y_test, clf.predict(X_test)\n",
    "    #print(classification_report(y_true, y_pred), '\\n')\n",
    "\n",
    "    "
   ]
  },
  {
   "cell_type": "markdown",
   "metadata": {},
   "source": [
    "### 3. Gradient Boosting"
   ]
  },
  {
   "cell_type": "code",
   "execution_count": 62,
   "metadata": {},
   "outputs": [
    {
     "name": "stdout",
     "output_type": "stream",
     "text": [
      "# Tuning hyper-parameters for f1 \n",
      "\n",
      "Best parameters set found on development set: \n",
      "\n",
      "{'max_depth': None, 'n_estimators': 60} \n",
      "\n",
      "Grid scores on development set: \n",
      "\n",
      "0.790 (+/-0.026) for {'max_depth': 5, 'n_estimators': 50} \n",
      "\n",
      "0.806 (+/-0.022) for {'max_depth': 5, 'n_estimators': 60} \n",
      "\n",
      "0.817 (+/-0.020) for {'max_depth': 5, 'n_estimators': 70} \n",
      "\n",
      "0.828 (+/-0.019) for {'max_depth': 5, 'n_estimators': 80} \n",
      "\n",
      "0.838 (+/-0.021) for {'max_depth': 5, 'n_estimators': 90} \n",
      "\n",
      "0.848 (+/-0.026) for {'max_depth': 5, 'n_estimators': 100} \n",
      "\n",
      "0.856 (+/-0.028) for {'max_depth': 5, 'n_estimators': 110} \n",
      "\n",
      "0.862 (+/-0.027) for {'max_depth': 5, 'n_estimators': 120} \n",
      "\n",
      "0.946 (+/-0.016) for {'max_depth': None, 'n_estimators': 50} \n",
      "\n",
      "0.947 (+/-0.017) for {'max_depth': None, 'n_estimators': 60} \n",
      "\n",
      "0.946 (+/-0.017) for {'max_depth': None, 'n_estimators': 70} \n",
      "\n",
      "0.947 (+/-0.015) for {'max_depth': None, 'n_estimators': 80} \n",
      "\n",
      "0.946 (+/-0.017) for {'max_depth': None, 'n_estimators': 90} \n",
      "\n",
      "0.946 (+/-0.015) for {'max_depth': None, 'n_estimators': 100} \n",
      "\n",
      "0.946 (+/-0.016) for {'max_depth': None, 'n_estimators': 110} \n",
      "\n",
      "0.947 (+/-0.014) for {'max_depth': None, 'n_estimators': 120} \n",
      "\n"
     ]
    }
   ],
   "source": [
    "# Split the dataset in two parts\n",
    "\n",
    "#X_train, X_test, y_train, y_test = train_test_split(X, y, test_size=0.8, random_state=0)\n",
    "\n",
    "# Set the parameters by cross-validation\n",
    "tuned_parameters = [{'n_estimators': list(range(50,121, 10)), 'max_depth': [5, None]}]\n",
    "\n",
    "scores = ['f1']\n",
    "\n",
    "for score in scores:\n",
    "    print(\"# Tuning hyper-parameters for %s\" % score, '\\n')\n",
    "\n",
    "    \n",
    "    clf = GridSearchCV(GradientBoostingClassifier(), tuned_parameters, cv = 10,\n",
    "                       scoring='%s_weighted' % score)\n",
    "    clf.fit(X, y)\n",
    "\n",
    "    print(\"Best parameters set found on development set:\", '\\n')\n",
    "\n",
    "    print(clf.best_params_, '\\n')\n",
    "\n",
    "    print(\"Grid scores on development set:\", '\\n')\n",
    "\n",
    "    means = clf.cv_results_['mean_test_score']\n",
    "    stds = clf.cv_results_['std_test_score']\n",
    "    for mean, std, params in zip(means, stds, clf.cv_results_['params']):\n",
    "        print(\"%0.3f (+/-%0.03f) for %r\"\n",
    "              % (mean, std * 2, params), '\\n')\n",
    "\n",
    "        \n",
    "    #print(\"Detailed classification report:\", '\\n')\n",
    "    #print()\n",
    "    #print(\"The model is trained on the full development set.\")\n",
    "    #print(\"The scores are computed on the full evaluation set.\", '\\n')\n",
    "\n",
    "    #y_true, y_pred = y_test, clf.predict(X_test)\n",
    "    #print(classification_report(y_true, y_pred), '\\n')\n",
    "\n",
    "    "
   ]
  },
  {
   "cell_type": "markdown",
   "metadata": {},
   "source": [
    "### XGBoost"
   ]
  },
  {
   "cell_type": "code",
   "execution_count": 63,
   "metadata": {},
   "outputs": [
    {
     "name": "stdout",
     "output_type": "stream",
     "text": [
      "# Tuning hyper-parameters for f1 \n",
      "\n",
      "Best parameters set found on development set: \n",
      "\n",
      "{'max_depth': 5, 'n_estimators': 120} \n",
      "\n",
      "Grid scores on development set: \n",
      "\n",
      "0.647 (+/-0.021) for {'max_depth': 3, 'n_estimators': 50} \n",
      "\n",
      "0.653 (+/-0.019) for {'max_depth': 3, 'n_estimators': 60} \n",
      "\n",
      "0.664 (+/-0.023) for {'max_depth': 3, 'n_estimators': 70} \n",
      "\n",
      "0.673 (+/-0.027) for {'max_depth': 3, 'n_estimators': 80} \n",
      "\n",
      "0.678 (+/-0.029) for {'max_depth': 3, 'n_estimators': 90} \n",
      "\n",
      "0.686 (+/-0.026) for {'max_depth': 3, 'n_estimators': 100} \n",
      "\n",
      "0.691 (+/-0.030) for {'max_depth': 3, 'n_estimators': 110} \n",
      "\n",
      "0.697 (+/-0.030) for {'max_depth': 3, 'n_estimators': 120} \n",
      "\n",
      "0.739 (+/-0.043) for {'max_depth': 5, 'n_estimators': 50} \n",
      "\n",
      "0.754 (+/-0.045) for {'max_depth': 5, 'n_estimators': 60} \n",
      "\n",
      "0.766 (+/-0.044) for {'max_depth': 5, 'n_estimators': 70} \n",
      "\n",
      "0.777 (+/-0.036) for {'max_depth': 5, 'n_estimators': 80} \n",
      "\n",
      "0.784 (+/-0.034) for {'max_depth': 5, 'n_estimators': 90} \n",
      "\n",
      "0.792 (+/-0.031) for {'max_depth': 5, 'n_estimators': 100} \n",
      "\n",
      "0.798 (+/-0.032) for {'max_depth': 5, 'n_estimators': 110} \n",
      "\n",
      "0.804 (+/-0.028) for {'max_depth': 5, 'n_estimators': 120} \n",
      "\n"
     ]
    }
   ],
   "source": [
    "# Split the dataset in two parts\n",
    "\n",
    "#X_train, X_test, y_train, y_test = train_test_split(X, y, test_size=0.8, random_state=0)\n",
    "\n",
    "# Set the parameters by cross-validation\n",
    "tuned_parameters = [{'n_estimators': list(range(50,121, 10)), 'max_depth': [3, 5]}]\n",
    "\n",
    "scores = ['f1']\n",
    "\n",
    "for score in scores:\n",
    "    print(\"# Tuning hyper-parameters for %s\" % score, '\\n')\n",
    "\n",
    "    \n",
    "    clf = GridSearchCV(XGBClassifier(), tuned_parameters, cv = 10,\n",
    "                       scoring='%s_weighted' % score)\n",
    "    clf.fit(X, y)\n",
    "\n",
    "    print(\"Best parameters set found on development set:\", '\\n')\n",
    "\n",
    "    print(clf.best_params_, '\\n')\n",
    "\n",
    "    print(\"Grid scores on development set:\", '\\n')\n",
    "\n",
    "    means = clf.cv_results_['mean_test_score']\n",
    "    stds = clf.cv_results_['std_test_score']\n",
    "    for mean, std, params in zip(means, stds, clf.cv_results_['params']):\n",
    "        print(\"%0.3f (+/-%0.03f) for %r\"\n",
    "              % (mean, std * 2, params), '\\n')\n",
    "\n",
    "        \n",
    "    #print(\"Detailed classification report:\", '\\n')\n",
    "    #print()\n",
    "    #print(\"The model is trained on the full development set.\")\n",
    "    #print(\"The scores are computed on the full evaluation set.\", '\\n')\n",
    "\n",
    "    #y_true, y_pred = y_test, clf.predict(X_test)\n",
    "    #print(classification_report(y_true, y_pred), '\\n')\n",
    "\n",
    "    "
   ]
  },
  {
   "cell_type": "markdown",
   "metadata": {},
   "source": [
    "## Predictions on X_Test"
   ]
  },
  {
   "cell_type": "code",
   "execution_count": 1052,
   "metadata": {},
   "outputs": [
    {
     "data": {
      "text/html": [
       "<div>\n",
       "<style scoped>\n",
       "    .dataframe tbody tr th:only-of-type {\n",
       "        vertical-align: middle;\n",
       "    }\n",
       "\n",
       "    .dataframe tbody tr th {\n",
       "        vertical-align: top;\n",
       "    }\n",
       "\n",
       "    .dataframe thead th {\n",
       "        text-align: right;\n",
       "    }\n",
       "</style>\n",
       "<table border=\"1\" class=\"dataframe\">\n",
       "  <thead>\n",
       "    <tr style=\"text-align: right;\">\n",
       "      <th></th>\n",
       "      <th>hacdor</th>\n",
       "      <th>rooms</th>\n",
       "      <th>hacapo</th>\n",
       "      <th>v14a</th>\n",
       "      <th>refrig</th>\n",
       "      <th>v18q</th>\n",
       "      <th>r4h1</th>\n",
       "      <th>r4h2</th>\n",
       "      <th>r4h3</th>\n",
       "      <th>r4m1</th>\n",
       "      <th>...</th>\n",
       "      <th>lugar4</th>\n",
       "      <th>lugar5</th>\n",
       "      <th>lugar6</th>\n",
       "      <th>area1</th>\n",
       "      <th>area2</th>\n",
       "      <th>age</th>\n",
       "      <th>SQBedjefe</th>\n",
       "      <th>SQBhogar_nin</th>\n",
       "      <th>SQBdependency</th>\n",
       "      <th>Target</th>\n",
       "    </tr>\n",
       "  </thead>\n",
       "  <tbody>\n",
       "    <tr>\n",
       "      <th>978</th>\n",
       "      <td>0</td>\n",
       "      <td>4</td>\n",
       "      <td>0</td>\n",
       "      <td>1</td>\n",
       "      <td>1</td>\n",
       "      <td>0</td>\n",
       "      <td>0</td>\n",
       "      <td>0</td>\n",
       "      <td>0</td>\n",
       "      <td>0</td>\n",
       "      <td>...</td>\n",
       "      <td>0</td>\n",
       "      <td>0</td>\n",
       "      <td>0</td>\n",
       "      <td>1</td>\n",
       "      <td>0</td>\n",
       "      <td>16</td>\n",
       "      <td>0</td>\n",
       "      <td>1</td>\n",
       "      <td>1.00</td>\n",
       "      <td>2</td>\n",
       "    </tr>\n",
       "    <tr>\n",
       "      <th>4960</th>\n",
       "      <td>0</td>\n",
       "      <td>4</td>\n",
       "      <td>0</td>\n",
       "      <td>1</td>\n",
       "      <td>1</td>\n",
       "      <td>1</td>\n",
       "      <td>0</td>\n",
       "      <td>1</td>\n",
       "      <td>1</td>\n",
       "      <td>0</td>\n",
       "      <td>...</td>\n",
       "      <td>0</td>\n",
       "      <td>0</td>\n",
       "      <td>0</td>\n",
       "      <td>0</td>\n",
       "      <td>1</td>\n",
       "      <td>15</td>\n",
       "      <td>36</td>\n",
       "      <td>1</td>\n",
       "      <td>0.25</td>\n",
       "      <td>4</td>\n",
       "    </tr>\n",
       "    <tr>\n",
       "      <th>8962</th>\n",
       "      <td>0</td>\n",
       "      <td>6</td>\n",
       "      <td>0</td>\n",
       "      <td>1</td>\n",
       "      <td>1</td>\n",
       "      <td>0</td>\n",
       "      <td>1</td>\n",
       "      <td>3</td>\n",
       "      <td>4</td>\n",
       "      <td>0</td>\n",
       "      <td>...</td>\n",
       "      <td>0</td>\n",
       "      <td>0</td>\n",
       "      <td>1</td>\n",
       "      <td>1</td>\n",
       "      <td>0</td>\n",
       "      <td>15</td>\n",
       "      <td>36</td>\n",
       "      <td>4</td>\n",
       "      <td>1.00</td>\n",
       "      <td>2</td>\n",
       "    </tr>\n",
       "    <tr>\n",
       "      <th>4209</th>\n",
       "      <td>0</td>\n",
       "      <td>6</td>\n",
       "      <td>0</td>\n",
       "      <td>1</td>\n",
       "      <td>1</td>\n",
       "      <td>0</td>\n",
       "      <td>0</td>\n",
       "      <td>2</td>\n",
       "      <td>2</td>\n",
       "      <td>0</td>\n",
       "      <td>...</td>\n",
       "      <td>0</td>\n",
       "      <td>0</td>\n",
       "      <td>0</td>\n",
       "      <td>1</td>\n",
       "      <td>0</td>\n",
       "      <td>18</td>\n",
       "      <td>0</td>\n",
       "      <td>1</td>\n",
       "      <td>0.25</td>\n",
       "      <td>4</td>\n",
       "    </tr>\n",
       "    <tr>\n",
       "      <th>6702</th>\n",
       "      <td>0</td>\n",
       "      <td>4</td>\n",
       "      <td>0</td>\n",
       "      <td>1</td>\n",
       "      <td>1</td>\n",
       "      <td>0</td>\n",
       "      <td>0</td>\n",
       "      <td>3</td>\n",
       "      <td>3</td>\n",
       "      <td>0</td>\n",
       "      <td>...</td>\n",
       "      <td>0</td>\n",
       "      <td>0</td>\n",
       "      <td>0</td>\n",
       "      <td>1</td>\n",
       "      <td>0</td>\n",
       "      <td>22</td>\n",
       "      <td>49</td>\n",
       "      <td>0</td>\n",
       "      <td>0.00</td>\n",
       "      <td>4</td>\n",
       "    </tr>\n",
       "  </tbody>\n",
       "</table>\n",
       "<p>5 rows × 128 columns</p>\n",
       "</div>"
      ],
      "text/plain": [
       "      hacdor  rooms  hacapo  v14a  refrig  v18q  r4h1  r4h2  r4h3  r4m1  ...  \\\n",
       "978        0      4       0     1       1     0     0     0     0     0  ...   \n",
       "4960       0      4       0     1       1     1     0     1     1     0  ...   \n",
       "8962       0      6       0     1       1     0     1     3     4     0  ...   \n",
       "4209       0      6       0     1       1     0     0     2     2     0  ...   \n",
       "6702       0      4       0     1       1     0     0     3     3     0  ...   \n",
       "\n",
       "      lugar4  lugar5  lugar6  area1  area2  age  SQBedjefe  SQBhogar_nin  \\\n",
       "978        0       0       0      1      0   16          0             1   \n",
       "4960       0       0       0      0      1   15         36             1   \n",
       "8962       0       0       1      1      0   15         36             4   \n",
       "4209       0       0       0      1      0   18          0             1   \n",
       "6702       0       0       0      1      0   22         49             0   \n",
       "\n",
       "      SQBdependency  Target  \n",
       "978            1.00       2  \n",
       "4960           0.25       4  \n",
       "8962           1.00       2  \n",
       "4209           0.25       4  \n",
       "6702           0.00       4  \n",
       "\n",
       "[5 rows x 128 columns]"
      ]
     },
     "execution_count": 1052,
     "metadata": {},
     "output_type": "execute_result"
    }
   ],
   "source": [
    "new_test.head()"
   ]
  },
  {
   "cell_type": "code",
   "execution_count": null,
   "metadata": {},
   "outputs": [],
   "source": []
  },
  {
   "cell_type": "code",
   "execution_count": 1051,
   "metadata": {},
   "outputs": [
    {
     "data": {
      "text/plain": [
       "(1872, 128)"
      ]
     },
     "execution_count": 1051,
     "metadata": {},
     "output_type": "execute_result"
    }
   ],
   "source": [
    "new_test.shape"
   ]
  },
  {
   "cell_type": "markdown",
   "metadata": {},
   "source": [
    "## Decision tree model"
   ]
  },
  {
   "cell_type": "code",
   "execution_count": 66,
   "metadata": {},
   "outputs": [
    {
     "data": {
      "text/plain": [
       "(1872,)"
      ]
     },
     "execution_count": 66,
     "metadata": {},
     "output_type": "execute_result"
    }
   ],
   "source": [
    "# Training on entire TRAIN SET\n",
    "y_train = new_train['Target']\n",
    "X_train = new_train[[col for col in new_train.columns if (col != 'Target') & (col != 'idhogar')]]\n",
    "\n",
    "y_test = new_test['Target']\n",
    "X_test = new_test[[col for col in Costa_X_test.columns if (col != 'Target')]]\n",
    "\n",
    "# model with updated parameters\n",
    "costa_tree = tree.DecisionTreeClassifier(splitter = 'best', max_depth = 50)\n",
    "costa_tree.fit(X_train, y_train)\n",
    "\n",
    "y_pred_test_tree = costa_tree.predict(X_test)\n",
    "\n",
    "\n",
    "y_pred_test_tree.shape\n"
   ]
  },
  {
   "cell_type": "code",
   "execution_count": 67,
   "metadata": {},
   "outputs": [
    {
     "name": "stdout",
     "output_type": "stream",
     "text": [
      "Confusion matrix \n",
      " [[ 131    2    2    1]\n",
      " [   0  266    1    4]\n",
      " [   0    2  247    5]\n",
      " [   2    2    1 1206]] \n",
      "\n",
      "Accuracy score 0.9882478632478633\n",
      "balanced_accuracy_score:  0.9782743088349928 \n",
      "\n",
      "Precision score:  [0.98496241 0.97794118 0.98406375 0.99177632]\n",
      "Recall score : [0.96323529 0.98154982 0.97244094 0.99587118]\n",
      "F1 score : 0.9814393050865262 \n",
      "\n"
     ]
    }
   ],
   "source": [
    "\n",
    "print('Confusion matrix \\n', confusion_matrix(y_test, y_pred_test_tree), '\\n')\n",
    "print('Accuracy score', accuracy_score(y_test, y_pred_test_tree))\n",
    "\n",
    "\n",
    "print('balanced_accuracy_score: ', balanced_accuracy_score(y_test, y_pred_test_tree), '\\n')\n",
    "\n",
    "print('Precision score: ', precision_score(y_test, y_pred_test_tree, average=None))\n",
    "print('Recall score :', recall_score(y_test, y_pred_test_tree, average=None))\n",
    "print('F1 score :', f1_score(y_test, y_pred_test_tree, average= 'macro'), '\\n')"
   ]
  },
  {
   "cell_type": "code",
   "execution_count": 1058,
   "metadata": {},
   "outputs": [
    {
     "data": {
      "text/html": [
       "<div>\n",
       "<style scoped>\n",
       "    .dataframe tbody tr th:only-of-type {\n",
       "        vertical-align: middle;\n",
       "    }\n",
       "\n",
       "    .dataframe tbody tr th {\n",
       "        vertical-align: top;\n",
       "    }\n",
       "\n",
       "    .dataframe thead th {\n",
       "        text-align: right;\n",
       "    }\n",
       "</style>\n",
       "<table border=\"1\" class=\"dataframe\">\n",
       "  <thead>\n",
       "    <tr style=\"text-align: right;\">\n",
       "      <th></th>\n",
       "      <th>idhogar</th>\n",
       "      <th>parentesco1</th>\n",
       "    </tr>\n",
       "  </thead>\n",
       "  <tbody>\n",
       "    <tr>\n",
       "      <th>978</th>\n",
       "      <td>307f046e7</td>\n",
       "      <td>0</td>\n",
       "    </tr>\n",
       "    <tr>\n",
       "      <th>4960</th>\n",
       "      <td>589b36aa5</td>\n",
       "      <td>0</td>\n",
       "    </tr>\n",
       "    <tr>\n",
       "      <th>8962</th>\n",
       "      <td>2b42b5570</td>\n",
       "      <td>0</td>\n",
       "    </tr>\n",
       "    <tr>\n",
       "      <th>4209</th>\n",
       "      <td>256dfbc43</td>\n",
       "      <td>0</td>\n",
       "    </tr>\n",
       "    <tr>\n",
       "      <th>6702</th>\n",
       "      <td>13e76db42</td>\n",
       "      <td>0</td>\n",
       "    </tr>\n",
       "  </tbody>\n",
       "</table>\n",
       "</div>"
      ],
      "text/plain": [
       "        idhogar  parentesco1\n",
       "978   307f046e7            0\n",
       "4960  589b36aa5            0\n",
       "8962  2b42b5570            0\n",
       "4209  256dfbc43            0\n",
       "6702  13e76db42            0"
      ]
     },
     "execution_count": 1058,
     "metadata": {},
     "output_type": "execute_result"
    }
   ],
   "source": [
    "list_ID_test.head()"
   ]
  },
  {
   "cell_type": "code",
   "execution_count": 1057,
   "metadata": {},
   "outputs": [
    {
     "data": {
      "text/plain": [
       "(1872, 2)"
      ]
     },
     "execution_count": 1057,
     "metadata": {},
     "output_type": "execute_result"
    }
   ],
   "source": [
    "list_ID_test.shape"
   ]
  },
  {
   "cell_type": "code",
   "execution_count": 1060,
   "metadata": {},
   "outputs": [
    {
     "data": {
      "text/html": [
       "<div>\n",
       "<style scoped>\n",
       "    .dataframe tbody tr th:only-of-type {\n",
       "        vertical-align: middle;\n",
       "    }\n",
       "\n",
       "    .dataframe tbody tr th {\n",
       "        vertical-align: top;\n",
       "    }\n",
       "\n",
       "    .dataframe thead th {\n",
       "        text-align: right;\n",
       "    }\n",
       "</style>\n",
       "<table border=\"1\" class=\"dataframe\">\n",
       "  <thead>\n",
       "    <tr style=\"text-align: right;\">\n",
       "      <th></th>\n",
       "      <th>ID</th>\n",
       "      <th>Target</th>\n",
       "      <th>True y</th>\n",
       "    </tr>\n",
       "  </thead>\n",
       "  <tbody>\n",
       "    <tr>\n",
       "      <th>978</th>\n",
       "      <td>307f046e7</td>\n",
       "      <td>2</td>\n",
       "      <td>2</td>\n",
       "    </tr>\n",
       "    <tr>\n",
       "      <th>4960</th>\n",
       "      <td>589b36aa5</td>\n",
       "      <td>4</td>\n",
       "      <td>4</td>\n",
       "    </tr>\n",
       "    <tr>\n",
       "      <th>8962</th>\n",
       "      <td>2b42b5570</td>\n",
       "      <td>2</td>\n",
       "      <td>2</td>\n",
       "    </tr>\n",
       "    <tr>\n",
       "      <th>4209</th>\n",
       "      <td>256dfbc43</td>\n",
       "      <td>4</td>\n",
       "      <td>4</td>\n",
       "    </tr>\n",
       "    <tr>\n",
       "      <th>6702</th>\n",
       "      <td>13e76db42</td>\n",
       "      <td>4</td>\n",
       "      <td>4</td>\n",
       "    </tr>\n",
       "    <tr>\n",
       "      <th>8426</th>\n",
       "      <td>85d809008</td>\n",
       "      <td>3</td>\n",
       "      <td>3</td>\n",
       "    </tr>\n",
       "    <tr>\n",
       "      <th>3214</th>\n",
       "      <td>201610907</td>\n",
       "      <td>2</td>\n",
       "      <td>2</td>\n",
       "    </tr>\n",
       "    <tr>\n",
       "      <th>2303</th>\n",
       "      <td>b686896bc</td>\n",
       "      <td>2</td>\n",
       "      <td>2</td>\n",
       "    </tr>\n",
       "    <tr>\n",
       "      <th>7589</th>\n",
       "      <td>09e25d616</td>\n",
       "      <td>2</td>\n",
       "      <td>2</td>\n",
       "    </tr>\n",
       "    <tr>\n",
       "      <th>3581</th>\n",
       "      <td>4a42abb16</td>\n",
       "      <td>4</td>\n",
       "      <td>4</td>\n",
       "    </tr>\n",
       "  </tbody>\n",
       "</table>\n",
       "</div>"
      ],
      "text/plain": [
       "             ID  Target  True y\n",
       "978   307f046e7       2       2\n",
       "4960  589b36aa5       4       4\n",
       "8962  2b42b5570       2       2\n",
       "4209  256dfbc43       4       4\n",
       "6702  13e76db42       4       4\n",
       "8426  85d809008       3       3\n",
       "3214  201610907       2       2\n",
       "2303  b686896bc       2       2\n",
       "7589  09e25d616       2       2\n",
       "3581  4a42abb16       4       4"
      ]
     },
     "execution_count": 1060,
     "metadata": {},
     "output_type": "execute_result"
    }
   ],
   "source": [
    "#hyperparam_final = pd.DataFrame({'ID': list_ID_test['idhogar'], 'parentesco1' : list_ID_test['parentesco1'], 'Target' : test_predictions})\n",
    "\n",
    "hyperparam_final = pd.DataFrame({'ID': list_ID_test['idhogar'], 'Target' : y_pred_test_rf, 'True y': y_test})\n",
    "\n",
    "hyperparam_final.head(10)\n"
   ]
  },
  {
   "cell_type": "markdown",
   "metadata": {},
   "source": [
    "## RF"
   ]
  },
  {
   "cell_type": "code",
   "execution_count": 68,
   "metadata": {},
   "outputs": [
    {
     "name": "stdout",
     "output_type": "stream",
     "text": [
      "Confusion matrix \n",
      " [[ 132    0    0    4]\n",
      " [   0  267    1    3]\n",
      " [   0    3  247    4]\n",
      " [   0    1    1 1209]] \n",
      "\n",
      "Accuracy score 0.9909188034188035\n",
      "balanced_accuracy_score:  0.9816543762278607 \n",
      "\n",
      "Precision score:  [1.         0.98523985 0.99196787 0.99098361]\n",
      "Recall score : [0.97058824 0.98523985 0.97244094 0.99834847]\n",
      "F1 score : 0.9867685603865298 \n",
      "\n"
     ]
    }
   ],
   "source": [
    "# Training on entire TRAIN SET\n",
    "y_train = new_train['Target']\n",
    "X_train = new_train[[col for col in new_train.columns if (col != 'Target') & (col != 'idhogar')]]\n",
    "\n",
    "y_test = new_test['Target']\n",
    "X_test = new_test[[col for col in Costa_X_test.columns if (col != 'Target')]]\n",
    "\n",
    "# model with updated parameters\n",
    "costa_rf = RandomForestClassifier(class_weight = 'balanced', n_estimators = 120, max_depth = 50)\n",
    "costa_rf.fit(X_train, y_train)\n",
    "\n",
    "y_pred_test_rf = costa_rf.predict(X_test)\n",
    "\n",
    "\n",
    "\n",
    "print('Confusion matrix \\n', confusion_matrix(y_test, y_pred_test_rf), '\\n')\n",
    "print('Accuracy score', accuracy_score(y_test, y_pred_test_rf))\n",
    "\n",
    "\n",
    "print('balanced_accuracy_score: ', balanced_accuracy_score(y_test, y_pred_test_rf), '\\n')\n",
    "\n",
    "print('Precision score: ', precision_score(y_test, y_pred_test_rf, average=None))\n",
    "print('Recall score :', recall_score(y_test, y_pred_test_rf, average=None))\n",
    "print('F1 score :', f1_score(y_test, y_pred_test_rf, average= 'macro'), '\\n')"
   ]
  },
  {
   "cell_type": "code",
   "execution_count": 1064,
   "metadata": {},
   "outputs": [
    {
     "data": {
      "text/html": [
       "<div>\n",
       "<style scoped>\n",
       "    .dataframe tbody tr th:only-of-type {\n",
       "        vertical-align: middle;\n",
       "    }\n",
       "\n",
       "    .dataframe tbody tr th {\n",
       "        vertical-align: top;\n",
       "    }\n",
       "\n",
       "    .dataframe thead th {\n",
       "        text-align: right;\n",
       "    }\n",
       "</style>\n",
       "<table border=\"1\" class=\"dataframe\">\n",
       "  <thead>\n",
       "    <tr style=\"text-align: right;\">\n",
       "      <th></th>\n",
       "      <th>ID</th>\n",
       "      <th>Target</th>\n",
       "      <th>True y</th>\n",
       "    </tr>\n",
       "  </thead>\n",
       "  <tbody>\n",
       "    <tr>\n",
       "      <th>978</th>\n",
       "      <td>307f046e7</td>\n",
       "      <td>2</td>\n",
       "      <td>2</td>\n",
       "    </tr>\n",
       "    <tr>\n",
       "      <th>4960</th>\n",
       "      <td>589b36aa5</td>\n",
       "      <td>4</td>\n",
       "      <td>4</td>\n",
       "    </tr>\n",
       "    <tr>\n",
       "      <th>8962</th>\n",
       "      <td>2b42b5570</td>\n",
       "      <td>2</td>\n",
       "      <td>2</td>\n",
       "    </tr>\n",
       "    <tr>\n",
       "      <th>4209</th>\n",
       "      <td>256dfbc43</td>\n",
       "      <td>4</td>\n",
       "      <td>4</td>\n",
       "    </tr>\n",
       "    <tr>\n",
       "      <th>6702</th>\n",
       "      <td>13e76db42</td>\n",
       "      <td>4</td>\n",
       "      <td>4</td>\n",
       "    </tr>\n",
       "    <tr>\n",
       "      <th>8426</th>\n",
       "      <td>85d809008</td>\n",
       "      <td>3</td>\n",
       "      <td>3</td>\n",
       "    </tr>\n",
       "    <tr>\n",
       "      <th>3214</th>\n",
       "      <td>201610907</td>\n",
       "      <td>2</td>\n",
       "      <td>2</td>\n",
       "    </tr>\n",
       "    <tr>\n",
       "      <th>2303</th>\n",
       "      <td>b686896bc</td>\n",
       "      <td>2</td>\n",
       "      <td>2</td>\n",
       "    </tr>\n",
       "    <tr>\n",
       "      <th>7589</th>\n",
       "      <td>09e25d616</td>\n",
       "      <td>2</td>\n",
       "      <td>2</td>\n",
       "    </tr>\n",
       "    <tr>\n",
       "      <th>3581</th>\n",
       "      <td>4a42abb16</td>\n",
       "      <td>4</td>\n",
       "      <td>4</td>\n",
       "    </tr>\n",
       "  </tbody>\n",
       "</table>\n",
       "</div>"
      ],
      "text/plain": [
       "             ID  Target  True y\n",
       "978   307f046e7       2       2\n",
       "4960  589b36aa5       4       4\n",
       "8962  2b42b5570       2       2\n",
       "4209  256dfbc43       4       4\n",
       "6702  13e76db42       4       4\n",
       "8426  85d809008       3       3\n",
       "3214  201610907       2       2\n",
       "2303  b686896bc       2       2\n",
       "7589  09e25d616       2       2\n",
       "3581  4a42abb16       4       4"
      ]
     },
     "execution_count": 1064,
     "metadata": {},
     "output_type": "execute_result"
    }
   ],
   "source": [
    "#hyperparam_final = pd.DataFrame({'ID': list_ID_test['idhogar'], 'parentesco1' : list_ID_test['parentesco1'], 'Target' : test_predictions})\n",
    "\n",
    "hyperparam_final = pd.DataFrame({'ID': list_ID_test['idhogar'], 'Target' : y_pred_test_tree, 'True y': y_test})\n",
    "\n",
    "hyperparam_final.head(10)\n"
   ]
  },
  {
   "cell_type": "markdown",
   "metadata": {},
   "source": [
    "### Gradient Boosting"
   ]
  },
  {
   "cell_type": "code",
   "execution_count": 73,
   "metadata": {},
   "outputs": [
    {
     "name": "stdout",
     "output_type": "stream",
     "text": [
      "Confusion matrix \n",
      " [[ 130    0    1    5]\n",
      " [   0  268    1    2]\n",
      " [   1    1  251    1]\n",
      " [   0    0    5 1206]] \n",
      "\n",
      "Accuracy score 0.9909188034188035\n",
      "balanced_accuracy_score:  0.9822180998650754 \n",
      "\n",
      "Precision score:  [0.99236641 0.99628253 0.97286822 0.99341021]\n",
      "Recall score : [0.95588235 0.98892989 0.98818898 0.99587118]\n",
      "F1 score : 0.9853708223464763 \n",
      "\n"
     ]
    }
   ],
   "source": [
    "y_train = new_train['Target']\n",
    "X_train = new_train[[col for col in new_train.columns if (col != 'Target') & (col != 'idhogar')]]\n",
    "\n",
    "y_test = new_test['Target']\n",
    "X_test = new_test[[col for col in Costa_X_test.columns if (col != 'Target')]]\n",
    "\n",
    "costa_gb = GradientBoostingClassifier(n_estimators = 60, max_depth = None)\n",
    "\n",
    "costa_gb.fit(X_train, y_train)\n",
    "\n",
    "\n",
    "#costa_gb.fit(X_train, y_train)\n",
    "y_pred_test_gb = costa_gb.predict(X_test)\n",
    "\n",
    "print('Confusion matrix \\n', confusion_matrix(y_test, y_pred_test_gb), '\\n')\n",
    "print('Accuracy score', accuracy_score(y_test, y_pred_test_gb))\n",
    "\n",
    "\n",
    "print('balanced_accuracy_score: ', balanced_accuracy_score(y_test, y_pred_test_gb), '\\n')\n",
    "accuracy_score(y_test, y_pred_test_gb)\n",
    "\n",
    "\n",
    "print('Precision score: ', precision_score(y_test, y_pred_test_gb, average=None))\n",
    "print('Recall score :', recall_score(y_test, y_pred_test_gb, average=None))\n",
    "print('F1 score :', f1_score(y_test, y_pred_test_gb, average='macro'), '\\n')"
   ]
  },
  {
   "cell_type": "markdown",
   "metadata": {},
   "source": [
    "### XGBoost"
   ]
  },
  {
   "cell_type": "code",
   "execution_count": 69,
   "metadata": {},
   "outputs": [],
   "source": [
    "y_train = new_train['Target']\n",
    "X_train = new_train[[col for col in new_train.columns if (col != 'Target') & (col != 'idhogar')]]\n",
    "\n",
    "y_test = new_test['Target']\n",
    "X_test = new_test[[col for col in Costa_X_test.columns if (col != 'Target')]]"
   ]
  },
  {
   "cell_type": "code",
   "execution_count": 70,
   "metadata": {},
   "outputs": [
    {
     "name": "stdout",
     "output_type": "stream",
     "text": [
      "(7488,)\n",
      "(1872,)\n",
      "(7488, 126)\n",
      "(1872, 126)\n"
     ]
    }
   ],
   "source": [
    "print(y_train.shape)\n",
    "print(y_test.shape)\n",
    "print(X_train.shape)\n",
    "print(X_test.shape)"
   ]
  },
  {
   "cell_type": "code",
   "execution_count": 1182,
   "metadata": {},
   "outputs": [
    {
     "data": {
      "text/plain": [
       "(1872,)"
      ]
     },
     "execution_count": 1182,
     "metadata": {},
     "output_type": "execute_result"
    }
   ],
   "source": [
    "y_pred_test_xgb.shape"
   ]
  },
  {
   "cell_type": "code",
   "execution_count": 71,
   "metadata": {},
   "outputs": [
    {
     "name": "stdout",
     "output_type": "stream",
     "text": [
      "Confusion matrix \n",
      " [[  98    4    2   32]\n",
      " [   0  186    4   81]\n",
      " [   2   18  147   87]\n",
      " [   0   15    3 1193]] \n",
      "\n",
      "Accuracy score 0.8675213675213675\n",
      "balanced_accuracy_score:  0.742702876818818 \n",
      "\n",
      "Precision score:  [0.98       0.83408072 0.94230769 0.85642498]\n",
      "Recall score : [0.72058824 0.68634686 0.57874016 0.98513625]\n",
      "F1 score : 0.804225181161009 \n",
      "\n"
     ]
    }
   ],
   "source": [
    "xgb = XGBClassifier(n_estimators = 120, max_depth = 5)\n",
    "xgb = xgb.fit(X_train, y_train)\n",
    "\n",
    "\n",
    "#y_pred = SVM.fit(X_train, y_train)\n",
    "\n",
    "\n",
    "y_pred_test_xgb = xgb.predict(X_test)\n",
    "\n",
    "print('Confusion matrix \\n', confusion_matrix(y_test, y_pred_test_xgb), '\\n')\n",
    "print('Accuracy score', accuracy_score(y_test, y_pred_test_xgb))\n",
    "\n",
    "\n",
    "\n",
    "print('balanced_accuracy_score: ', balanced_accuracy_score(y_test, y_pred_test_xgb), '\\n')\n",
    "\n",
    "print('Precision score: ', precision_score(y_test, y_pred_test_xgb, average=None))\n",
    "print('Recall score :', recall_score(y_test, y_pred_test_xgb, average=None))\n",
    "print('F1 score :', f1_score(y_test, y_pred_test_xgb, average= 'macro'), '\\n')"
   ]
  },
  {
   "cell_type": "code",
   "execution_count": null,
   "metadata": {},
   "outputs": [],
   "source": []
  },
  {
   "cell_type": "code",
   "execution_count": 1061,
   "metadata": {},
   "outputs": [
    {
     "data": {
      "text/plain": [
       "4    1089\n",
       "3     323\n",
       "2     297\n",
       "1     163\n",
       "Name: Target, dtype: int64"
      ]
     },
     "execution_count": 1061,
     "metadata": {},
     "output_type": "execute_result"
    },
    {
     "data": {
      "image/png": "[encoded data removed]",
      "text/plain": [
       "<Figure size 360x432 with 1 Axes>"
      ]
     },
     "metadata": {},
     "output_type": "display_data"
    }
   ],
   "source": [
    "# Plot the predicted labels\n",
    "\n",
    "rcParams['figure.figsize'] = 5, 6\n",
    "\n",
    "hyperparam_final['Target'].sort_index().plot.hist()\n",
    "hyperparam_final['Target'].value_counts()"
   ]
  },
  {
   "cell_type": "code",
   "execution_count": 971,
   "metadata": {},
   "outputs": [
    {
     "data": {
      "text/plain": [
       "4    4716\n",
       "2    1190\n",
       "3     966\n",
       "1     616\n",
       "Name: Target, dtype: int64"
      ]
     },
     "execution_count": 971,
     "metadata": {},
     "output_type": "execute_result"
    },
    {
     "data": {
      "image/png": "[encoded data removed]",
      "text/plain": [
       "<Figure size 360x432 with 1 Axes>"
      ]
     },
     "metadata": {},
     "output_type": "display_data"
    }
   ],
   "source": [
    "new_train['Target'].sort_index().plot.hist()\n",
    "new_train['Target'].value_counts()"
   ]
  },
  {
   "cell_type": "code",
   "execution_count": 1187,
   "metadata": {},
   "outputs": [
    {
     "data": {
      "text/plain": [
       "(23856, 142)"
      ]
     },
     "execution_count": 1187,
     "metadata": {},
     "output_type": "execute_result"
    }
   ],
   "source": [
    "costa_test.shape"
   ]
  },
  {
   "cell_type": "code",
   "execution_count": 1189,
   "metadata": {},
   "outputs": [
    {
     "data": {
      "text/plain": [
       "Id                     0\n",
       "v2a1               17403\n",
       "hacdor                 0\n",
       "rooms                  0\n",
       "hacapo                 0\n",
       "v14a                   0\n",
       "refrig                 0\n",
       "v18q                   0\n",
       "v18q1              18126\n",
       "r4h1                   0\n",
       "r4h2                   0\n",
       "r4h3                   0\n",
       "r4m1                   0\n",
       "r4m2                   0\n",
       "r4m3                   0\n",
       "r4t1                   0\n",
       "r4t2                   0\n",
       "r4t3                   0\n",
       "tamhog                 0\n",
       "tamviv                 0\n",
       "escolari               0\n",
       "rez_esc            19653\n",
       "hhsize                 0\n",
       "paredblolad            0\n",
       "paredzocalo            0\n",
       "paredpreb              0\n",
       "pareddes               0\n",
       "paredmad               0\n",
       "paredzinc              0\n",
       "paredfibras            0\n",
       "                   ...  \n",
       "instlevel9             0\n",
       "bedrooms               0\n",
       "overcrowding           0\n",
       "tipovivi1              0\n",
       "tipovivi2              0\n",
       "tipovivi3              0\n",
       "tipovivi4              0\n",
       "tipovivi5              0\n",
       "computer               0\n",
       "television             0\n",
       "mobilephone            0\n",
       "qmobilephone           0\n",
       "lugar1                 0\n",
       "lugar2                 0\n",
       "lugar3                 0\n",
       "lugar4                 0\n",
       "lugar5                 0\n",
       "lugar6                 0\n",
       "area1                  0\n",
       "area2                  0\n",
       "age                    0\n",
       "SQBescolari            0\n",
       "SQBage                 0\n",
       "SQBhogar_total         0\n",
       "SQBedjefe              0\n",
       "SQBhogar_nin           0\n",
       "SQBovercrowding        0\n",
       "SQBdependency          0\n",
       "SQBmeaned             31\n",
       "agesq                  0\n",
       "Length: 142, dtype: int64"
      ]
     },
     "execution_count": 1189,
     "metadata": {},
     "output_type": "execute_result"
    }
   ],
   "source": [
    "costa_test.isna().sum()"
   ]
  },
  {
   "cell_type": "code",
   "execution_count": null,
   "metadata": {},
   "outputs": [],
   "source": []
  },
  {
   "cell_type": "code",
   "execution_count": null,
   "metadata": {},
   "outputs": [],
   "source": []
  },
  {
   "cell_type": "code",
   "execution_count": null,
   "metadata": {},
   "outputs": [],
   "source": []
  },
  {
   "cell_type": "markdown",
   "metadata": {},
   "source": [
    "## Not used"
   ]
  },
  {
   "cell_type": "markdown",
   "metadata": {},
   "source": [
    "### Applying cross-validation RF model to predict Test dataset\n"
   ]
  },
  {
   "cell_type": "markdown",
   "metadata": {},
   "source": [
    "NB: Submission file \n",
    "* This file contains all test IDs and a default value.\n",
    "* Note that ONLY the heads of household are used in scoring. All household members are included in test + the sample submission, but only heads of households are scored."
   ]
  },
  {
   "cell_type": "code",
   "execution_count": 670,
   "metadata": {},
   "outputs": [
    {
     "data": {
      "text/html": [
       "<div>\n",
       "<style scoped>\n",
       "    .dataframe tbody tr th:only-of-type {\n",
       "        vertical-align: middle;\n",
       "    }\n",
       "\n",
       "    .dataframe tbody tr th {\n",
       "        vertical-align: top;\n",
       "    }\n",
       "\n",
       "    .dataframe thead th {\n",
       "        text-align: right;\n",
       "    }\n",
       "</style>\n",
       "<table border=\"1\" class=\"dataframe\">\n",
       "  <thead>\n",
       "    <tr style=\"text-align: right;\">\n",
       "      <th></th>\n",
       "      <th>hacdor</th>\n",
       "      <th>rooms</th>\n",
       "      <th>hacapo</th>\n",
       "      <th>v14a</th>\n",
       "      <th>refrig</th>\n",
       "      <th>v18q</th>\n",
       "      <th>r4h1</th>\n",
       "      <th>r4h2</th>\n",
       "      <th>r4h3</th>\n",
       "      <th>r4m1</th>\n",
       "      <th>...</th>\n",
       "      <th>lugar3</th>\n",
       "      <th>lugar4</th>\n",
       "      <th>lugar5</th>\n",
       "      <th>lugar6</th>\n",
       "      <th>area1</th>\n",
       "      <th>area2</th>\n",
       "      <th>age</th>\n",
       "      <th>SQBedjefe</th>\n",
       "      <th>SQBhogar_nin</th>\n",
       "      <th>SQBdependency</th>\n",
       "    </tr>\n",
       "  </thead>\n",
       "  <tbody>\n",
       "    <tr>\n",
       "      <th>0</th>\n",
       "      <td>0</td>\n",
       "      <td>5</td>\n",
       "      <td>0</td>\n",
       "      <td>1</td>\n",
       "      <td>1</td>\n",
       "      <td>0</td>\n",
       "      <td>1</td>\n",
       "      <td>1</td>\n",
       "      <td>2</td>\n",
       "      <td>0</td>\n",
       "      <td>...</td>\n",
       "      <td>0</td>\n",
       "      <td>0</td>\n",
       "      <td>0</td>\n",
       "      <td>0</td>\n",
       "      <td>1</td>\n",
       "      <td>0</td>\n",
       "      <td>4</td>\n",
       "      <td>0</td>\n",
       "      <td>1</td>\n",
       "      <td>0.25</td>\n",
       "    </tr>\n",
       "    <tr>\n",
       "      <th>1</th>\n",
       "      <td>0</td>\n",
       "      <td>5</td>\n",
       "      <td>0</td>\n",
       "      <td>1</td>\n",
       "      <td>1</td>\n",
       "      <td>0</td>\n",
       "      <td>1</td>\n",
       "      <td>1</td>\n",
       "      <td>2</td>\n",
       "      <td>0</td>\n",
       "      <td>...</td>\n",
       "      <td>0</td>\n",
       "      <td>0</td>\n",
       "      <td>0</td>\n",
       "      <td>0</td>\n",
       "      <td>1</td>\n",
       "      <td>0</td>\n",
       "      <td>41</td>\n",
       "      <td>0</td>\n",
       "      <td>1</td>\n",
       "      <td>0.25</td>\n",
       "    </tr>\n",
       "    <tr>\n",
       "      <th>2</th>\n",
       "      <td>0</td>\n",
       "      <td>5</td>\n",
       "      <td>0</td>\n",
       "      <td>1</td>\n",
       "      <td>1</td>\n",
       "      <td>0</td>\n",
       "      <td>1</td>\n",
       "      <td>1</td>\n",
       "      <td>2</td>\n",
       "      <td>0</td>\n",
       "      <td>...</td>\n",
       "      <td>0</td>\n",
       "      <td>0</td>\n",
       "      <td>0</td>\n",
       "      <td>0</td>\n",
       "      <td>1</td>\n",
       "      <td>0</td>\n",
       "      <td>41</td>\n",
       "      <td>0</td>\n",
       "      <td>1</td>\n",
       "      <td>0.25</td>\n",
       "    </tr>\n",
       "    <tr>\n",
       "      <th>3</th>\n",
       "      <td>0</td>\n",
       "      <td>14</td>\n",
       "      <td>0</td>\n",
       "      <td>1</td>\n",
       "      <td>1</td>\n",
       "      <td>1</td>\n",
       "      <td>0</td>\n",
       "      <td>1</td>\n",
       "      <td>1</td>\n",
       "      <td>0</td>\n",
       "      <td>...</td>\n",
       "      <td>0</td>\n",
       "      <td>0</td>\n",
       "      <td>0</td>\n",
       "      <td>0</td>\n",
       "      <td>1</td>\n",
       "      <td>0</td>\n",
       "      <td>59</td>\n",
       "      <td>256</td>\n",
       "      <td>0</td>\n",
       "      <td>0.00</td>\n",
       "    </tr>\n",
       "    <tr>\n",
       "      <th>5</th>\n",
       "      <td>0</td>\n",
       "      <td>3</td>\n",
       "      <td>0</td>\n",
       "      <td>1</td>\n",
       "      <td>1</td>\n",
       "      <td>1</td>\n",
       "      <td>0</td>\n",
       "      <td>0</td>\n",
       "      <td>0</td>\n",
       "      <td>0</td>\n",
       "      <td>...</td>\n",
       "      <td>0</td>\n",
       "      <td>0</td>\n",
       "      <td>0</td>\n",
       "      <td>0</td>\n",
       "      <td>1</td>\n",
       "      <td>0</td>\n",
       "      <td>38</td>\n",
       "      <td>0</td>\n",
       "      <td>0</td>\n",
       "      <td>0.00</td>\n",
       "    </tr>\n",
       "  </tbody>\n",
       "</table>\n",
       "<p>5 rows × 126 columns</p>\n",
       "</div>"
      ],
      "text/plain": [
       "   hacdor  rooms  hacapo  v14a  refrig  v18q  r4h1  r4h2  r4h3  r4m1  ...  \\\n",
       "0       0      5       0     1       1     0     1     1     2     0  ...   \n",
       "1       0      5       0     1       1     0     1     1     2     0  ...   \n",
       "2       0      5       0     1       1     0     1     1     2     0  ...   \n",
       "3       0     14       0     1       1     1     0     1     1     0  ...   \n",
       "5       0      3       0     1       1     1     0     0     0     0  ...   \n",
       "\n",
       "   lugar3  lugar4  lugar5  lugar6  area1  area2  age  SQBedjefe  SQBhogar_nin  \\\n",
       "0       0       0       0       0      1      0    4          0             1   \n",
       "1       0       0       0       0      1      0   41          0             1   \n",
       "2       0       0       0       0      1      0   41          0             1   \n",
       "3       0       0       0       0      1      0   59        256             0   \n",
       "5       0       0       0       0      1      0   38          0             0   \n",
       "\n",
       "   SQBdependency  \n",
       "0           0.25  \n",
       "1           0.25  \n",
       "2           0.25  \n",
       "3           0.00  \n",
       "5           0.00  \n",
       "\n",
       "[5 rows x 126 columns]"
      ]
     },
     "execution_count": 670,
     "metadata": {},
     "output_type": "execute_result"
    }
   ],
   "source": [
    "costa_test.head()"
   ]
  },
  {
   "cell_type": "code",
   "execution_count": 671,
   "metadata": {},
   "outputs": [
    {
     "data": {
      "text/plain": [
       "23387"
      ]
     },
     "execution_count": 671,
     "metadata": {},
     "output_type": "execute_result"
    }
   ],
   "source": [
    "len(costa_test.dropna())"
   ]
  },
  {
   "cell_type": "markdown",
   "metadata": {},
   "source": [
    "### Applying model on entire TRAIN set"
   ]
  },
  {
   "cell_type": "markdown",
   "metadata": {},
   "source": [
    "#### Dropping Na's in Costa_test  and extracting list of IDs to predict"
   ]
  },
  {
   "cell_type": "code",
   "execution_count": 672,
   "metadata": {},
   "outputs": [
    {
     "data": {
      "text/plain": [
       "23387"
      ]
     },
     "execution_count": 672,
     "metadata": {},
     "output_type": "execute_result"
    }
   ],
   "source": [
    "X_test_with_ID = costa_test.dropna()\n",
    "len(X_test_with_ID)"
   ]
  },
  {
   "cell_type": "code",
   "execution_count": 673,
   "metadata": {},
   "outputs": [
    {
     "name": "stdout",
     "output_type": "stream",
     "text": [
      "23387\n"
     ]
    },
    {
     "data": {
      "text/html": [
       "<div>\n",
       "<style scoped>\n",
       "    .dataframe tbody tr th:only-of-type {\n",
       "        vertical-align: middle;\n",
       "    }\n",
       "\n",
       "    .dataframe tbody tr th {\n",
       "        vertical-align: top;\n",
       "    }\n",
       "\n",
       "    .dataframe thead th {\n",
       "        text-align: right;\n",
       "    }\n",
       "</style>\n",
       "<table border=\"1\" class=\"dataframe\">\n",
       "  <thead>\n",
       "    <tr style=\"text-align: right;\">\n",
       "      <th></th>\n",
       "      <th>idhogar</th>\n",
       "      <th>parentesco1</th>\n",
       "    </tr>\n",
       "  </thead>\n",
       "  <tbody>\n",
       "    <tr>\n",
       "      <th>0</th>\n",
       "      <td>72958b30c</td>\n",
       "      <td>0</td>\n",
       "    </tr>\n",
       "    <tr>\n",
       "      <th>1</th>\n",
       "      <td>72958b30c</td>\n",
       "      <td>0</td>\n",
       "    </tr>\n",
       "    <tr>\n",
       "      <th>2</th>\n",
       "      <td>72958b30c</td>\n",
       "      <td>1</td>\n",
       "    </tr>\n",
       "    <tr>\n",
       "      <th>3</th>\n",
       "      <td>5b598fbc9</td>\n",
       "      <td>1</td>\n",
       "    </tr>\n",
       "    <tr>\n",
       "      <th>5</th>\n",
       "      <td>8ee7365a8</td>\n",
       "      <td>0</td>\n",
       "    </tr>\n",
       "  </tbody>\n",
       "</table>\n",
       "</div>"
      ],
      "text/plain": [
       "     idhogar  parentesco1\n",
       "0  72958b30c            0\n",
       "1  72958b30c            0\n",
       "2  72958b30c            1\n",
       "3  5b598fbc9            1\n",
       "5  8ee7365a8            0"
      ]
     },
     "execution_count": 673,
     "metadata": {},
     "output_type": "execute_result"
    }
   ],
   "source": [
    "X_test_with_ID = costa_test.dropna()\n",
    "len(X_test_with_ID)\n",
    "\n",
    "list_ID_test = X_test_with_ID[['idhogar', 'parentesco1']]\n",
    "print(len(list_ID_test))\n",
    "list_ID_test.head()"
   ]
  },
  {
   "cell_type": "code",
   "execution_count": 674,
   "metadata": {},
   "outputs": [
    {
     "data": {
      "text/plain": [
       "7178"
      ]
     },
     "execution_count": 674,
     "metadata": {},
     "output_type": "execute_result"
    }
   ],
   "source": [
    "X_test_with_ID = costa_test.dropna()\n",
    "len(X_test_with_ID)\n",
    "\n",
    "list_ID_test = X_test_with_ID[['idhogar', 'parentesco1']]\n",
    "print(len(list_ID_test))\n",
    "list_ID_test.head()\n",
    "\n",
    "len(list_ID_test['idhogar'].unique())\n"
   ]
  },
  {
   "cell_type": "markdown",
   "metadata": {},
   "source": [
    "#### Dropping IDs of Costa_X_test"
   ]
  },
  {
   "cell_type": "code",
   "execution_count": 675,
   "metadata": {},
   "outputs": [
    {
     "data": {
      "text/plain": [
       "23387"
      ]
     },
     "execution_count": 675,
     "metadata": {},
     "output_type": "execute_result"
    }
   ],
   "source": [
    "X_test_with_ID = costa_test.dropna()\n",
    "len(X_test_with_ID)\n",
    "\n",
    "list_ID_test = X_test_with_ID[['idhogar', 'parentesco1']]\n",
    "print(len(list_ID_test))\n",
    "list_ID_test.head()\n",
    "\n",
    "len(list_ID_test['idhogar'].unique())\n",
    "\n",
    "\n",
    "Costa_X_test = X_test_with_ID[[col for col in X_test_with_ID if (col != 'idhogar')]]\n",
    "len(Costa_X_test)\n",
    "Costa_X_test.head()\n",
    "\n",
    "predictions = pd.DataFrame({'ID': list_ID_test['idhogar'], 'parentesco1' : list_ID_test['parentesco1'], 'Target' : y_pred})\n"
   ]
  },
  {
   "cell_type": "code",
   "execution_count": 676,
   "metadata": {},
   "outputs": [
    {
     "data": {
      "text/html": [
       "<div>\n",
       "<style scoped>\n",
       "    .dataframe tbody tr th:only-of-type {\n",
       "        vertical-align: middle;\n",
       "    }\n",
       "\n",
       "    .dataframe tbody tr th {\n",
       "        vertical-align: top;\n",
       "    }\n",
       "\n",
       "    .dataframe thead th {\n",
       "        text-align: right;\n",
       "    }\n",
       "</style>\n",
       "<table border=\"1\" class=\"dataframe\">\n",
       "  <thead>\n",
       "    <tr style=\"text-align: right;\">\n",
       "      <th></th>\n",
       "      <th>hacdor</th>\n",
       "      <th>rooms</th>\n",
       "      <th>hacapo</th>\n",
       "      <th>v14a</th>\n",
       "      <th>refrig</th>\n",
       "      <th>v18q</th>\n",
       "      <th>r4h1</th>\n",
       "      <th>r4h2</th>\n",
       "      <th>r4h3</th>\n",
       "      <th>r4m1</th>\n",
       "      <th>...</th>\n",
       "      <th>lugar3</th>\n",
       "      <th>lugar4</th>\n",
       "      <th>lugar5</th>\n",
       "      <th>lugar6</th>\n",
       "      <th>area1</th>\n",
       "      <th>area2</th>\n",
       "      <th>age</th>\n",
       "      <th>SQBedjefe</th>\n",
       "      <th>SQBhogar_nin</th>\n",
       "      <th>SQBdependency</th>\n",
       "    </tr>\n",
       "  </thead>\n",
       "  <tbody>\n",
       "    <tr>\n",
       "      <th>0</th>\n",
       "      <td>0</td>\n",
       "      <td>5</td>\n",
       "      <td>0</td>\n",
       "      <td>1</td>\n",
       "      <td>1</td>\n",
       "      <td>0</td>\n",
       "      <td>1</td>\n",
       "      <td>1</td>\n",
       "      <td>2</td>\n",
       "      <td>0</td>\n",
       "      <td>...</td>\n",
       "      <td>0</td>\n",
       "      <td>0</td>\n",
       "      <td>0</td>\n",
       "      <td>0</td>\n",
       "      <td>1</td>\n",
       "      <td>0</td>\n",
       "      <td>4</td>\n",
       "      <td>0</td>\n",
       "      <td>1</td>\n",
       "      <td>0.25</td>\n",
       "    </tr>\n",
       "    <tr>\n",
       "      <th>1</th>\n",
       "      <td>0</td>\n",
       "      <td>5</td>\n",
       "      <td>0</td>\n",
       "      <td>1</td>\n",
       "      <td>1</td>\n",
       "      <td>0</td>\n",
       "      <td>1</td>\n",
       "      <td>1</td>\n",
       "      <td>2</td>\n",
       "      <td>0</td>\n",
       "      <td>...</td>\n",
       "      <td>0</td>\n",
       "      <td>0</td>\n",
       "      <td>0</td>\n",
       "      <td>0</td>\n",
       "      <td>1</td>\n",
       "      <td>0</td>\n",
       "      <td>41</td>\n",
       "      <td>0</td>\n",
       "      <td>1</td>\n",
       "      <td>0.25</td>\n",
       "    </tr>\n",
       "    <tr>\n",
       "      <th>2</th>\n",
       "      <td>0</td>\n",
       "      <td>5</td>\n",
       "      <td>0</td>\n",
       "      <td>1</td>\n",
       "      <td>1</td>\n",
       "      <td>0</td>\n",
       "      <td>1</td>\n",
       "      <td>1</td>\n",
       "      <td>2</td>\n",
       "      <td>0</td>\n",
       "      <td>...</td>\n",
       "      <td>0</td>\n",
       "      <td>0</td>\n",
       "      <td>0</td>\n",
       "      <td>0</td>\n",
       "      <td>1</td>\n",
       "      <td>0</td>\n",
       "      <td>41</td>\n",
       "      <td>0</td>\n",
       "      <td>1</td>\n",
       "      <td>0.25</td>\n",
       "    </tr>\n",
       "    <tr>\n",
       "      <th>3</th>\n",
       "      <td>0</td>\n",
       "      <td>14</td>\n",
       "      <td>0</td>\n",
       "      <td>1</td>\n",
       "      <td>1</td>\n",
       "      <td>1</td>\n",
       "      <td>0</td>\n",
       "      <td>1</td>\n",
       "      <td>1</td>\n",
       "      <td>0</td>\n",
       "      <td>...</td>\n",
       "      <td>0</td>\n",
       "      <td>0</td>\n",
       "      <td>0</td>\n",
       "      <td>0</td>\n",
       "      <td>1</td>\n",
       "      <td>0</td>\n",
       "      <td>59</td>\n",
       "      <td>256</td>\n",
       "      <td>0</td>\n",
       "      <td>0.00</td>\n",
       "    </tr>\n",
       "    <tr>\n",
       "      <th>5</th>\n",
       "      <td>0</td>\n",
       "      <td>3</td>\n",
       "      <td>0</td>\n",
       "      <td>1</td>\n",
       "      <td>1</td>\n",
       "      <td>1</td>\n",
       "      <td>0</td>\n",
       "      <td>0</td>\n",
       "      <td>0</td>\n",
       "      <td>0</td>\n",
       "      <td>...</td>\n",
       "      <td>0</td>\n",
       "      <td>0</td>\n",
       "      <td>0</td>\n",
       "      <td>0</td>\n",
       "      <td>1</td>\n",
       "      <td>0</td>\n",
       "      <td>38</td>\n",
       "      <td>0</td>\n",
       "      <td>0</td>\n",
       "      <td>0.00</td>\n",
       "    </tr>\n",
       "  </tbody>\n",
       "</table>\n",
       "<p>5 rows × 125 columns</p>\n",
       "</div>"
      ],
      "text/plain": [
       "   hacdor  rooms  hacapo  v14a  refrig  v18q  r4h1  r4h2  r4h3  r4m1  ...  \\\n",
       "0       0      5       0     1       1     0     1     1     2     0  ...   \n",
       "1       0      5       0     1       1     0     1     1     2     0  ...   \n",
       "2       0      5       0     1       1     0     1     1     2     0  ...   \n",
       "3       0     14       0     1       1     1     0     1     1     0  ...   \n",
       "5       0      3       0     1       1     1     0     0     0     0  ...   \n",
       "\n",
       "   lugar3  lugar4  lugar5  lugar6  area1  area2  age  SQBedjefe  SQBhogar_nin  \\\n",
       "0       0       0       0       0      1      0    4          0             1   \n",
       "1       0       0       0       0      1      0   41          0             1   \n",
       "2       0       0       0       0      1      0   41          0             1   \n",
       "3       0       0       0       0      1      0   59        256             0   \n",
       "5       0       0       0       0      1      0   38          0             0   \n",
       "\n",
       "   SQBdependency  \n",
       "0           0.25  \n",
       "1           0.25  \n",
       "2           0.25  \n",
       "3           0.00  \n",
       "5           0.00  \n",
       "\n",
       "[5 rows x 125 columns]"
      ]
     },
     "execution_count": 676,
     "metadata": {},
     "output_type": "execute_result"
    }
   ],
   "source": []
  },
  {
   "cell_type": "markdown",
   "metadata": {},
   "source": [
    "#### Training model on the entire Training set"
   ]
  },
  {
   "cell_type": "code",
   "execution_count": 230,
   "metadata": {},
   "outputs": [
    {
     "data": {
      "text/plain": [
       "9360"
      ]
     },
     "execution_count": 230,
     "metadata": {},
     "output_type": "execute_result"
    }
   ],
   "source": [
    "X = costa_train[[col for col in costa_train if (col != 'Target') & (col != 'idhogar')]]\n",
    "len(X)"
   ]
  },
  {
   "cell_type": "code",
   "execution_count": 231,
   "metadata": {},
   "outputs": [
    {
     "data": {
      "text/plain": [
       "9360"
      ]
     },
     "execution_count": 231,
     "metadata": {},
     "output_type": "execute_result"
    }
   ],
   "source": [
    "Y = costa_train['Target']\n",
    "len(Y)"
   ]
  },
  {
   "cell_type": "code",
   "execution_count": 232,
   "metadata": {},
   "outputs": [
    {
     "data": {
      "text/plain": [
       "RandomForestClassifier(bootstrap=True, class_weight=None, criterion='gini',\n",
       "            max_depth=None, max_features='auto', max_leaf_nodes=None,\n",
       "            min_impurity_decrease=0.0, min_impurity_split=None,\n",
       "            min_samples_leaf=1, min_samples_split=2,\n",
       "            min_weight_fraction_leaf=0.0, n_estimators=10, n_jobs=None,\n",
       "            oob_score=False, random_state=None, verbose=0,\n",
       "            warm_start=False)"
      ]
     },
     "execution_count": 232,
     "metadata": {},
     "output_type": "execute_result"
    }
   ],
   "source": [
    "# Init RF model\n",
    "\n",
    "model_rf_cv = RandomForestClassifier()\n",
    "\n",
    "# 12 fold cross validation\n",
    "cv_score = cross_val_score(model_rf_cv, X, y, cv = 10)\n",
    "\n",
    "model_rf_cv.fit(X, y)\n",
    "\n"
   ]
  },
  {
   "cell_type": "markdown",
   "metadata": {},
   "source": [
    "#### predicting on Costa_X_Test"
   ]
  },
  {
   "cell_type": "code",
   "execution_count": 233,
   "metadata": {},
   "outputs": [
    {
     "name": "stdout",
     "output_type": "stream",
     "text": [
      "23387\n"
     ]
    }
   ],
   "source": [
    "y_pred = model_rf_cv.predict(Costa_X_test)\n",
    "print(len(y_pred))"
   ]
  },
  {
   "cell_type": "code",
   "execution_count": 234,
   "metadata": {},
   "outputs": [
    {
     "data": {
      "text/plain": [
       "array([4, 4, 4, 4, 4, 4, 4, 4, 4, 4, 4, 4, 4, 4, 4, 4, 4, 4, 4, 4, 4, 4,\n",
       "       4, 4, 4, 4, 4, 4, 4, 4, 4, 4, 4, 4, 4, 4, 4, 4, 4, 4, 4, 4, 4, 4,\n",
       "       4, 3, 3, 3, 3, 3])"
      ]
     },
     "execution_count": 234,
     "metadata": {},
     "output_type": "execute_result"
    }
   ],
   "source": [
    "y_pred[:50]"
   ]
  },
  {
   "cell_type": "markdown",
   "metadata": {},
   "source": [
    "#### Merging list of IDs and predictions"
   ]
  },
  {
   "cell_type": "code",
   "execution_count": 235,
   "metadata": {},
   "outputs": [],
   "source": [
    "predictions = pd.DataFrame({'ID': list_ID_test['idhogar'], 'parentesco1' : list_ID_test['parentesco1'], 'Target' : y_pred})\n",
    "\n"
   ]
  },
  {
   "cell_type": "code",
   "execution_count": 236,
   "metadata": {},
   "outputs": [
    {
     "data": {
      "text/html": [
       "<div>\n",
       "<style scoped>\n",
       "    .dataframe tbody tr th:only-of-type {\n",
       "        vertical-align: middle;\n",
       "    }\n",
       "\n",
       "    .dataframe tbody tr th {\n",
       "        vertical-align: top;\n",
       "    }\n",
       "\n",
       "    .dataframe thead th {\n",
       "        text-align: right;\n",
       "    }\n",
       "</style>\n",
       "<table border=\"1\" class=\"dataframe\">\n",
       "  <thead>\n",
       "    <tr style=\"text-align: right;\">\n",
       "      <th></th>\n",
       "      <th>ID</th>\n",
       "      <th>parentesco1</th>\n",
       "      <th>Target</th>\n",
       "    </tr>\n",
       "  </thead>\n",
       "  <tbody>\n",
       "    <tr>\n",
       "      <th>23836</th>\n",
       "      <td>e44cb9969</td>\n",
       "      <td>1</td>\n",
       "      <td>2</td>\n",
       "    </tr>\n",
       "    <tr>\n",
       "      <th>23837</th>\n",
       "      <td>935a65ffa</td>\n",
       "      <td>0</td>\n",
       "      <td>2</td>\n",
       "    </tr>\n",
       "    <tr>\n",
       "      <th>23838</th>\n",
       "      <td>935a65ffa</td>\n",
       "      <td>0</td>\n",
       "      <td>2</td>\n",
       "    </tr>\n",
       "    <tr>\n",
       "      <th>23839</th>\n",
       "      <td>935a65ffa</td>\n",
       "      <td>0</td>\n",
       "      <td>2</td>\n",
       "    </tr>\n",
       "    <tr>\n",
       "      <th>23840</th>\n",
       "      <td>935a65ffa</td>\n",
       "      <td>0</td>\n",
       "      <td>3</td>\n",
       "    </tr>\n",
       "    <tr>\n",
       "      <th>23841</th>\n",
       "      <td>935a65ffa</td>\n",
       "      <td>1</td>\n",
       "      <td>3</td>\n",
       "    </tr>\n",
       "    <tr>\n",
       "      <th>23842</th>\n",
       "      <td>935a65ffa</td>\n",
       "      <td>0</td>\n",
       "      <td>2</td>\n",
       "    </tr>\n",
       "    <tr>\n",
       "      <th>23843</th>\n",
       "      <td>2edb6f51e</td>\n",
       "      <td>1</td>\n",
       "      <td>1</td>\n",
       "    </tr>\n",
       "    <tr>\n",
       "      <th>23844</th>\n",
       "      <td>2edb6f51e</td>\n",
       "      <td>0</td>\n",
       "      <td>4</td>\n",
       "    </tr>\n",
       "    <tr>\n",
       "      <th>23845</th>\n",
       "      <td>2edb6f51e</td>\n",
       "      <td>0</td>\n",
       "      <td>4</td>\n",
       "    </tr>\n",
       "    <tr>\n",
       "      <th>23846</th>\n",
       "      <td>3aa78c56b</td>\n",
       "      <td>0</td>\n",
       "      <td>2</td>\n",
       "    </tr>\n",
       "    <tr>\n",
       "      <th>23847</th>\n",
       "      <td>3aa78c56b</td>\n",
       "      <td>1</td>\n",
       "      <td>2</td>\n",
       "    </tr>\n",
       "    <tr>\n",
       "      <th>23848</th>\n",
       "      <td>3aa78c56b</td>\n",
       "      <td>0</td>\n",
       "      <td>2</td>\n",
       "    </tr>\n",
       "    <tr>\n",
       "      <th>23849</th>\n",
       "      <td>3aa78c56b</td>\n",
       "      <td>0</td>\n",
       "      <td>2</td>\n",
       "    </tr>\n",
       "    <tr>\n",
       "      <th>23850</th>\n",
       "      <td>3aa78c56b</td>\n",
       "      <td>0</td>\n",
       "      <td>2</td>\n",
       "    </tr>\n",
       "    <tr>\n",
       "      <th>23851</th>\n",
       "      <td>3aa78c56b</td>\n",
       "      <td>0</td>\n",
       "      <td>2</td>\n",
       "    </tr>\n",
       "    <tr>\n",
       "      <th>23852</th>\n",
       "      <td>d237404b6</td>\n",
       "      <td>1</td>\n",
       "      <td>4</td>\n",
       "    </tr>\n",
       "    <tr>\n",
       "      <th>23853</th>\n",
       "      <td>d237404b6</td>\n",
       "      <td>0</td>\n",
       "      <td>4</td>\n",
       "    </tr>\n",
       "    <tr>\n",
       "      <th>23854</th>\n",
       "      <td>d237404b6</td>\n",
       "      <td>0</td>\n",
       "      <td>4</td>\n",
       "    </tr>\n",
       "    <tr>\n",
       "      <th>23855</th>\n",
       "      <td>d237404b6</td>\n",
       "      <td>0</td>\n",
       "      <td>4</td>\n",
       "    </tr>\n",
       "  </tbody>\n",
       "</table>\n",
       "</div>"
      ],
      "text/plain": [
       "              ID  parentesco1  Target\n",
       "23836  e44cb9969            1       2\n",
       "23837  935a65ffa            0       2\n",
       "23838  935a65ffa            0       2\n",
       "23839  935a65ffa            0       2\n",
       "23840  935a65ffa            0       3\n",
       "23841  935a65ffa            1       3\n",
       "23842  935a65ffa            0       2\n",
       "23843  2edb6f51e            1       1\n",
       "23844  2edb6f51e            0       4\n",
       "23845  2edb6f51e            0       4\n",
       "23846  3aa78c56b            0       2\n",
       "23847  3aa78c56b            1       2\n",
       "23848  3aa78c56b            0       2\n",
       "23849  3aa78c56b            0       2\n",
       "23850  3aa78c56b            0       2\n",
       "23851  3aa78c56b            0       2\n",
       "23852  d237404b6            1       4\n",
       "23853  d237404b6            0       4\n",
       "23854  d237404b6            0       4\n",
       "23855  d237404b6            0       4"
      ]
     },
     "execution_count": 236,
     "metadata": {},
     "output_type": "execute_result"
    }
   ],
   "source": [
    "predictions.tail(20)"
   ]
  },
  {
   "cell_type": "code",
   "execution_count": 237,
   "metadata": {},
   "outputs": [],
   "source": [
    "# several household members\n",
    "\n",
    "#len(predictions.ID.unique())\n"
   ]
  },
  {
   "cell_type": "code",
   "execution_count": 238,
   "metadata": {},
   "outputs": [
    {
     "data": {
      "text/plain": [
       "4    17280\n",
       "2     3171\n",
       "3     1603\n",
       "1     1333\n",
       "Name: Target, dtype: int64"
      ]
     },
     "execution_count": 238,
     "metadata": {},
     "output_type": "execute_result"
    },
    {
     "data": {
      "image/png": "[encoded data removed]",
      "text/plain": [
       "<Figure size 504x288 with 1 Axes>"
      ]
     },
     "metadata": {},
     "output_type": "display_data"
    }
   ],
   "source": [
    "# Plot the predicted labels\n",
    "\n",
    "rcParams['figure.figsize'] = 7, 4\n",
    "\n",
    "predictions['Target'].sort_index().plot.hist()\n",
    "predictions['Target'].value_counts()"
   ]
  },
  {
   "cell_type": "markdown",
   "metadata": {},
   "source": [
    "## Predictions must be made by household\n",
    "If several targets are predicted for one hosuehold, target of household is head household's"
   ]
  },
  {
   "cell_type": "code",
   "execution_count": 239,
   "metadata": {},
   "outputs": [
    {
     "data": {
      "text/plain": [
       "7178"
      ]
     },
     "execution_count": 239,
     "metadata": {},
     "output_type": "execute_result"
    }
   ],
   "source": [
    "len(predictions.ID.unique())\n"
   ]
  },
  {
   "cell_type": "code",
   "execution_count": 240,
   "metadata": {},
   "outputs": [
    {
     "data": {
      "text/plain": [
       "7160"
      ]
     },
     "execution_count": 240,
     "metadata": {},
     "output_type": "execute_result"
    }
   ],
   "source": [
    "len(predictions.ID.unique())\n",
    "\n",
    "result = predictions[['ID', 'Target']][predictions['parentesco1'] == 1]\n",
    "len(result)"
   ]
  },
  {
   "cell_type": "code",
   "execution_count": null,
   "metadata": {},
   "outputs": [],
   "source": []
  },
  {
   "cell_type": "markdown",
   "metadata": {},
   "source": [
    "### Some households are missing in the prediction"
   ]
  },
  {
   "cell_type": "code",
   "execution_count": 241,
   "metadata": {},
   "outputs": [],
   "source": [
    "groupby = predictions['Target'].groupby([predictions['ID']]).unique()\n",
    "#groupby.index"
   ]
  },
  {
   "cell_type": "code",
   "execution_count": 242,
   "metadata": {},
   "outputs": [
    {
     "data": {
      "text/plain": [
       "7178"
      ]
     },
     "execution_count": 242,
     "metadata": {},
     "output_type": "execute_result"
    }
   ],
   "source": [
    "len(groupby.index)"
   ]
  },
  {
   "cell_type": "code",
   "execution_count": 243,
   "metadata": {},
   "outputs": [
    {
     "data": {
      "text/plain": [
       "ID\n",
       "000a08204       [4]\n",
       "000bce7c4       [4]\n",
       "001845fb0       [4]\n",
       "003514e22       [4]\n",
       "003b51a87    [4, 1]\n",
       "003bf2fa9       [2]\n",
       "004417a6c       [4]\n",
       "0044a5929       [4]\n",
       "00498cd58       [3]\n",
       "004ea2211       [4]\n",
       "005411ee8    [4, 3]\n",
       "00564e3ca       [4]\n",
       "0065a3821       [2]\n",
       "008222963       [4]\n",
       "0082c4eb2       [4]\n",
       "Name: Target, dtype: object"
      ]
     },
     "execution_count": 243,
     "metadata": {},
     "output_type": "execute_result"
    }
   ],
   "source": [
    "groupby.head(15)"
   ]
  },
  {
   "cell_type": "markdown",
   "metadata": {},
   "source": [
    "### 18 Households with no head"
   ]
  },
  {
   "cell_type": "code",
   "execution_count": 244,
   "metadata": {},
   "outputs": [
    {
     "data": {
      "text/plain": [
       "['b59f5b526',\n",
       " '9d874b0d6',\n",
       " '198fc274a',\n",
       " 'ce6154327',\n",
       " 'e3f69768c',\n",
       " 'df06e01c6',\n",
       " 'df06e01c6',\n",
       " 'f6d6fad32',\n",
       " '5a667591a',\n",
       " '2dc45d484',\n",
       " 'fc6c8d241',\n",
       " 'fc6c8d241',\n",
       " 'e4df1caaf',\n",
       " 'e4df1caaf',\n",
       " 'f2fd28dbb',\n",
       " 'f2fd28dbb',\n",
       " 'f2fd28dbb',\n",
       " 'f2fd28dbb',\n",
       " 'd678c45ad',\n",
       " '0e2a3453d',\n",
       " '0e2a3453d',\n",
       " 'b115b4536',\n",
       " '91aff0a8e',\n",
       " '91aff0a8e',\n",
       " '676750a21',\n",
       " 'd14b3e03a']"
      ]
     },
     "execution_count": 244,
     "metadata": {},
     "output_type": "execute_result"
    }
   ],
   "source": [
    "[household for household in predictions['ID'].tolist() if household not in result['ID'].tolist()]\n"
   ]
  },
  {
   "cell_type": "code",
   "execution_count": 245,
   "metadata": {},
   "outputs": [
    {
     "data": {
      "text/html": [
       "<div>\n",
       "<style scoped>\n",
       "    .dataframe tbody tr th:only-of-type {\n",
       "        vertical-align: middle;\n",
       "    }\n",
       "\n",
       "    .dataframe tbody tr th {\n",
       "        vertical-align: top;\n",
       "    }\n",
       "\n",
       "    .dataframe thead th {\n",
       "        text-align: right;\n",
       "    }\n",
       "</style>\n",
       "<table border=\"1\" class=\"dataframe\">\n",
       "  <thead>\n",
       "    <tr style=\"text-align: right;\">\n",
       "      <th></th>\n",
       "      <th>ID</th>\n",
       "      <th>parentesco1</th>\n",
       "      <th>Target</th>\n",
       "    </tr>\n",
       "  </thead>\n",
       "  <tbody>\n",
       "    <tr>\n",
       "      <th>21654</th>\n",
       "      <td>f2fd28dbb</td>\n",
       "      <td>0</td>\n",
       "      <td>3</td>\n",
       "    </tr>\n",
       "    <tr>\n",
       "      <th>21655</th>\n",
       "      <td>f2fd28dbb</td>\n",
       "      <td>0</td>\n",
       "      <td>3</td>\n",
       "    </tr>\n",
       "    <tr>\n",
       "      <th>21656</th>\n",
       "      <td>f2fd28dbb</td>\n",
       "      <td>0</td>\n",
       "      <td>3</td>\n",
       "    </tr>\n",
       "    <tr>\n",
       "      <th>21657</th>\n",
       "      <td>f2fd28dbb</td>\n",
       "      <td>0</td>\n",
       "      <td>3</td>\n",
       "    </tr>\n",
       "  </tbody>\n",
       "</table>\n",
       "</div>"
      ],
      "text/plain": [
       "              ID  parentesco1  Target\n",
       "21654  f2fd28dbb            0       3\n",
       "21655  f2fd28dbb            0       3\n",
       "21656  f2fd28dbb            0       3\n",
       "21657  f2fd28dbb            0       3"
      ]
     },
     "execution_count": 245,
     "metadata": {},
     "output_type": "execute_result"
    }
   ],
   "source": [
    "# example:\n",
    "\n",
    "predictions[predictions['ID']=='f2fd28dbb']"
   ]
  },
  {
   "cell_type": "markdown",
   "metadata": {},
   "source": [
    "### 18 households with no head and 18 Targets"
   ]
  },
  {
   "cell_type": "code",
   "execution_count": 246,
   "metadata": {},
   "outputs": [
    {
     "data": {
      "text/html": [
       "<div>\n",
       "<style scoped>\n",
       "    .dataframe tbody tr th:only-of-type {\n",
       "        vertical-align: middle;\n",
       "    }\n",
       "\n",
       "    .dataframe tbody tr th {\n",
       "        vertical-align: top;\n",
       "    }\n",
       "\n",
       "    .dataframe thead th {\n",
       "        text-align: right;\n",
       "    }\n",
       "</style>\n",
       "<table border=\"1\" class=\"dataframe\">\n",
       "  <thead>\n",
       "    <tr style=\"text-align: right;\">\n",
       "      <th></th>\n",
       "      <th>ID</th>\n",
       "      <th>parentesco1</th>\n",
       "      <th>Target</th>\n",
       "    </tr>\n",
       "  </thead>\n",
       "  <tbody>\n",
       "    <tr>\n",
       "      <th>12753</th>\n",
       "      <td>b59f5b526</td>\n",
       "      <td>0</td>\n",
       "      <td>4</td>\n",
       "    </tr>\n",
       "    <tr>\n",
       "      <th>15090</th>\n",
       "      <td>9d874b0d6</td>\n",
       "      <td>0</td>\n",
       "      <td>4</td>\n",
       "    </tr>\n",
       "    <tr>\n",
       "      <th>15544</th>\n",
       "      <td>198fc274a</td>\n",
       "      <td>0</td>\n",
       "      <td>2</td>\n",
       "    </tr>\n",
       "    <tr>\n",
       "      <th>17053</th>\n",
       "      <td>ce6154327</td>\n",
       "      <td>0</td>\n",
       "      <td>4</td>\n",
       "    </tr>\n",
       "    <tr>\n",
       "      <th>17132</th>\n",
       "      <td>e3f69768c</td>\n",
       "      <td>0</td>\n",
       "      <td>4</td>\n",
       "    </tr>\n",
       "    <tr>\n",
       "      <th>17162</th>\n",
       "      <td>df06e01c6</td>\n",
       "      <td>0</td>\n",
       "      <td>4</td>\n",
       "    </tr>\n",
       "    <tr>\n",
       "      <th>17163</th>\n",
       "      <td>df06e01c6</td>\n",
       "      <td>0</td>\n",
       "      <td>4</td>\n",
       "    </tr>\n",
       "    <tr>\n",
       "      <th>18549</th>\n",
       "      <td>f6d6fad32</td>\n",
       "      <td>0</td>\n",
       "      <td>2</td>\n",
       "    </tr>\n",
       "    <tr>\n",
       "      <th>18643</th>\n",
       "      <td>5a667591a</td>\n",
       "      <td>0</td>\n",
       "      <td>4</td>\n",
       "    </tr>\n",
       "    <tr>\n",
       "      <th>18735</th>\n",
       "      <td>2dc45d484</td>\n",
       "      <td>0</td>\n",
       "      <td>4</td>\n",
       "    </tr>\n",
       "    <tr>\n",
       "      <th>19299</th>\n",
       "      <td>fc6c8d241</td>\n",
       "      <td>0</td>\n",
       "      <td>4</td>\n",
       "    </tr>\n",
       "    <tr>\n",
       "      <th>19300</th>\n",
       "      <td>fc6c8d241</td>\n",
       "      <td>0</td>\n",
       "      <td>2</td>\n",
       "    </tr>\n",
       "    <tr>\n",
       "      <th>19317</th>\n",
       "      <td>e4df1caaf</td>\n",
       "      <td>0</td>\n",
       "      <td>2</td>\n",
       "    </tr>\n",
       "    <tr>\n",
       "      <th>19318</th>\n",
       "      <td>e4df1caaf</td>\n",
       "      <td>0</td>\n",
       "      <td>2</td>\n",
       "    </tr>\n",
       "    <tr>\n",
       "      <th>21654</th>\n",
       "      <td>f2fd28dbb</td>\n",
       "      <td>0</td>\n",
       "      <td>3</td>\n",
       "    </tr>\n",
       "    <tr>\n",
       "      <th>21655</th>\n",
       "      <td>f2fd28dbb</td>\n",
       "      <td>0</td>\n",
       "      <td>3</td>\n",
       "    </tr>\n",
       "    <tr>\n",
       "      <th>21656</th>\n",
       "      <td>f2fd28dbb</td>\n",
       "      <td>0</td>\n",
       "      <td>3</td>\n",
       "    </tr>\n",
       "    <tr>\n",
       "      <th>21657</th>\n",
       "      <td>f2fd28dbb</td>\n",
       "      <td>0</td>\n",
       "      <td>3</td>\n",
       "    </tr>\n",
       "    <tr>\n",
       "      <th>22006</th>\n",
       "      <td>d678c45ad</td>\n",
       "      <td>0</td>\n",
       "      <td>1</td>\n",
       "    </tr>\n",
       "    <tr>\n",
       "      <th>22790</th>\n",
       "      <td>0e2a3453d</td>\n",
       "      <td>0</td>\n",
       "      <td>4</td>\n",
       "    </tr>\n",
       "    <tr>\n",
       "      <th>22791</th>\n",
       "      <td>0e2a3453d</td>\n",
       "      <td>0</td>\n",
       "      <td>4</td>\n",
       "    </tr>\n",
       "    <tr>\n",
       "      <th>22833</th>\n",
       "      <td>b115b4536</td>\n",
       "      <td>0</td>\n",
       "      <td>2</td>\n",
       "    </tr>\n",
       "    <tr>\n",
       "      <th>23252</th>\n",
       "      <td>91aff0a8e</td>\n",
       "      <td>0</td>\n",
       "      <td>2</td>\n",
       "    </tr>\n",
       "    <tr>\n",
       "      <th>23253</th>\n",
       "      <td>91aff0a8e</td>\n",
       "      <td>0</td>\n",
       "      <td>2</td>\n",
       "    </tr>\n",
       "    <tr>\n",
       "      <th>23547</th>\n",
       "      <td>676750a21</td>\n",
       "      <td>0</td>\n",
       "      <td>2</td>\n",
       "    </tr>\n",
       "    <tr>\n",
       "      <th>23711</th>\n",
       "      <td>d14b3e03a</td>\n",
       "      <td>0</td>\n",
       "      <td>2</td>\n",
       "    </tr>\n",
       "  </tbody>\n",
       "</table>\n",
       "</div>"
      ],
      "text/plain": [
       "              ID  parentesco1  Target\n",
       "12753  b59f5b526            0       4\n",
       "15090  9d874b0d6            0       4\n",
       "15544  198fc274a            0       2\n",
       "17053  ce6154327            0       4\n",
       "17132  e3f69768c            0       4\n",
       "17162  df06e01c6            0       4\n",
       "17163  df06e01c6            0       4\n",
       "18549  f6d6fad32            0       2\n",
       "18643  5a667591a            0       4\n",
       "18735  2dc45d484            0       4\n",
       "19299  fc6c8d241            0       4\n",
       "19300  fc6c8d241            0       2\n",
       "19317  e4df1caaf            0       2\n",
       "19318  e4df1caaf            0       2\n",
       "21654  f2fd28dbb            0       3\n",
       "21655  f2fd28dbb            0       3\n",
       "21656  f2fd28dbb            0       3\n",
       "21657  f2fd28dbb            0       3\n",
       "22006  d678c45ad            0       1\n",
       "22790  0e2a3453d            0       4\n",
       "22791  0e2a3453d            0       4\n",
       "22833  b115b4536            0       2\n",
       "23252  91aff0a8e            0       2\n",
       "23253  91aff0a8e            0       2\n",
       "23547  676750a21            0       2\n",
       "23711  d14b3e03a            0       2"
      ]
     },
     "execution_count": 246,
     "metadata": {},
     "output_type": "execute_result"
    }
   ],
   "source": [
    "house_nohead = predictions.loc[predictions['ID'].isin([household for household in predictions['ID'].tolist() if household not in result['ID'].tolist()])]\n",
    "house_nohead\n"
   ]
  },
  {
   "cell_type": "code",
   "execution_count": 247,
   "metadata": {},
   "outputs": [
    {
     "data": {
      "text/plain": [
       "18"
      ]
     },
     "execution_count": 247,
     "metadata": {},
     "output_type": "execute_result"
    }
   ],
   "source": [
    "len(house_nohead['ID'].unique())"
   ]
  },
  {
   "cell_type": "code",
   "execution_count": 248,
   "metadata": {},
   "outputs": [
    {
     "data": {
      "text/html": [
       "<div>\n",
       "<style scoped>\n",
       "    .dataframe tbody tr th:only-of-type {\n",
       "        vertical-align: middle;\n",
       "    }\n",
       "\n",
       "    .dataframe tbody tr th {\n",
       "        vertical-align: top;\n",
       "    }\n",
       "\n",
       "    .dataframe thead th {\n",
       "        text-align: right;\n",
       "    }\n",
       "</style>\n",
       "<table border=\"1\" class=\"dataframe\">\n",
       "  <thead>\n",
       "    <tr style=\"text-align: right;\">\n",
       "      <th></th>\n",
       "      <th>ID</th>\n",
       "      <th>parentesco1</th>\n",
       "      <th>Target</th>\n",
       "    </tr>\n",
       "  </thead>\n",
       "  <tbody>\n",
       "    <tr>\n",
       "      <th>12753</th>\n",
       "      <td>b59f5b526</td>\n",
       "      <td>0</td>\n",
       "      <td>4</td>\n",
       "    </tr>\n",
       "    <tr>\n",
       "      <th>15090</th>\n",
       "      <td>9d874b0d6</td>\n",
       "      <td>0</td>\n",
       "      <td>4</td>\n",
       "    </tr>\n",
       "    <tr>\n",
       "      <th>15544</th>\n",
       "      <td>198fc274a</td>\n",
       "      <td>0</td>\n",
       "      <td>2</td>\n",
       "    </tr>\n",
       "    <tr>\n",
       "      <th>17053</th>\n",
       "      <td>ce6154327</td>\n",
       "      <td>0</td>\n",
       "      <td>4</td>\n",
       "    </tr>\n",
       "    <tr>\n",
       "      <th>17132</th>\n",
       "      <td>e3f69768c</td>\n",
       "      <td>0</td>\n",
       "      <td>4</td>\n",
       "    </tr>\n",
       "    <tr>\n",
       "      <th>17162</th>\n",
       "      <td>df06e01c6</td>\n",
       "      <td>0</td>\n",
       "      <td>4</td>\n",
       "    </tr>\n",
       "    <tr>\n",
       "      <th>18549</th>\n",
       "      <td>f6d6fad32</td>\n",
       "      <td>0</td>\n",
       "      <td>2</td>\n",
       "    </tr>\n",
       "    <tr>\n",
       "      <th>18643</th>\n",
       "      <td>5a667591a</td>\n",
       "      <td>0</td>\n",
       "      <td>4</td>\n",
       "    </tr>\n",
       "    <tr>\n",
       "      <th>18735</th>\n",
       "      <td>2dc45d484</td>\n",
       "      <td>0</td>\n",
       "      <td>4</td>\n",
       "    </tr>\n",
       "    <tr>\n",
       "      <th>19299</th>\n",
       "      <td>fc6c8d241</td>\n",
       "      <td>0</td>\n",
       "      <td>4</td>\n",
       "    </tr>\n",
       "    <tr>\n",
       "      <th>19300</th>\n",
       "      <td>fc6c8d241</td>\n",
       "      <td>0</td>\n",
       "      <td>2</td>\n",
       "    </tr>\n",
       "    <tr>\n",
       "      <th>19317</th>\n",
       "      <td>e4df1caaf</td>\n",
       "      <td>0</td>\n",
       "      <td>2</td>\n",
       "    </tr>\n",
       "    <tr>\n",
       "      <th>21654</th>\n",
       "      <td>f2fd28dbb</td>\n",
       "      <td>0</td>\n",
       "      <td>3</td>\n",
       "    </tr>\n",
       "    <tr>\n",
       "      <th>22006</th>\n",
       "      <td>d678c45ad</td>\n",
       "      <td>0</td>\n",
       "      <td>1</td>\n",
       "    </tr>\n",
       "    <tr>\n",
       "      <th>22790</th>\n",
       "      <td>0e2a3453d</td>\n",
       "      <td>0</td>\n",
       "      <td>4</td>\n",
       "    </tr>\n",
       "    <tr>\n",
       "      <th>22833</th>\n",
       "      <td>b115b4536</td>\n",
       "      <td>0</td>\n",
       "      <td>2</td>\n",
       "    </tr>\n",
       "    <tr>\n",
       "      <th>23252</th>\n",
       "      <td>91aff0a8e</td>\n",
       "      <td>0</td>\n",
       "      <td>2</td>\n",
       "    </tr>\n",
       "    <tr>\n",
       "      <th>23547</th>\n",
       "      <td>676750a21</td>\n",
       "      <td>0</td>\n",
       "      <td>2</td>\n",
       "    </tr>\n",
       "    <tr>\n",
       "      <th>23711</th>\n",
       "      <td>d14b3e03a</td>\n",
       "      <td>0</td>\n",
       "      <td>2</td>\n",
       "    </tr>\n",
       "  </tbody>\n",
       "</table>\n",
       "</div>"
      ],
      "text/plain": [
       "              ID  parentesco1  Target\n",
       "12753  b59f5b526            0       4\n",
       "15090  9d874b0d6            0       4\n",
       "15544  198fc274a            0       2\n",
       "17053  ce6154327            0       4\n",
       "17132  e3f69768c            0       4\n",
       "17162  df06e01c6            0       4\n",
       "18549  f6d6fad32            0       2\n",
       "18643  5a667591a            0       4\n",
       "18735  2dc45d484            0       4\n",
       "19299  fc6c8d241            0       4\n",
       "19300  fc6c8d241            0       2\n",
       "19317  e4df1caaf            0       2\n",
       "21654  f2fd28dbb            0       3\n",
       "22006  d678c45ad            0       1\n",
       "22790  0e2a3453d            0       4\n",
       "22833  b115b4536            0       2\n",
       "23252  91aff0a8e            0       2\n",
       "23547  676750a21            0       2\n",
       "23711  d14b3e03a            0       2"
      ]
     },
     "execution_count": 248,
     "metadata": {},
     "output_type": "execute_result"
    }
   ],
   "source": [
    "house_nohead = house_nohead.drop_duplicates()\n",
    "house_nohead"
   ]
  },
  {
   "cell_type": "markdown",
   "metadata": {},
   "source": [
    "### Dropping household with members with different Targets/keeping one row"
   ]
  },
  {
   "cell_type": "code",
   "execution_count": 249,
   "metadata": {},
   "outputs": [
    {
     "data": {
      "text/html": [
       "<div>\n",
       "<style scoped>\n",
       "    .dataframe tbody tr th:only-of-type {\n",
       "        vertical-align: middle;\n",
       "    }\n",
       "\n",
       "    .dataframe tbody tr th {\n",
       "        vertical-align: top;\n",
       "    }\n",
       "\n",
       "    .dataframe thead th {\n",
       "        text-align: right;\n",
       "    }\n",
       "</style>\n",
       "<table border=\"1\" class=\"dataframe\">\n",
       "  <thead>\n",
       "    <tr style=\"text-align: right;\">\n",
       "      <th></th>\n",
       "      <th>ID</th>\n",
       "      <th>parentesco1</th>\n",
       "      <th>Target</th>\n",
       "    </tr>\n",
       "  </thead>\n",
       "  <tbody>\n",
       "    <tr>\n",
       "      <th>19299</th>\n",
       "      <td>fc6c8d241</td>\n",
       "      <td>0</td>\n",
       "      <td>4</td>\n",
       "    </tr>\n",
       "    <tr>\n",
       "      <th>19300</th>\n",
       "      <td>fc6c8d241</td>\n",
       "      <td>0</td>\n",
       "      <td>2</td>\n",
       "    </tr>\n",
       "  </tbody>\n",
       "</table>\n",
       "</div>"
      ],
      "text/plain": [
       "              ID  parentesco1  Target\n",
       "19299  fc6c8d241            0       4\n",
       "19300  fc6c8d241            0       2"
      ]
     },
     "execution_count": 249,
     "metadata": {},
     "output_type": "execute_result"
    }
   ],
   "source": [
    "house_nohead.groupby('ID').filter(lambda x: len(x) > 1)"
   ]
  },
  {
   "cell_type": "code",
   "execution_count": 250,
   "metadata": {},
   "outputs": [
    {
     "data": {
      "text/html": [
       "<div>\n",
       "<style scoped>\n",
       "    .dataframe tbody tr th:only-of-type {\n",
       "        vertical-align: middle;\n",
       "    }\n",
       "\n",
       "    .dataframe tbody tr th {\n",
       "        vertical-align: top;\n",
       "    }\n",
       "\n",
       "    .dataframe thead th {\n",
       "        text-align: right;\n",
       "    }\n",
       "</style>\n",
       "<table border=\"1\" class=\"dataframe\">\n",
       "  <thead>\n",
       "    <tr style=\"text-align: right;\">\n",
       "      <th></th>\n",
       "      <th>ID</th>\n",
       "      <th>parentesco1</th>\n",
       "      <th>Target</th>\n",
       "    </tr>\n",
       "  </thead>\n",
       "  <tbody>\n",
       "    <tr>\n",
       "      <th>19299</th>\n",
       "      <td>fc6c8d241</td>\n",
       "      <td>0</td>\n",
       "      <td>4</td>\n",
       "    </tr>\n",
       "  </tbody>\n",
       "</table>\n",
       "</div>"
      ],
      "text/plain": [
       "              ID  parentesco1  Target\n",
       "19299  fc6c8d241            0       4"
      ]
     },
     "execution_count": 250,
     "metadata": {},
     "output_type": "execute_result"
    }
   ],
   "source": [
    "### keeping this one\n",
    "\n",
    "house_nohead.groupby('ID').filter(lambda x: len(x) > 1)[:1]"
   ]
  },
  {
   "cell_type": "code",
   "execution_count": 251,
   "metadata": {},
   "outputs": [
    {
     "data": {
      "text/html": [
       "<div>\n",
       "<style scoped>\n",
       "    .dataframe tbody tr th:only-of-type {\n",
       "        vertical-align: middle;\n",
       "    }\n",
       "\n",
       "    .dataframe tbody tr th {\n",
       "        vertical-align: top;\n",
       "    }\n",
       "\n",
       "    .dataframe thead th {\n",
       "        text-align: right;\n",
       "    }\n",
       "</style>\n",
       "<table border=\"1\" class=\"dataframe\">\n",
       "  <thead>\n",
       "    <tr style=\"text-align: right;\">\n",
       "      <th></th>\n",
       "      <th>ID</th>\n",
       "      <th>parentesco1</th>\n",
       "      <th>Target</th>\n",
       "    </tr>\n",
       "  </thead>\n",
       "  <tbody>\n",
       "    <tr>\n",
       "      <th>12753</th>\n",
       "      <td>b59f5b526</td>\n",
       "      <td>0</td>\n",
       "      <td>4</td>\n",
       "    </tr>\n",
       "    <tr>\n",
       "      <th>15090</th>\n",
       "      <td>9d874b0d6</td>\n",
       "      <td>0</td>\n",
       "      <td>4</td>\n",
       "    </tr>\n",
       "    <tr>\n",
       "      <th>15544</th>\n",
       "      <td>198fc274a</td>\n",
       "      <td>0</td>\n",
       "      <td>2</td>\n",
       "    </tr>\n",
       "    <tr>\n",
       "      <th>17053</th>\n",
       "      <td>ce6154327</td>\n",
       "      <td>0</td>\n",
       "      <td>4</td>\n",
       "    </tr>\n",
       "    <tr>\n",
       "      <th>17132</th>\n",
       "      <td>e3f69768c</td>\n",
       "      <td>0</td>\n",
       "      <td>4</td>\n",
       "    </tr>\n",
       "    <tr>\n",
       "      <th>17162</th>\n",
       "      <td>df06e01c6</td>\n",
       "      <td>0</td>\n",
       "      <td>4</td>\n",
       "    </tr>\n",
       "    <tr>\n",
       "      <th>18549</th>\n",
       "      <td>f6d6fad32</td>\n",
       "      <td>0</td>\n",
       "      <td>2</td>\n",
       "    </tr>\n",
       "    <tr>\n",
       "      <th>18643</th>\n",
       "      <td>5a667591a</td>\n",
       "      <td>0</td>\n",
       "      <td>4</td>\n",
       "    </tr>\n",
       "    <tr>\n",
       "      <th>18735</th>\n",
       "      <td>2dc45d484</td>\n",
       "      <td>0</td>\n",
       "      <td>4</td>\n",
       "    </tr>\n",
       "    <tr>\n",
       "      <th>19317</th>\n",
       "      <td>e4df1caaf</td>\n",
       "      <td>0</td>\n",
       "      <td>2</td>\n",
       "    </tr>\n",
       "    <tr>\n",
       "      <th>21654</th>\n",
       "      <td>f2fd28dbb</td>\n",
       "      <td>0</td>\n",
       "      <td>3</td>\n",
       "    </tr>\n",
       "    <tr>\n",
       "      <th>22006</th>\n",
       "      <td>d678c45ad</td>\n",
       "      <td>0</td>\n",
       "      <td>1</td>\n",
       "    </tr>\n",
       "    <tr>\n",
       "      <th>22790</th>\n",
       "      <td>0e2a3453d</td>\n",
       "      <td>0</td>\n",
       "      <td>4</td>\n",
       "    </tr>\n",
       "    <tr>\n",
       "      <th>22833</th>\n",
       "      <td>b115b4536</td>\n",
       "      <td>0</td>\n",
       "      <td>2</td>\n",
       "    </tr>\n",
       "    <tr>\n",
       "      <th>23252</th>\n",
       "      <td>91aff0a8e</td>\n",
       "      <td>0</td>\n",
       "      <td>2</td>\n",
       "    </tr>\n",
       "    <tr>\n",
       "      <th>23547</th>\n",
       "      <td>676750a21</td>\n",
       "      <td>0</td>\n",
       "      <td>2</td>\n",
       "    </tr>\n",
       "    <tr>\n",
       "      <th>23711</th>\n",
       "      <td>d14b3e03a</td>\n",
       "      <td>0</td>\n",
       "      <td>2</td>\n",
       "    </tr>\n",
       "    <tr>\n",
       "      <th>19299</th>\n",
       "      <td>fc6c8d241</td>\n",
       "      <td>0</td>\n",
       "      <td>4</td>\n",
       "    </tr>\n",
       "  </tbody>\n",
       "</table>\n",
       "</div>"
      ],
      "text/plain": [
       "              ID  parentesco1  Target\n",
       "12753  b59f5b526            0       4\n",
       "15090  9d874b0d6            0       4\n",
       "15544  198fc274a            0       2\n",
       "17053  ce6154327            0       4\n",
       "17132  e3f69768c            0       4\n",
       "17162  df06e01c6            0       4\n",
       "18549  f6d6fad32            0       2\n",
       "18643  5a667591a            0       4\n",
       "18735  2dc45d484            0       4\n",
       "19317  e4df1caaf            0       2\n",
       "21654  f2fd28dbb            0       3\n",
       "22006  d678c45ad            0       1\n",
       "22790  0e2a3453d            0       4\n",
       "22833  b115b4536            0       2\n",
       "23252  91aff0a8e            0       2\n",
       "23547  676750a21            0       2\n",
       "23711  d14b3e03a            0       2\n",
       "19299  fc6c8d241            0       4"
      ]
     },
     "execution_count": 251,
     "metadata": {},
     "output_type": "execute_result"
    }
   ],
   "source": [
    "tokeep = pd.concat((house_nohead.groupby('ID').filter(lambda x: len(x) == 1), house_nohead.groupby('ID').filter(lambda x: len(x) > 1)[:1]))\n",
    "tokeep"
   ]
  },
  {
   "cell_type": "code",
   "execution_count": 252,
   "metadata": {},
   "outputs": [
    {
     "data": {
      "text/plain": [
       "18"
      ]
     },
     "execution_count": 252,
     "metadata": {},
     "output_type": "execute_result"
    }
   ],
   "source": [
    "len(tokeep)"
   ]
  },
  {
   "cell_type": "markdown",
   "metadata": {},
   "source": [
    "## Final result"
   ]
  },
  {
   "cell_type": "code",
   "execution_count": 253,
   "metadata": {},
   "outputs": [
    {
     "data": {
      "text/plain": [
       "7178"
      ]
     },
     "execution_count": 253,
     "metadata": {},
     "output_type": "execute_result"
    }
   ],
   "source": [
    "final = result.append(tokeep.drop(columns=['parentesco1']))\n",
    "len(final)"
   ]
  },
  {
   "cell_type": "code",
   "execution_count": 264,
   "metadata": {},
   "outputs": [
    {
     "data": {
      "text/html": [
       "<div>\n",
       "<style scoped>\n",
       "    .dataframe tbody tr th:only-of-type {\n",
       "        vertical-align: middle;\n",
       "    }\n",
       "\n",
       "    .dataframe tbody tr th {\n",
       "        vertical-align: top;\n",
       "    }\n",
       "\n",
       "    .dataframe thead th {\n",
       "        text-align: right;\n",
       "    }\n",
       "</style>\n",
       "<table border=\"1\" class=\"dataframe\">\n",
       "  <thead>\n",
       "    <tr style=\"text-align: right;\">\n",
       "      <th></th>\n",
       "      <th>ID</th>\n",
       "      <th>Target</th>\n",
       "    </tr>\n",
       "  </thead>\n",
       "  <tbody>\n",
       "    <tr>\n",
       "      <th>2</th>\n",
       "      <td>72958b30c</td>\n",
       "      <td>4</td>\n",
       "    </tr>\n",
       "    <tr>\n",
       "      <th>3</th>\n",
       "      <td>5b598fbc9</td>\n",
       "      <td>4</td>\n",
       "    </tr>\n",
       "    <tr>\n",
       "      <th>6</th>\n",
       "      <td>8ee7365a8</td>\n",
       "      <td>4</td>\n",
       "    </tr>\n",
       "    <tr>\n",
       "      <th>8</th>\n",
       "      <td>ff69a6fc8</td>\n",
       "      <td>4</td>\n",
       "    </tr>\n",
       "    <tr>\n",
       "      <th>9</th>\n",
       "      <td>b61e2bb92</td>\n",
       "      <td>4</td>\n",
       "    </tr>\n",
       "    <tr>\n",
       "      <th>12</th>\n",
       "      <td>a499b6c30</td>\n",
       "      <td>4</td>\n",
       "    </tr>\n",
       "    <tr>\n",
       "      <th>13</th>\n",
       "      <td>f751b9e44</td>\n",
       "      <td>4</td>\n",
       "    </tr>\n",
       "    <tr>\n",
       "      <th>21</th>\n",
       "      <td>ba1262b51</td>\n",
       "      <td>4</td>\n",
       "    </tr>\n",
       "    <tr>\n",
       "      <th>23</th>\n",
       "      <td>d5a0a19d8</td>\n",
       "      <td>4</td>\n",
       "    </tr>\n",
       "    <tr>\n",
       "      <th>25</th>\n",
       "      <td>23eb5e435</td>\n",
       "      <td>4</td>\n",
       "    </tr>\n",
       "    <tr>\n",
       "      <th>29</th>\n",
       "      <td>8f4413ade</td>\n",
       "      <td>4</td>\n",
       "    </tr>\n",
       "    <tr>\n",
       "      <th>33</th>\n",
       "      <td>304cd179b</td>\n",
       "      <td>4</td>\n",
       "    </tr>\n",
       "    <tr>\n",
       "      <th>34</th>\n",
       "      <td>23f963963</td>\n",
       "      <td>4</td>\n",
       "    </tr>\n",
       "    <tr>\n",
       "      <th>38</th>\n",
       "      <td>9538b192e</td>\n",
       "      <td>4</td>\n",
       "    </tr>\n",
       "    <tr>\n",
       "      <th>42</th>\n",
       "      <td>0e00a3d3c</td>\n",
       "      <td>4</td>\n",
       "    </tr>\n",
       "  </tbody>\n",
       "</table>\n",
       "</div>"
      ],
      "text/plain": [
       "           ID  Target\n",
       "2   72958b30c       4\n",
       "3   5b598fbc9       4\n",
       "6   8ee7365a8       4\n",
       "8   ff69a6fc8       4\n",
       "9   b61e2bb92       4\n",
       "12  a499b6c30       4\n",
       "13  f751b9e44       4\n",
       "21  ba1262b51       4\n",
       "23  d5a0a19d8       4\n",
       "25  23eb5e435       4\n",
       "29  8f4413ade       4\n",
       "33  304cd179b       4\n",
       "34  23f963963       4\n",
       "38  9538b192e       4\n",
       "42  0e00a3d3c       4"
      ]
     },
     "execution_count": 264,
     "metadata": {},
     "output_type": "execute_result"
    }
   ],
   "source": [
    "final.head(15)"
   ]
  },
  {
   "cell_type": "code",
   "execution_count": 255,
   "metadata": {},
   "outputs": [
    {
     "data": {
      "text/plain": [
       "4    5548\n",
       "2     852\n",
       "3     450\n",
       "1     328\n",
       "Name: Target, dtype: int64"
      ]
     },
     "execution_count": 255,
     "metadata": {},
     "output_type": "execute_result"
    },
    {
     "data": {
      "image/png": "[encoded data removed]",
      "text/plain": [
       "<Figure size 504x288 with 1 Axes>"
      ]
     },
     "metadata": {},
     "output_type": "display_data"
    }
   ],
   "source": [
    "# Plot the predicted labels\n",
    "\n",
    "rcParams['figure.figsize'] = 7, 4\n",
    "\n",
    "final['Target'].sort_index().plot.hist()\n",
    "final['Target'].value_counts()"
   ]
  },
  {
   "cell_type": "code",
   "execution_count": null,
   "metadata": {},
   "outputs": [],
   "source": []
  },
  {
   "cell_type": "code",
   "execution_count": null,
   "metadata": {},
   "outputs": [],
   "source": []
  },
  {
   "cell_type": "code",
   "execution_count": 256,
   "metadata": {},
   "outputs": [],
   "source": []
  },
  {
   "cell_type": "code",
   "execution_count": 257,
   "metadata": {},
   "outputs": [],
   "source": []
  },
  {
   "cell_type": "code",
   "execution_count": null,
   "metadata": {},
   "outputs": [],
   "source": []
  },
  {
   "cell_type": "code",
   "execution_count": 259,
   "metadata": {},
   "outputs": [],
   "source": []
  },
  {
   "cell_type": "code",
   "execution_count": null,
   "metadata": {},
   "outputs": [],
   "source": []
  },
  {
   "cell_type": "code",
   "execution_count": null,
   "metadata": {},
   "outputs": [],
   "source": []
  },
  {
   "cell_type": "code",
   "execution_count": null,
   "metadata": {},
   "outputs": [],
   "source": []
  },
  {
   "cell_type": "code",
   "execution_count": 262,
   "metadata": {},
   "outputs": [],
   "source": []
  },
  {
   "cell_type": "code",
   "execution_count": null,
   "metadata": {},
   "outputs": [],
   "source": []
  },
  {
   "cell_type": "code",
   "execution_count": null,
   "metadata": {},
   "outputs": [],
   "source": []
  },
  {
   "cell_type": "markdown",
   "metadata": {},
   "source": [
    "Grid Search\n",
    "\n",
    "On combine autant de paramètres que de modèles\n",
    "\n",
    "max depth = [a, b]\n",
    "n_estimators = [i, j, k]\n",
    "\n",
    "GridSearchCV\n",
    "\n",
    "je sélectionne le modèle avec les hyperparamètres qui ont les meilleurs scores sur le TRAIN\n",
    "puis je l'applique sur le TEST"
   ]
  },
  {
   "cell_type": "code",
   "execution_count": null,
   "metadata": {},
   "outputs": [],
   "source": [
    "# lancer plein de modèles avec 1 CV pour justifier mon choix de modèle\n",
    "# pour le modèle choisi, itérer Grid Search : 1 CV par jeu de paramètres"
   ]
  }
 ],
 "metadata": {
  "celltoolbar": "Format de la Cellule Texte Brut",
  "kernelspec": {
   "display_name": "Python 3",
   "language": "python",
   "name": "python3"
  },
  "language_info": {
   "codemirror_mode": {
    "name": "ipython",
    "version": 3
   },
   "file_extension": ".py",
   "mimetype": "text/x-python",
   "name": "python",
   "nbconvert_exporter": "python",
   "pygments_lexer": "ipython3",
   "version": "3.7.3"
  }
 },
 "nbformat": 4,
 "nbformat_minor": 2
}
